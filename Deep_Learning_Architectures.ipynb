{
  "nbformat": 4,
  "nbformat_minor": 0,
  "metadata": {
    "colab": {
      "name": "Deep-Learning-Architectures.ipynb",
      "provenance": [],
      "collapsed_sections": [],
      "authorship_tag": "ABX9TyPyu4RQmjvVrPWWWYwW6wJt",
      "include_colab_link": true
    },
    "kernelspec": {
      "name": "python3",
      "display_name": "Python 3"
    }
  },
  "cells": [
    {
      "cell_type": "markdown",
      "metadata": {
        "id": "view-in-github",
        "colab_type": "text"
      },
      "source": [
        "<a href=\"https://colab.research.google.com/github/nachovera93/IA-Documents/blob/main/Deep_Learning_Architectures.ipynb\" target=\"_parent\"><img src=\"https://colab.research.google.com/assets/colab-badge.svg\" alt=\"Open In Colab\"/></a>"
      ]
    },
    {
      "cell_type": "markdown",
      "metadata": {
        "id": "fPBaX_wUcLKa"
      },
      "source": [
        "##**Deep Learning Architectures**\n",
        "\n",
        "<br>\n",
        "\n",
        "![Arch](https://drive.google.com/uc?export=view&id=1FNPy1YYIw28A20bRBBYxUwAugzoQn0ax)\n",
        "\n",
        "<br>\n",
        "\n",
        "\n",
        "###**VGG-19/19**\n",
        "\n",
        "<br>\n",
        "\n",
        "La mayoria de los cambios de esta arquitectura se basan en el Campo Receptivo  \n",
        "\n",
        "<br>\n",
        "\n",
        "\n",
        "![Receptive-Field](https://drive.google.com/uc?export=view&id=1MNYgPFLXvEYe9IdKt_gqoWnRfwgC9se_)\n",
        "\n",
        "<br>\n",
        "\n",
        "El campo receptivo se refiere a la parte del input que \n",
        "corresponde o que se uso para generar el valor del filtro. La capa 3 de neuronas esta construida por filtros de 3x3, pero tiene un campo receptivo de 5x5. Ya que contiene toda la información de la primera capa.\n",
        "\n",
        "<br>\n",
        "\n",
        "![2](https://drive.google.com/uc?export=view&id=1CvB_JSil-hW8FS9Cu9svcCuV31qIIbZ9)\n",
        "\n",
        "\n",
        "<br>\n",
        "\n",
        "\n",
        "VGG Es parecida a AlexNet con diferencias como por ejemplo, todas las capas tienen max-pooling, y tiene filtros de solo 3x3. Y aqui esta la clave ya que la composición de los filtros de 3x3 tiene el mismo campo receptivo que los filtros más grandes pero usa menos parámetros \n",
        "* Una sola capa con un filtro de 5x5 tiene un campo receptivo de 5x5 y 25 parámetros \n",
        "* Dos capas apiladas con filtros de 3x3 tienen un campo receptivo de 5x5 y 18 parámetros (3x3x2) \n",
        "* Menos parámetros implican menos tiempo de predicción y menos sobreajuste\n",
        "\n",
        "<br>\n",
        "\n",
        "Aqui se muestran las diferentes configuraciones que se probarón con VGG. Desde 11 a 19 capas de pesos.\n",
        "\n",
        "<br>\n",
        "\n",
        "![3](https://drive.google.com/uc?export=view&id=1Vjfg3L6yakhe6HAmoVbud59KxuPdzGYM)\n",
        "\n",
        "<br>\n",
        "\n",
        "##**Inception**\n",
        "\n",
        "<br>\n",
        "\n",
        "* Detección multiescala.\n",
        "* Reduce el numero de parametros y operaciones.\n",
        "\n",
        "<br>\n",
        "\n",
        "![4](https://drive.google.com/uc?export=view&id=1NPeZ9YZxos5hKbJ0_w_tFwaNjGkDkxW4)\n",
        "(a)Inception Module, naive version.\n",
        "\n",
        "\n",
        "<br>\n",
        "\n",
        "> Los objetos en una imagen pueden ser de múltiples escalas \n",
        "* La información de objetos de baja escala se puede capturar con filtros pequeños \n",
        "* Los objetos de gran escala necesitan filtros más grandes (o redes más profundas, recuerde el campo receptivo) \n",
        "\n",
        "> Idea \n",
        "* Tener múltiples tamaños de filtro en la misma capa y concatenar sus resultados \n",
        "* Deje que la red aprenda qué filtros son más útiles\n",
        "\n",
        "<br>\n",
        "\n",
        "\n",
        "![5](https://drive.google.com/uc?export=view&id=1tkYAJehvoXlHOzRXe5DPLTOd1Am-Y08t)\n",
        "(b)Inception module with\n",
        "\n",
        "![6](https://drive.google.com/uc?export=view&id=1lPc30zGqREs0vR7EcFZsUmSfM0zfzfDQ)"
      ]
    },
    {
      "cell_type": "code",
      "metadata": {
        "id": "P0NinJFRcExG"
      },
      "source": [
        ""
      ],
      "execution_count": null,
      "outputs": []
    }
  ]
}