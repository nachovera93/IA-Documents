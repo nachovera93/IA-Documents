{
  "nbformat": 4,
  "nbformat_minor": 0,
  "metadata": {
    "colab": {
      "name": "Herramientas-Deep-Learning.ipynb",
      "provenance": [],
      "authorship_tag": "ABX9TyNHwv4d2uzfJeODXajxqDNN",
      "include_colab_link": true
    },
    "kernelspec": {
      "name": "python3",
      "display_name": "Python 3"
    }
  },
  "cells": [
    {
      "cell_type": "markdown",
      "metadata": {
        "id": "view-in-github",
        "colab_type": "text"
      },
      "source": [
        "<a href=\"https://colab.research.google.com/github/nachovera93/IA-Documents/blob/main/Herramientas_Deep_Learning.ipynb\" target=\"_parent\"><img src=\"https://colab.research.google.com/assets/colab-badge.svg\" alt=\"Open In Colab\"/></a>"
      ]
    },
    {
      "cell_type": "markdown",
      "metadata": {
        "id": "_oT0xBeP_0Ur"
      },
      "source": [
        "##**Funciones de perdida**\n",
        "<br>\n",
        "\n",
        "Cuantifica que tan bien estan nuestras etiquetas de clase predichas con respecto a nuestras etiquetas de verdad, el objetivo es minimizar la función de perdida.\n",
        "<br>\n",
        "\n",
        "El mejor modelo es aquel que minimiza la función de perdida en promedio para todos los datos posibles. Como dificilmente tenemos acceso a todos los datos posibles, se estima buscandolo en el set de entrenamiento.\n",
        "<br>\n",
        "\n",
        "\n",
        "![FunciondePerdida](https://drive.google.com/uc?export=view&id=1IVV8rnNJg65sfCd0o5B7_Sgs27wndXbP)\n",
        "\n",
        "<br>\n",
        "\n",
        "f* = Modelo optimo\n",
        "<br>\n",
        "\n",
        "En el caso general aproximaremos el modelo optimo al mejor modelo en el set de training. \n",
        "El mejor modelo del set de training será aquel que en el espacio hipotesis (f E H) minimice nuestra funcion de perdida en promedio.\n",
        "\n",
        "<br>\n",
        "\n",
        "En el caso supervisado, la diferencia viene dad porque la función  de perdida tambien dependerá de la clase o label y no solamente del dato.\n",
        "\n",
        "<br>\n",
        "\n",
        "###**Función de perdida MSE**\n",
        "<br>\n",
        "\n",
        "MSE(Error cuadratico medio)\n",
        "<br>\n",
        "Será el promedio entre la diferencia entre la predicción o clase predicha y el objetivo real al cuadrado.\n",
        "\n",
        "<br>\n",
        "\n",
        "![MSE](https://drive.google.com/uc?export=view&id=1l_XBp514M7Z39rrHJTc5QVy_A4JMR5Xj)\n",
        "\n",
        "<br>\n",
        "\n",
        "El termino al cuadrado penaliza mas nuestra perdida al elevar al cuadrado la salida (crecimiento cuadratico de la salida).\n",
        "<br>\n",
        "\n",
        "El que tiene mejor MSE es el modelo de la derecha.\n",
        "\n"
      ]
    }
  ]
}