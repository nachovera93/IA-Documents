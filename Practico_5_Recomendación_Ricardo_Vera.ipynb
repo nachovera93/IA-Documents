{
  "nbformat": 4,
  "nbformat_minor": 0,
  "metadata": {
    "colab": {
      "name": "Practico_5_Recomendación-Ricardo_Vera.ipynb",
      "provenance": [],
      "collapsed_sections": [
        "fH1tvpj3vtDT",
        "sdIHECXCVool"
      ],
      "toc_visible": true,
      "include_colab_link": true
    },
    "kernelspec": {
      "name": "python3",
      "display_name": "Python 3"
    },
    "widgets": {
      "application/vnd.jupyter.widget-state+json": {
        "13f0c147d8ce4e14aa2031f44cef3c05": {
          "model_module": "@jupyter-widgets/controls",
          "model_name": "HBoxModel",
          "state": {
            "_view_name": "HBoxView",
            "_dom_classes": [],
            "_model_name": "HBoxModel",
            "_view_module": "@jupyter-widgets/controls",
            "_model_module_version": "1.5.0",
            "_view_count": null,
            "_view_module_version": "1.5.0",
            "box_style": "",
            "layout": "IPY_MODEL_86bc97f74a4b47afba075287d66068f0",
            "_model_module": "@jupyter-widgets/controls",
            "children": [
              "IPY_MODEL_574688d543824cdabdd93b88462557f4",
              "IPY_MODEL_bae542d3e4534e25bad4ebe2b3474a87"
            ]
          }
        },
        "86bc97f74a4b47afba075287d66068f0": {
          "model_module": "@jupyter-widgets/base",
          "model_name": "LayoutModel",
          "state": {
            "_view_name": "LayoutView",
            "grid_template_rows": null,
            "right": null,
            "justify_content": null,
            "_view_module": "@jupyter-widgets/base",
            "overflow": null,
            "_model_module_version": "1.2.0",
            "_view_count": null,
            "flex_flow": null,
            "width": null,
            "min_width": null,
            "border": null,
            "align_items": null,
            "bottom": null,
            "_model_module": "@jupyter-widgets/base",
            "top": null,
            "grid_column": null,
            "overflow_y": null,
            "overflow_x": null,
            "grid_auto_flow": null,
            "grid_area": null,
            "grid_template_columns": null,
            "flex": null,
            "_model_name": "LayoutModel",
            "justify_items": null,
            "grid_row": null,
            "max_height": null,
            "align_content": null,
            "visibility": null,
            "align_self": null,
            "height": null,
            "min_height": null,
            "padding": null,
            "grid_auto_rows": null,
            "grid_gap": null,
            "max_width": null,
            "order": null,
            "_view_module_version": "1.2.0",
            "grid_template_areas": null,
            "object_position": null,
            "object_fit": null,
            "grid_auto_columns": null,
            "margin": null,
            "display": null,
            "left": null
          }
        },
        "574688d543824cdabdd93b88462557f4": {
          "model_module": "@jupyter-widgets/controls",
          "model_name": "FloatProgressModel",
          "state": {
            "_view_name": "ProgressView",
            "style": "IPY_MODEL_4092af929d7e43b8b6b3482e857e5a46",
            "_dom_classes": [],
            "description": "Downloading: 100%",
            "_model_name": "FloatProgressModel",
            "bar_style": "success",
            "max": 231508,
            "_view_module": "@jupyter-widgets/controls",
            "_model_module_version": "1.5.0",
            "value": 231508,
            "_view_count": null,
            "_view_module_version": "1.5.0",
            "orientation": "horizontal",
            "min": 0,
            "description_tooltip": null,
            "_model_module": "@jupyter-widgets/controls",
            "layout": "IPY_MODEL_999c591a40174278847edf0235f2aa77"
          }
        },
        "bae542d3e4534e25bad4ebe2b3474a87": {
          "model_module": "@jupyter-widgets/controls",
          "model_name": "HTMLModel",
          "state": {
            "_view_name": "HTMLView",
            "style": "IPY_MODEL_3c13d4753e864e9aab49f986d9b5cbf0",
            "_dom_classes": [],
            "description": "",
            "_model_name": "HTMLModel",
            "placeholder": "​",
            "_view_module": "@jupyter-widgets/controls",
            "_model_module_version": "1.5.0",
            "value": " 232k/232k [00:00&lt;00:00, 927kB/s]",
            "_view_count": null,
            "_view_module_version": "1.5.0",
            "description_tooltip": null,
            "_model_module": "@jupyter-widgets/controls",
            "layout": "IPY_MODEL_5fece884a77c4cf19cad6bf213d4b926"
          }
        },
        "4092af929d7e43b8b6b3482e857e5a46": {
          "model_module": "@jupyter-widgets/controls",
          "model_name": "ProgressStyleModel",
          "state": {
            "_view_name": "StyleView",
            "_model_name": "ProgressStyleModel",
            "description_width": "initial",
            "_view_module": "@jupyter-widgets/base",
            "_model_module_version": "1.5.0",
            "_view_count": null,
            "_view_module_version": "1.2.0",
            "bar_color": null,
            "_model_module": "@jupyter-widgets/controls"
          }
        },
        "999c591a40174278847edf0235f2aa77": {
          "model_module": "@jupyter-widgets/base",
          "model_name": "LayoutModel",
          "state": {
            "_view_name": "LayoutView",
            "grid_template_rows": null,
            "right": null,
            "justify_content": null,
            "_view_module": "@jupyter-widgets/base",
            "overflow": null,
            "_model_module_version": "1.2.0",
            "_view_count": null,
            "flex_flow": null,
            "width": null,
            "min_width": null,
            "border": null,
            "align_items": null,
            "bottom": null,
            "_model_module": "@jupyter-widgets/base",
            "top": null,
            "grid_column": null,
            "overflow_y": null,
            "overflow_x": null,
            "grid_auto_flow": null,
            "grid_area": null,
            "grid_template_columns": null,
            "flex": null,
            "_model_name": "LayoutModel",
            "justify_items": null,
            "grid_row": null,
            "max_height": null,
            "align_content": null,
            "visibility": null,
            "align_self": null,
            "height": null,
            "min_height": null,
            "padding": null,
            "grid_auto_rows": null,
            "grid_gap": null,
            "max_width": null,
            "order": null,
            "_view_module_version": "1.2.0",
            "grid_template_areas": null,
            "object_position": null,
            "object_fit": null,
            "grid_auto_columns": null,
            "margin": null,
            "display": null,
            "left": null
          }
        },
        "3c13d4753e864e9aab49f986d9b5cbf0": {
          "model_module": "@jupyter-widgets/controls",
          "model_name": "DescriptionStyleModel",
          "state": {
            "_view_name": "StyleView",
            "_model_name": "DescriptionStyleModel",
            "description_width": "",
            "_view_module": "@jupyter-widgets/base",
            "_model_module_version": "1.5.0",
            "_view_count": null,
            "_view_module_version": "1.2.0",
            "_model_module": "@jupyter-widgets/controls"
          }
        },
        "5fece884a77c4cf19cad6bf213d4b926": {
          "model_module": "@jupyter-widgets/base",
          "model_name": "LayoutModel",
          "state": {
            "_view_name": "LayoutView",
            "grid_template_rows": null,
            "right": null,
            "justify_content": null,
            "_view_module": "@jupyter-widgets/base",
            "overflow": null,
            "_model_module_version": "1.2.0",
            "_view_count": null,
            "flex_flow": null,
            "width": null,
            "min_width": null,
            "border": null,
            "align_items": null,
            "bottom": null,
            "_model_module": "@jupyter-widgets/base",
            "top": null,
            "grid_column": null,
            "overflow_y": null,
            "overflow_x": null,
            "grid_auto_flow": null,
            "grid_area": null,
            "grid_template_columns": null,
            "flex": null,
            "_model_name": "LayoutModel",
            "justify_items": null,
            "grid_row": null,
            "max_height": null,
            "align_content": null,
            "visibility": null,
            "align_self": null,
            "height": null,
            "min_height": null,
            "padding": null,
            "grid_auto_rows": null,
            "grid_gap": null,
            "max_width": null,
            "order": null,
            "_view_module_version": "1.2.0",
            "grid_template_areas": null,
            "object_position": null,
            "object_fit": null,
            "grid_auto_columns": null,
            "margin": null,
            "display": null,
            "left": null
          }
        },
        "89acb0557c4f4c1d8121b5fe4058687e": {
          "model_module": "@jupyter-widgets/controls",
          "model_name": "HBoxModel",
          "state": {
            "_view_name": "HBoxView",
            "_dom_classes": [],
            "_model_name": "HBoxModel",
            "_view_module": "@jupyter-widgets/controls",
            "_model_module_version": "1.5.0",
            "_view_count": null,
            "_view_module_version": "1.5.0",
            "box_style": "",
            "layout": "IPY_MODEL_8dcc025f5d8743fba04674834f7d2094",
            "_model_module": "@jupyter-widgets/controls",
            "children": [
              "IPY_MODEL_2ff4947922b9485c95590a265f2f11bb",
              "IPY_MODEL_805f60522833453c9510f1594ca1eb8e"
            ]
          }
        },
        "8dcc025f5d8743fba04674834f7d2094": {
          "model_module": "@jupyter-widgets/base",
          "model_name": "LayoutModel",
          "state": {
            "_view_name": "LayoutView",
            "grid_template_rows": null,
            "right": null,
            "justify_content": null,
            "_view_module": "@jupyter-widgets/base",
            "overflow": null,
            "_model_module_version": "1.2.0",
            "_view_count": null,
            "flex_flow": null,
            "width": null,
            "min_width": null,
            "border": null,
            "align_items": null,
            "bottom": null,
            "_model_module": "@jupyter-widgets/base",
            "top": null,
            "grid_column": null,
            "overflow_y": null,
            "overflow_x": null,
            "grid_auto_flow": null,
            "grid_area": null,
            "grid_template_columns": null,
            "flex": null,
            "_model_name": "LayoutModel",
            "justify_items": null,
            "grid_row": null,
            "max_height": null,
            "align_content": null,
            "visibility": null,
            "align_self": null,
            "height": null,
            "min_height": null,
            "padding": null,
            "grid_auto_rows": null,
            "grid_gap": null,
            "max_width": null,
            "order": null,
            "_view_module_version": "1.2.0",
            "grid_template_areas": null,
            "object_position": null,
            "object_fit": null,
            "grid_auto_columns": null,
            "margin": null,
            "display": null,
            "left": null
          }
        },
        "2ff4947922b9485c95590a265f2f11bb": {
          "model_module": "@jupyter-widgets/controls",
          "model_name": "FloatProgressModel",
          "state": {
            "_view_name": "ProgressView",
            "style": "IPY_MODEL_4c628a06c8c44aa4ba2e4d24b8d4f0d5",
            "_dom_classes": [],
            "description": "Downloading: 100%",
            "_model_name": "FloatProgressModel",
            "bar_style": "success",
            "max": 433,
            "_view_module": "@jupyter-widgets/controls",
            "_model_module_version": "1.5.0",
            "value": 433,
            "_view_count": null,
            "_view_module_version": "1.5.0",
            "orientation": "horizontal",
            "min": 0,
            "description_tooltip": null,
            "_model_module": "@jupyter-widgets/controls",
            "layout": "IPY_MODEL_b40f2def967a4b52852356df9f04b25d"
          }
        },
        "805f60522833453c9510f1594ca1eb8e": {
          "model_module": "@jupyter-widgets/controls",
          "model_name": "HTMLModel",
          "state": {
            "_view_name": "HTMLView",
            "style": "IPY_MODEL_06ca4a5601bf4ca6905eb8a93cd26cd2",
            "_dom_classes": [],
            "description": "",
            "_model_name": "HTMLModel",
            "placeholder": "​",
            "_view_module": "@jupyter-widgets/controls",
            "_model_module_version": "1.5.0",
            "value": " 433/433 [00:07&lt;00:00, 59.1B/s]",
            "_view_count": null,
            "_view_module_version": "1.5.0",
            "description_tooltip": null,
            "_model_module": "@jupyter-widgets/controls",
            "layout": "IPY_MODEL_c0f82625bc7642ad93e23668e07bac07"
          }
        },
        "4c628a06c8c44aa4ba2e4d24b8d4f0d5": {
          "model_module": "@jupyter-widgets/controls",
          "model_name": "ProgressStyleModel",
          "state": {
            "_view_name": "StyleView",
            "_model_name": "ProgressStyleModel",
            "description_width": "initial",
            "_view_module": "@jupyter-widgets/base",
            "_model_module_version": "1.5.0",
            "_view_count": null,
            "_view_module_version": "1.2.0",
            "bar_color": null,
            "_model_module": "@jupyter-widgets/controls"
          }
        },
        "b40f2def967a4b52852356df9f04b25d": {
          "model_module": "@jupyter-widgets/base",
          "model_name": "LayoutModel",
          "state": {
            "_view_name": "LayoutView",
            "grid_template_rows": null,
            "right": null,
            "justify_content": null,
            "_view_module": "@jupyter-widgets/base",
            "overflow": null,
            "_model_module_version": "1.2.0",
            "_view_count": null,
            "flex_flow": null,
            "width": null,
            "min_width": null,
            "border": null,
            "align_items": null,
            "bottom": null,
            "_model_module": "@jupyter-widgets/base",
            "top": null,
            "grid_column": null,
            "overflow_y": null,
            "overflow_x": null,
            "grid_auto_flow": null,
            "grid_area": null,
            "grid_template_columns": null,
            "flex": null,
            "_model_name": "LayoutModel",
            "justify_items": null,
            "grid_row": null,
            "max_height": null,
            "align_content": null,
            "visibility": null,
            "align_self": null,
            "height": null,
            "min_height": null,
            "padding": null,
            "grid_auto_rows": null,
            "grid_gap": null,
            "max_width": null,
            "order": null,
            "_view_module_version": "1.2.0",
            "grid_template_areas": null,
            "object_position": null,
            "object_fit": null,
            "grid_auto_columns": null,
            "margin": null,
            "display": null,
            "left": null
          }
        },
        "06ca4a5601bf4ca6905eb8a93cd26cd2": {
          "model_module": "@jupyter-widgets/controls",
          "model_name": "DescriptionStyleModel",
          "state": {
            "_view_name": "StyleView",
            "_model_name": "DescriptionStyleModel",
            "description_width": "",
            "_view_module": "@jupyter-widgets/base",
            "_model_module_version": "1.5.0",
            "_view_count": null,
            "_view_module_version": "1.2.0",
            "_model_module": "@jupyter-widgets/controls"
          }
        },
        "c0f82625bc7642ad93e23668e07bac07": {
          "model_module": "@jupyter-widgets/base",
          "model_name": "LayoutModel",
          "state": {
            "_view_name": "LayoutView",
            "grid_template_rows": null,
            "right": null,
            "justify_content": null,
            "_view_module": "@jupyter-widgets/base",
            "overflow": null,
            "_model_module_version": "1.2.0",
            "_view_count": null,
            "flex_flow": null,
            "width": null,
            "min_width": null,
            "border": null,
            "align_items": null,
            "bottom": null,
            "_model_module": "@jupyter-widgets/base",
            "top": null,
            "grid_column": null,
            "overflow_y": null,
            "overflow_x": null,
            "grid_auto_flow": null,
            "grid_area": null,
            "grid_template_columns": null,
            "flex": null,
            "_model_name": "LayoutModel",
            "justify_items": null,
            "grid_row": null,
            "max_height": null,
            "align_content": null,
            "visibility": null,
            "align_self": null,
            "height": null,
            "min_height": null,
            "padding": null,
            "grid_auto_rows": null,
            "grid_gap": null,
            "max_width": null,
            "order": null,
            "_view_module_version": "1.2.0",
            "grid_template_areas": null,
            "object_position": null,
            "object_fit": null,
            "grid_auto_columns": null,
            "margin": null,
            "display": null,
            "left": null
          }
        },
        "a99898e5898e45a3ada50285511e5386": {
          "model_module": "@jupyter-widgets/controls",
          "model_name": "HBoxModel",
          "state": {
            "_view_name": "HBoxView",
            "_dom_classes": [],
            "_model_name": "HBoxModel",
            "_view_module": "@jupyter-widgets/controls",
            "_model_module_version": "1.5.0",
            "_view_count": null,
            "_view_module_version": "1.5.0",
            "box_style": "",
            "layout": "IPY_MODEL_fabc9ba687844d2c8ce3df8b289ea7c7",
            "_model_module": "@jupyter-widgets/controls",
            "children": [
              "IPY_MODEL_4e28e43b0bf74ceea81d3b7da542f8f8",
              "IPY_MODEL_ee9c1814042a4a768331f6821e5a04e0"
            ]
          }
        },
        "fabc9ba687844d2c8ce3df8b289ea7c7": {
          "model_module": "@jupyter-widgets/base",
          "model_name": "LayoutModel",
          "state": {
            "_view_name": "LayoutView",
            "grid_template_rows": null,
            "right": null,
            "justify_content": null,
            "_view_module": "@jupyter-widgets/base",
            "overflow": null,
            "_model_module_version": "1.2.0",
            "_view_count": null,
            "flex_flow": null,
            "width": null,
            "min_width": null,
            "border": null,
            "align_items": null,
            "bottom": null,
            "_model_module": "@jupyter-widgets/base",
            "top": null,
            "grid_column": null,
            "overflow_y": null,
            "overflow_x": null,
            "grid_auto_flow": null,
            "grid_area": null,
            "grid_template_columns": null,
            "flex": null,
            "_model_name": "LayoutModel",
            "justify_items": null,
            "grid_row": null,
            "max_height": null,
            "align_content": null,
            "visibility": null,
            "align_self": null,
            "height": null,
            "min_height": null,
            "padding": null,
            "grid_auto_rows": null,
            "grid_gap": null,
            "max_width": null,
            "order": null,
            "_view_module_version": "1.2.0",
            "grid_template_areas": null,
            "object_position": null,
            "object_fit": null,
            "grid_auto_columns": null,
            "margin": null,
            "display": null,
            "left": null
          }
        },
        "4e28e43b0bf74ceea81d3b7da542f8f8": {
          "model_module": "@jupyter-widgets/controls",
          "model_name": "FloatProgressModel",
          "state": {
            "_view_name": "ProgressView",
            "style": "IPY_MODEL_05e72e67b53c4413baca12947aabcea6",
            "_dom_classes": [],
            "description": "Downloading: 100%",
            "_model_name": "FloatProgressModel",
            "bar_style": "success",
            "max": 440473133,
            "_view_module": "@jupyter-widgets/controls",
            "_model_module_version": "1.5.0",
            "value": 440473133,
            "_view_count": null,
            "_view_module_version": "1.5.0",
            "orientation": "horizontal",
            "min": 0,
            "description_tooltip": null,
            "_model_module": "@jupyter-widgets/controls",
            "layout": "IPY_MODEL_9911dd4875d144b48c5f49256877c758"
          }
        },
        "ee9c1814042a4a768331f6821e5a04e0": {
          "model_module": "@jupyter-widgets/controls",
          "model_name": "HTMLModel",
          "state": {
            "_view_name": "HTMLView",
            "style": "IPY_MODEL_90ee0f4f0089440da0ad61790cbd62e6",
            "_dom_classes": [],
            "description": "",
            "_model_name": "HTMLModel",
            "placeholder": "​",
            "_view_module": "@jupyter-widgets/controls",
            "_model_module_version": "1.5.0",
            "value": " 440M/440M [00:06&lt;00:00, 65.7MB/s]",
            "_view_count": null,
            "_view_module_version": "1.5.0",
            "description_tooltip": null,
            "_model_module": "@jupyter-widgets/controls",
            "layout": "IPY_MODEL_b7ddf0995151422da4a8afadb75221d4"
          }
        },
        "05e72e67b53c4413baca12947aabcea6": {
          "model_module": "@jupyter-widgets/controls",
          "model_name": "ProgressStyleModel",
          "state": {
            "_view_name": "StyleView",
            "_model_name": "ProgressStyleModel",
            "description_width": "initial",
            "_view_module": "@jupyter-widgets/base",
            "_model_module_version": "1.5.0",
            "_view_count": null,
            "_view_module_version": "1.2.0",
            "bar_color": null,
            "_model_module": "@jupyter-widgets/controls"
          }
        },
        "9911dd4875d144b48c5f49256877c758": {
          "model_module": "@jupyter-widgets/base",
          "model_name": "LayoutModel",
          "state": {
            "_view_name": "LayoutView",
            "grid_template_rows": null,
            "right": null,
            "justify_content": null,
            "_view_module": "@jupyter-widgets/base",
            "overflow": null,
            "_model_module_version": "1.2.0",
            "_view_count": null,
            "flex_flow": null,
            "width": null,
            "min_width": null,
            "border": null,
            "align_items": null,
            "bottom": null,
            "_model_module": "@jupyter-widgets/base",
            "top": null,
            "grid_column": null,
            "overflow_y": null,
            "overflow_x": null,
            "grid_auto_flow": null,
            "grid_area": null,
            "grid_template_columns": null,
            "flex": null,
            "_model_name": "LayoutModel",
            "justify_items": null,
            "grid_row": null,
            "max_height": null,
            "align_content": null,
            "visibility": null,
            "align_self": null,
            "height": null,
            "min_height": null,
            "padding": null,
            "grid_auto_rows": null,
            "grid_gap": null,
            "max_width": null,
            "order": null,
            "_view_module_version": "1.2.0",
            "grid_template_areas": null,
            "object_position": null,
            "object_fit": null,
            "grid_auto_columns": null,
            "margin": null,
            "display": null,
            "left": null
          }
        },
        "90ee0f4f0089440da0ad61790cbd62e6": {
          "model_module": "@jupyter-widgets/controls",
          "model_name": "DescriptionStyleModel",
          "state": {
            "_view_name": "StyleView",
            "_model_name": "DescriptionStyleModel",
            "description_width": "",
            "_view_module": "@jupyter-widgets/base",
            "_model_module_version": "1.5.0",
            "_view_count": null,
            "_view_module_version": "1.2.0",
            "_model_module": "@jupyter-widgets/controls"
          }
        },
        "b7ddf0995151422da4a8afadb75221d4": {
          "model_module": "@jupyter-widgets/base",
          "model_name": "LayoutModel",
          "state": {
            "_view_name": "LayoutView",
            "grid_template_rows": null,
            "right": null,
            "justify_content": null,
            "_view_module": "@jupyter-widgets/base",
            "overflow": null,
            "_model_module_version": "1.2.0",
            "_view_count": null,
            "flex_flow": null,
            "width": null,
            "min_width": null,
            "border": null,
            "align_items": null,
            "bottom": null,
            "_model_module": "@jupyter-widgets/base",
            "top": null,
            "grid_column": null,
            "overflow_y": null,
            "overflow_x": null,
            "grid_auto_flow": null,
            "grid_area": null,
            "grid_template_columns": null,
            "flex": null,
            "_model_name": "LayoutModel",
            "justify_items": null,
            "grid_row": null,
            "max_height": null,
            "align_content": null,
            "visibility": null,
            "align_self": null,
            "height": null,
            "min_height": null,
            "padding": null,
            "grid_auto_rows": null,
            "grid_gap": null,
            "max_width": null,
            "order": null,
            "_view_module_version": "1.2.0",
            "grid_template_areas": null,
            "object_position": null,
            "object_fit": null,
            "grid_auto_columns": null,
            "margin": null,
            "display": null,
            "left": null
          }
        }
      }
    }
  },
  "cells": [
    {
      "cell_type": "markdown",
      "metadata": {
        "id": "view-in-github",
        "colab_type": "text"
      },
      "source": [
        "<a href=\"https://colab.research.google.com/github/nachovera93/IA-Documents/blob/main/Practico_5_Recomendaci%C3%B3n_Ricardo_Vera.ipynb\" target=\"_parent\"><img src=\"https://colab.research.google.com/assets/colab-badge.svg\" alt=\"Open In Colab\"/></a>"
      ]
    },
    {
      "cell_type": "markdown",
      "metadata": {
        "id": "fH1tvpj3vtDT"
      },
      "source": [
        "# **Diplomado IA: Inteligencia Artificial I - Parte 2**. <br> Práctico 5: Recomendación de Contenido\n",
        "---\n",
        "---\n",
        "\n",
        "**Profesores:**\n",
        "- Julio Hurtado\n",
        "- Felipe del Río\n",
        "\n",
        "**Ayudante:**\n",
        "\n",
        "---\n",
        "---"
      ]
    },
    {
      "cell_type": "markdown",
      "metadata": {
        "id": "DButPYXBwCpP"
      },
      "source": [
        "# Agenda"
      ]
    },
    {
      "cell_type": "markdown",
      "metadata": {
        "id": "DT_ikHrjv8pU"
      },
      "source": [
        "Diplomado IA: Inteligencia Artificial I - Parte 2.  Práctico 5: Recomendación de Contenido\n",
        "\n",
        "<!-- Agenda:\n",
        " * Problema\n",
        " * Preparación\n",
        " * Entrenamiento\n",
        " * Recomendación -->\n",
        "\n",
        "Problema\n",
        "\n",
        "Preparación\n",
        "\n",
        "> Datos\n",
        "\n",
        "> Instalación de librerias\n",
        "\n",
        "Entrenamiento\n",
        "\n",
        "> Dataset\n",
        "\n",
        "> Funciones de Entrenamiento\n",
        "\n",
        "> Funciones para mostrar resultados\n",
        "\n",
        "> Modelo\n",
        "\n",
        "> Entrenamiento\n",
        "\n",
        "Recomendación\n",
        "\n",
        "> Obtención de Descriptores\n",
        "\n",
        "> Encontrar similares\n",
        "\n",
        "> Recomendación\n",
        "\n",
        "> Metricas de Comparación\n"
      ]
    },
    {
      "cell_type": "markdown",
      "metadata": {
        "id": "gjjYnMxHdN_2"
      },
      "source": [
        "# Objetivo del Laboratorio\n",
        " \n",
        "Una parte importante para consolidar nuevos conocimientos es ponerlos en práctica. Después de algunas clases donde hemos visto varios métodos y algoritmos diferentes es bueno tomar una pausa para poder aplicar estos conocimientos. \n",
        "\n",
        "En este laboratorio los aplicaremos a un ejemplo más real que los que hemos visto en laboratorios pasados. El objetivo es corroborar el entendimiento de los conceptos claves, y que después podremos ser capaces de aplicarlos en diferentes problemas que nos podemos encontrar en la vida real.\n",
        "\n",
        "No solo los modelos tienen que aprender.\n"
      ]
    },
    {
      "cell_type": "markdown",
      "metadata": {
        "id": "sdIHECXCVool"
      },
      "source": [
        "## Problema\n",
        " \n",
        "En este laboratorio aplicaremos los conocimientos vistos en las clases anteriores para entrenar un modelo que pueda recomendar contenido a un usuario de una red social, en base a sus interacciones pasadas.\n",
        " \n",
        "En esta red social, una interacción está conformada por una imagen y un comentario, escrito por un usuario. El objetivo es generar una reacción en los usuarios, por lo que debemos recomendar o mostrarle imágenes de otros usuarios que tienen imágenes con textos similares. Por esta razón, tenemos que tener acceso tanto a las imágenes como al texto escrito por los usuarios para poder encontrar recomendaciones que causen un accionar en el usuario.\n"
      ]
    },
    {
      "cell_type": "markdown",
      "metadata": {
        "id": "jTo5gWSDwZLB"
      },
      "source": [
        "# Preparación\n",
        "## Datos\n",
        " \n",
        "Los datos son una de las partes más importantes al momento de entrenar modelos de aprendizaje. Si los datos no representan el problema que queremos resolver es muy difícil que nuestro modelo pueda encontrar una solución adecuada. De ahí viene la famosa expresión **\"garbage in, garbage out\"**.\n",
        " \n",
        "En esta oportunidad utilizaremos un dataset abierto creado a partir de la red social **Pinterest**. Este dataset nos entrega imágenes y un comentario creado por un usuario. Por razones de *copyright* no tenemos acceso a las imágenes mismas, ya que esto trasgredería los términos y condiciones de esta red social. Para compartir las imagenes, esta base de datos comparte los descriptores de estas, encontrados con un modelo pre-entrenados sobre Imagenet.\n",
        " \n",
        "Cada elemento de nuestro dataset está conformado por un par imagen-texto asociado a un usuario. Dado esto, definiremos como nuestra tarea, clasificar a qué usuario pertenece cada par imagen-texto del dataset.\n",
        " \n"
      ]
    },
    {
      "cell_type": "markdown",
      "metadata": {
        "id": "0sElUGrynyVe"
      },
      "source": [
        "![Untitled drawing.png](data:image/png;base64,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)"
      ]
    },
    {
      "cell_type": "markdown",
      "metadata": {
        "id": "ssNvJhdLnxbA"
      },
      "source": [
        "Para poder comenzar, lo primero que debemos hacer es descargar y descomprimir los archivos utilizando los siguientes comandos:"
      ]
    },
    {
      "cell_type": "code",
      "metadata": {
        "id": "qDJXI6zbFUPQ",
        "colab": {
          "base_uri": "https://localhost:8080/",
          "height": 237
        },
        "outputId": "25898cfd-7e85-41ac-e4b6-4ef83a4c2bf9"
      },
      "source": [
        "!wget https://md-datasets-cache-zipfiles-prod.s3.eu-west-1.amazonaws.com/fs4k2zc5j5-3.zip"
      ],
      "execution_count": null,
      "outputs": [
        {
          "output_type": "stream",
          "text": [
            "--2020-09-03 14:23:38--  https://md-datasets-cache-zipfiles-prod.s3.eu-west-1.amazonaws.com/fs4k2zc5j5-3.zip\n",
            "Resolving md-datasets-cache-zipfiles-prod.s3.eu-west-1.amazonaws.com (md-datasets-cache-zipfiles-prod.s3.eu-west-1.amazonaws.com)... 52.218.28.72\n",
            "Connecting to md-datasets-cache-zipfiles-prod.s3.eu-west-1.amazonaws.com (md-datasets-cache-zipfiles-prod.s3.eu-west-1.amazonaws.com)|52.218.28.72|:443... connected.\n",
            "HTTP request sent, awaiting response... 200 OK\n",
            "Length: 2160173792 (2.0G) [application/octet-stream]\n",
            "Saving to: ‘fs4k2zc5j5-3.zip’\n",
            "\n",
            "fs4k2zc5j5-3.zip    100%[===================>]   2.01G  21.5MB/s    in 98s     \n",
            "\n",
            "2020-09-03 14:25:16 (21.0 MB/s) - ‘fs4k2zc5j5-3.zip’ saved [2160173792/2160173792]\n",
            "\n"
          ],
          "name": "stdout"
        }
      ]
    },
    {
      "cell_type": "code",
      "metadata": {
        "id": "KKLWX1stFiFH",
        "colab": {
          "base_uri": "https://localhost:8080/",
          "height": 199
        },
        "outputId": "a881d78f-a93e-449e-b433-931f655aca6f"
      },
      "source": [
        "!unzip fs4k2zc5j5-3.zip"
      ],
      "execution_count": null,
      "outputs": [
        {
          "output_type": "stream",
          "text": [
            "Archive:  fs4k2zc5j5-3.zip\n",
            "  inflating: text_train.txt          \n",
            "  inflating: text_test.txt           \n",
            "  inflating: imag_val.txt            \n",
            "  inflating: val_test_users.txt      \n",
            "  inflating: images.rar              \n",
            "  inflating: imag_train.txt          \n",
            "  inflating: text_val.txt            \n",
            "  inflating: train_users.txt         \n",
            "  inflating: imag_test.txt           \n"
          ],
          "name": "stdout"
        }
      ]
    },
    {
      "cell_type": "code",
      "metadata": {
        "id": "_eZ-67EUNjrR",
        "colab": {
          "base_uri": "https://localhost:8080/",
          "height": 328
        },
        "outputId": "7ec0c51b-fe8c-4cb0-da9f-c05569235be1"
      },
      "source": [
        "!wget https://data.mendeley.com/public-files/datasets/fs4k2zc5j5/files/cc4e3cb0-f2cf-4f4a-9395-a8215dc68b45/file_downloaded\n",
        "!rm imag_train.txt\n",
        "!mv file_downloaded imag_train.txt"
      ],
      "execution_count": null,
      "outputs": [
        {
          "output_type": "stream",
          "text": [
            "--2020-09-03 14:26:13--  https://data.mendeley.com/public-files/datasets/fs4k2zc5j5/files/cc4e3cb0-f2cf-4f4a-9395-a8215dc68b45/file_downloaded\n",
            "Resolving data.mendeley.com (data.mendeley.com)... 162.159.133.86, 162.159.130.86\n",
            "Connecting to data.mendeley.com (data.mendeley.com)|162.159.133.86|:443... connected.\n",
            "HTTP request sent, awaiting response... 302 Found\n",
            "Location: https://md-datasets-public-files-prod.s3.eu-west-1.amazonaws.com/96781484-1d06-4610-9c59-bb918db16f53 [following]\n",
            "--2020-09-03 14:26:14--  https://md-datasets-public-files-prod.s3.eu-west-1.amazonaws.com/96781484-1d06-4610-9c59-bb918db16f53\n",
            "Resolving md-datasets-public-files-prod.s3.eu-west-1.amazonaws.com (md-datasets-public-files-prod.s3.eu-west-1.amazonaws.com)... 52.218.62.232\n",
            "Connecting to md-datasets-public-files-prod.s3.eu-west-1.amazonaws.com (md-datasets-public-files-prod.s3.eu-west-1.amazonaws.com)|52.218.62.232|:443... connected.\n",
            "HTTP request sent, awaiting response... 200 OK\n",
            "Length: 1699873240 (1.6G) [text/plain]\n",
            "Saving to: ‘file_downloaded’\n",
            "\n",
            "file_downloaded     100%[===================>]   1.58G  22.3MB/s    in 75s     \n",
            "\n",
            "2020-09-03 14:27:30 (21.7 MB/s) - ‘file_downloaded’ saved [1699873240/1699873240]\n",
            "\n"
          ],
          "name": "stdout"
        }
      ]
    },
    {
      "cell_type": "markdown",
      "metadata": {
        "id": "88drWd4hkxZG"
      },
      "source": [
        "Podemos verificar que tenemos todos los datos en nuestro Colab es revisar el navegador de archivos que se encuentra en la izquierda de nuestro navegador."
      ]
    },
    {
      "cell_type": "markdown",
      "metadata": {
        "id": "b9cbmdQhyiY4"
      },
      "source": [
        "#**Actividad 1:**\n",
        "\n",
        "<br>\n",
        "\n",
        "####**1- Asuma el contexto actual, usted trabaja en una empresa que tiene una red social muy similar a Facebook y quiere recomendar contenido a los usuarios. Responda las siguientes preguntas:**\n",
        "\n",
        "<br>\n",
        "\n",
        "####**a) ¿Qué información recolectaría para poder entrenar su modelo?**  \n",
        "\n",
        "<br> \n",
        "\n",
        "Asumiendo un contexto en el que mi red social se base en videos y peliculas, la información que recolectaria sería por ejemplo: \n",
        "<br>\n",
        "\n",
        "Qué búsquedas realizan, qué dispositivos usan, cuál es su día preferido, cuánto tiempo emplean en el servicio y en cada uno de los contenidos, si ven los capítulos enteros o parcialmente e, incluso, qué fragmentos vuelven a ver, momentos en los que abandonan y si lo recuperan, las valoraciones de los consumidores, qué preferencias tienen en común con sus amigos o con la audiencia de su misma zona geográfica, la información de sus perfiles en redes sociales…\n",
        "\n",
        "<br> \n",
        "\n",
        "###**b) ¿Cómo usaría la información recolectada?**\n",
        "\n",
        "<br>\n",
        "\n",
        "Con la información recolectada me basaría en algoritmos de recomendaciones como Youtube descritos en este paper[1]. Que consiste en 2 redes neuronales:\n",
        " * Una que reduce el corpus de videos del orden de millones a un numero limitado de videos según variables como el historial, la consulta de busqueda,etc.\n",
        " * Otra que se basa en un sistema de clasificación que toma en cuenta la salida de la red anterior y toma en cuentas otras caracteristicas heterogeneas como el idioma del usuario, video e impresiones anteriores. Luego, se clasifica de la misma manera en el orden  de probabilidad de que un video determinado sea el próximo que un usuario probablemente verá a continuación. Se seleccionará el top n según el requisito.\n",
        "\n",
        " ![Recommending what video to watch](https://i.blogs.es/bb4f61/youtube/1366_2000.jpg)\n",
        "*Recommendation system.[1]*\n",
        "\n",
        "<br>\n",
        "\n",
        "\n",
        "\n",
        "\n",
        "\n",
        "###**c)¿Existe información externa (que no puede ser recolectada por su empresa) que pueda ser útil para mejorar el rendimiento del modelo? Si su respuesta es afirmativa, de un ejemplo.**\n",
        "\n",
        "<br>\n",
        "\n",
        "Podría ser información recolectada de lo que habla, de que palabras o nombres de serie repite mas dia a dia con su entorno a través de un acceso al microfono en su celular. Pero estariamos invadiendo la privacidad. \n",
        "<br>\n",
        "\n",
        "Esto nos serviría ya que asi podriamos tener una idea mas precisa de su personalidad y asi tener mas claro sus gustos, o como se menciono antes, si es que este hace mención en su dia a dia de alguna serie, pelicula que quiere ver pero no sabe su nombre o si siempre se le olvida ver al llegar a casa, etc."
      ]
    },
    {
      "cell_type": "markdown",
      "metadata": {
        "id": "tQonI24fdxjB"
      },
      "source": [
        "####**Bibliografia**\n",
        "\n",
        "\n",
        "<br>\n",
        "\n",
        "\n",
        "[1]https://static.googleusercontent.com/media/research.google.com/en//pubs/archive/45530.pdf\n",
        "\n",
        "\n",
        "\n",
        "\n",
        "\n",
        "\n"
      ]
    },
    {
      "cell_type": "markdown",
      "metadata": {
        "id": "2BIfb8cLwfHN"
      },
      "source": [
        "## Instalación de librerías\n",
        "\n",
        "Al igual que el jueves pasado, utilizaremos la librería `transformers` que nos facilita la utilización de modelos de texto como Bert, ademas de tokenizadores correspondientes.\n",
        "\n",
        "\n",
        "\n"
      ]
    },
    {
      "cell_type": "code",
      "metadata": {
        "id": "wRQAvbawXDcA",
        "colab": {
          "base_uri": "https://localhost:8080/"
        },
        "outputId": "994eedf8-afe9-460a-f89e-0494e3f35456"
      },
      "source": [
        "!pip install -q transformers"
      ],
      "execution_count": null,
      "outputs": [
        {
          "output_type": "stream",
          "text": [
            "\u001b[K     |████████████████████████████████| 1.4MB 8.1MB/s \n",
            "\u001b[K     |████████████████████████████████| 890kB 27.7MB/s \n",
            "\u001b[K     |████████████████████████████████| 2.9MB 20.7MB/s \n",
            "\u001b[?25h  Building wheel for sacremoses (setup.py) ... \u001b[?25l\u001b[?25hdone\n"
          ],
          "name": "stdout"
        }
      ]
    },
    {
      "cell_type": "markdown",
      "metadata": {
        "id": "MDBOEd_mwjPS"
      },
      "source": [
        "# Entrenamiento"
      ]
    },
    {
      "cell_type": "code",
      "metadata": {
        "id": "3NkvtTP7Ftx_"
      },
      "source": [
        "import numpy as np\n",
        "import pandas as pd\n",
        "import os\n",
        "from random import sample\n",
        "\n",
        "import torch\n",
        "from torch.utils.data import Dataset, DataLoader\n",
        "\n",
        "import transformers\n",
        "from transformers import BertTokenizer, BertModel\n",
        "from transformers import PretrainedConfig"
      ],
      "execution_count": null,
      "outputs": []
    },
    {
      "cell_type": "markdown",
      "metadata": {
        "id": "npYRO7vJxpdZ"
      },
      "source": [
        "## Dataset\n",
        "\n",
        "Creamos la clase `ContentRecommender` y su objetivo es cargar los datos y entregarlos de tal forma que sea aceptado por la clase `DataLoader` de PyTorch. "
      ]
    },
    {
      "cell_type": "code",
      "metadata": {
        "id": "Nnr345zsG1ro"
      },
      "source": [
        "class ContentRecommender(Dataset):\n",
        "    def __init__(self, root_dir, data_set='train', num_classes=-1, sub_classes=None, tokenizer=None, transform=None, amount_triplet=3):\n",
        "        if data_set == 'train':\n",
        "            self.img_data = pd.read_csv(os.path.join(root_dir,'./imag_train.txt'), header=None).values\n",
        "            self.txt_data = self.read_file_text(os.path.join(root_dir,'./text_train.txt'))\n",
        "            self.targets = self.read_file_id(os.path.join(root_dir,'./train_users.txt'))\n",
        "        elif data_set == 'val':\n",
        "            self.img_data = pd.read_csv(os.path.join(root_dir,'./imag_val.txt'), header=None).values \n",
        "            self.txt_data = self.read_file_text(os.path.join(root_dir,'./text_val.txt'))\n",
        "            self.targets = self.read_file_id(os.path.join(root_dir,'./val_test_users.txt'))\n",
        "        elif data_set == 'test':\n",
        "            self.img_data = pd.read_csv(os.path.join(root_dir,'./imag_test.txt'), header=None).values \n",
        "            self.txt_data = self.read_file_text(os.path.join(root_dir,'./text_test.txt'))\n",
        "            self.targets = self.read_file_id(os.path.join(root_dir,'./val_test_users.txt'))\n",
        "        else:\n",
        "            raise('data_Set must be some of [train, val, test]')\n",
        "\n",
        "        self.transform = transform\n",
        "        self.tokenizer = tokenizer\n",
        "        self.amount_triplet = amount_triplet\n",
        "\n",
        "        self.sub_classes = None\n",
        "        if num_classes != -1 or sub_classes:\n",
        "            self.sub_set(num_classes, sub_classes)\n",
        "\n",
        "        self.size_dataset()\n",
        "\n",
        "    def sub_set(self, num_classes, sub_classes):\n",
        "        if sub_classes is None:\n",
        "            sample_cls = sample(list(set(self.targets)),num_classes)\n",
        "        else:\n",
        "            sample_cls = sub_classes\n",
        "\n",
        "        d_img = []\n",
        "        d_txt = []\n",
        "        t = []\n",
        "        for i,cls in enumerate(sample_cls):\n",
        "            sample_data = list((torch.tensor(self.targets) == cls).nonzero())\n",
        "\n",
        "            d_img.extend(self.img_data[sample_data])\n",
        "            d_txt.extend([ self.txt_data[elem] for elem in sample_data ])\n",
        "            t.extend([int(i)]*len(sample_data))\n",
        "        \n",
        "        self.sub_classes = sample_cls\n",
        "        self.img_data = torch.tensor(d_img)\n",
        "        self.txt_data = d_txt\n",
        "        self.targets = t\n",
        "\n",
        "    def read_file_id(self, name_file):\n",
        "        data = []\n",
        "        with open(name_file) as f: \n",
        "            for line in f: \n",
        "                data.append(int(line.strip()))\n",
        "        return data\n",
        "\n",
        "    def read_file_text(self, name_file):\n",
        "        data = []\n",
        "        with open(name_file) as f: \n",
        "            for line in f: \n",
        "                data.append(line.strip())\n",
        "        return data\n",
        "\n",
        "    def __len__(self):\n",
        "        return len(self.txt_data)\n",
        "\n",
        "    def __getitem__(self, idx):   #Función para entregar a nuestro dataloader\n",
        "        comment_text = str(self.txt_data[idx])\n",
        "        comment_text = \" \".join(comment_text.split())\n",
        "\n",
        "        inputs_text = self.tokenizer.encode_plus(\n",
        "                    comment_text,\n",
        "                    None,\n",
        "                    add_special_tokens=True,\n",
        "                    max_length=100,\n",
        "                    pad_to_max_length=True,\n",
        "                    return_token_type_ids=True,\n",
        "                    truncation=True,\n",
        "                )\n",
        "\n",
        "        return {\n",
        "            'text_ids': torch.tensor(inputs_text['input_ids'], dtype=torch.long), #Texto\n",
        "            'text_mask': torch.tensor(inputs_text['attention_mask'], dtype=torch.long),  #Mascara\n",
        "            'text_token_type_ids': torch.tensor(inputs_text['token_type_ids'], dtype=torch.long), \n",
        "            'targets': torch.tensor(self.targets[idx], dtype=torch.float), #target / usuario\n",
        "            'img_data': self.img_data[idx],\n",
        "            'idx_data': idx\n",
        "            }\n",
        "\n",
        "    def size_dataset(self):\n",
        "        print('We have {} Image with {} features with {} texts. \\\n",
        "                The amount of different users is {}'.format(self.img_data.shape[0],\n",
        "                                                            self.img_data.shape[1],\n",
        "                                                            len(self.txt_data),\n",
        "                                                            len(set(self.targets))))"
      ],
      "execution_count": null,
      "outputs": []
    },
    {
      "cell_type": "code",
      "metadata": {
        "id": "OJllCUIuN497",
        "colab": {
          "base_uri": "https://localhost:8080/",
          "height": 176,
          "referenced_widgets": [
            "13f0c147d8ce4e14aa2031f44cef3c05",
            "86bc97f74a4b47afba075287d66068f0",
            "574688d543824cdabdd93b88462557f4",
            "bae542d3e4534e25bad4ebe2b3474a87",
            "4092af929d7e43b8b6b3482e857e5a46",
            "999c591a40174278847edf0235f2aa77",
            "3c13d4753e864e9aab49f986d9b5cbf0",
            "5fece884a77c4cf19cad6bf213d4b926"
          ]
        },
        "outputId": "030e09aa-cfc5-4e8d-af16-b416a111d9d0"
      },
      "source": [
        "tokenizer = BertTokenizer.from_pretrained('bert-base-uncased')\n",
        "num_classes = 10\n",
        "\n",
        "trainset = ContentRecommender('./', 'train', num_classes=num_classes, tokenizer=tokenizer)\n",
        "testset = ContentRecommender('./', 'test', sub_classes=trainset.sub_classes, tokenizer=tokenizer)\n",
        "\n",
        "batch_size = 16\n",
        "\n",
        "loaders = {\n",
        "    'train': DataLoader(trainset, batch_size=batch_size, shuffle=True),\n",
        "    'test': DataLoader(testset, batch_size=batch_size, shuffle=False),\n",
        "    'val': DataLoader(testset, batch_size=batch_size, shuffle=False),\n",
        "}"
      ],
      "execution_count": null,
      "outputs": [
        {
          "output_type": "display_data",
          "data": {
            "application/vnd.jupyter.widget-view+json": {
              "model_id": "13f0c147d8ce4e14aa2031f44cef3c05",
              "version_minor": 0,
              "version_major": 2
            },
            "text/plain": [
              "HBox(children=(FloatProgress(value=0.0, description='Downloading', max=231508.0, style=ProgressStyle(descripti…"
            ]
          },
          "metadata": {
            "tags": []
          }
        },
        {
          "output_type": "stream",
          "text": [
            "\n"
          ],
          "name": "stdout"
        },
        {
          "output_type": "stream",
          "text": [
            "/usr/local/lib/python3.6/dist-packages/ipykernel_launcher.py:38: UserWarning: This overload of nonzero is deprecated:\n",
            "\tnonzero()\n",
            "Consider using one of the following signatures instead:\n",
            "\tnonzero(*, bool as_tuple) (Triggered internally at  /pytorch/torch/csrc/utils/python_arg_parser.cpp:766.)\n"
          ],
          "name": "stderr"
        },
        {
          "output_type": "stream",
          "text": [
            "We have 4000 Image with 4096 features with 4000 texts.                 The amount of different users is 10\n",
            "We have 1000 Image with 4096 features with 1000 texts.                 The amount of different users is 10\n"
          ],
          "name": "stdout"
        }
      ]
    },
    {
      "cell_type": "markdown",
      "metadata": {
        "id": "F7NN0p5lxFTT"
      },
      "source": [
        "AlexNet:\n",
        "\n",
        "<figure>\n",
        "<center>\n",
        "<img src='https://www.mdpi.com/remotesensing/remotesensing-09-00848/article_deploy/html/images/remotesensing-09-00848-g001.png' height=\"500\" />\n",
        "<figcaption>Modelo Alexnet</figcaption>\n",
        "</center>\n",
        "\n",
        "</figure>"
      ]
    },
    {
      "cell_type": "code",
      "metadata": {
        "id": "x0uyHm4W0iE2",
        "colab": {
          "base_uri": "https://localhost:8080/",
          "height": 199
        },
        "outputId": "61693aa9-3d04-474d-ebb6-a4107b79b0b0"
      },
      "source": [
        "idx = torch.randint(0, len(trainset.targets), (1,1)).item()\n",
        "print(\"Un ejemplo del dataset:\")\n",
        "print(trainset.txt_data[idx])\n",
        "print(trainset.img_data[idx])\n",
        "print(trainset.targets[idx])\n",
        "\n",
        "idxs_user = list((torch.tensor(trainset.targets) == trainset.targets[idx]).nonzero())\n",
        "for id in idxs_user[:5]:\n",
        "    print(trainset.txt_data[id])\n"
      ],
      "execution_count": null,
      "outputs": [
        {
          "output_type": "stream",
          "text": [
            "Un ejemplo del dataset:\n",
            "italy\n",
            "tensor([-1.8317, -3.6347, -0.0223,  ..., -6.9075, -7.7278, -8.8429],\n",
            "       dtype=torch.float64)\n",
            "3\n",
            "awesome\n",
            "naunton england\n",
            "montelcino tuscany italy\n",
            "by the ohio river by quang ho\n",
            "mother and daughter unknown source\n"
          ],
          "name": "stdout"
        }
      ]
    },
    {
      "cell_type": "markdown",
      "metadata": {
        "id": "UwX1e-AXO0Kh"
      },
      "source": [
        "## Funciones de Entrenamiento\n",
        "\n",
        "Crearemos varias funciones que nos ayudarán el entrenaminto de modelos reiteradas veces en este práctico. Les recomendamos que traten de entender cada una de estas funciones pues podrán reforzar conocimientos que ya han aprendido en el diplomado hasta ahora."
      ]
    },
    {
      "cell_type": "code",
      "metadata": {
        "id": "vrUSVtEqaCWE"
      },
      "source": [
        "def run_epoch(phase, model, loader, criterion, optimizer=None):\n",
        "    n_batches = len(loader)\n",
        "    if phase == 'train':\n",
        "        model.train()\n",
        "    elif phase == 'val' or 'test':\n",
        "        model.eval()\n",
        "        \n",
        "    cum_loss = 0.0\n",
        "    cum_acc = 0.0\n",
        "    for n_batch, data in enumerate(loader, start=1):\n",
        "        if phase == 'train': # Limpiamos los gradientes solo al entrenar\n",
        "            optimizer.zero_grad()\n",
        "\n",
        "        ids = data['text_ids'].to(device, dtype=torch.long)\n",
        "        mask = data['text_mask'].to(device, dtype=torch.long)\n",
        "        token_type_ids = data['text_token_type_ids'].to(device, dtype=torch.long)\n",
        "        img = data['img_data'].to(device, dtype=torch.float)\n",
        "        targets = data['targets'].to(device, dtype=torch.long)\n",
        "        \n",
        "        result = model(ids, mask, token_type_ids, img) # Aquí se ejecuta nuestro modelo\n",
        "\n",
        "        loss = criterion(result, targets) # Cálculamos la pérdida\n",
        "        cum_loss += loss.item()\n",
        "        _, preds = torch.max(result.data, 1)\n",
        "\n",
        "        # accuracy = calculate_metrics(targets, preds)\n",
        "        cum_acc += torch.sum(preds == targets.data)\n",
        "        if phase == 'train':\n",
        "            loss.backward() # Hacemos backpropagation solo en train\n",
        "            optimizer.step() # Actualizamos parámetros solo en train\n",
        "\n",
        "        current_cum_loss = cum_loss / n_batch\n",
        "        current_cum_acc = 100 * cum_acc / (n_batch * batch_size) \n",
        "\n",
        "        print(f'\\r{phase.upper()}-Batch {n_batch}/{n_batches} '\n",
        "              f'Loss: {current_cum_loss:.4f} '\n",
        "              f'Acc: {current_cum_acc:.2f}% ', end='')\n",
        "    \n",
        "    epoch_loss = float(cum_loss / n_batch)\n",
        "    epoch_acc = float(100 * cum_acc / (n_batch * batch_size))\n",
        "\n",
        "    return epoch_loss, epoch_acc\n",
        "\n",
        "def run_training(model, loaders, optimizer, criterion, n_epochs, scheduler):\n",
        "    phases = ['train', 'val']\n",
        "    history = {\n",
        "        'train': {'loss': [], 'acc': []},\n",
        "        'val': {'loss': [], 'acc': []}\n",
        "    }\n",
        "\n",
        "    print(f\"Validating model before training\")\n",
        "    with torch.no_grad():\n",
        "        val_loss, val_acc = run_epoch('val', model, loaders['val'], criterion)\n",
        "    print()\n",
        "\n",
        "    history['val']['loss'].append(val_loss)\n",
        "    history['val']['acc'].append(val_acc)\n",
        "    for epoch in range(1, n_epochs + 1):\n",
        "        print(f\"Epoch N°{epoch}\")\n",
        "        for phase in phases:\n",
        "            epoch_loss, epoch_acc = run_epoch(phase, model, loaders[phase], criterion, optimizer=optimizer)\n",
        "            # Registramos las pérdidas y accuracy por época, por fase\n",
        "            history[phase]['loss'].append(epoch_loss)\n",
        "            history[phase]['acc'].append(epoch_acc)\n",
        "            print(\"\")\n",
        "        \n",
        "        scheduler.step(history['val']['loss'][-1])\n",
        "\n",
        "    return history"
      ],
      "execution_count": null,
      "outputs": []
    },
    {
      "cell_type": "markdown",
      "metadata": {
        "id": "wluhr-JV2A4X"
      },
      "source": [
        "## Funciones para mostrar resultados\n",
        "\n",
        "Definamos también algunas funciones que nos ayudarán a visualizar el entrenamiento y sus resultados de mejor forma."
      ]
    },
    {
      "cell_type": "code",
      "metadata": {
        "id": "hJr7sgU1aLFf"
      },
      "source": [
        "import math\n",
        "import matplotlib.pyplot as plt\n",
        "import matplotlib.ticker as ticker\n",
        "import sklearn.metrics\n",
        "\n",
        "def graph_metrics(metricas_test, metricas_train, title=''):\n",
        "    fig, ax = plt.subplots()\n",
        "    plt.style.use('seaborn-white')\n",
        "    ax.yaxis.set_major_formatter(ticker.FormatStrFormatter('%0.3f'))\n",
        "    plt.plot(range(1, int(len(metricas_train) + 1)), metricas_train, marker='o')\n",
        "    plt.plot(range(int(len(metricas_test))), metricas_test, marker='o')\n",
        "    plt.legend(['Train', 'Val'])\n",
        "    plt.title(title)\n",
        "    plt.show()\n",
        "\n",
        "\n",
        "def graph_training_metrics(history):\n",
        "    for metric in ['loss', 'acc']:\n",
        "        title = f'{metric.capitalize()} vs N° Épocas'\n",
        "        graph_metrics(history['val'][metric], history['train'][metric], title=title)\n",
        "\n",
        "\n",
        "def print_report(train_history):\n",
        "    graph_training_metrics(train_history)\n",
        "\n",
        "    train_loss = train_history['train']['loss'][-1]\n",
        "    train_acc = train_history['train']['acc'][-1]\n",
        "    val_loss = train_history['val']['loss'][-1]\n",
        "    val_acc = train_history['val']['acc'][-1]\n",
        "    print(f'Train Loss: {train_loss:.4f} - Train Acc: {train_acc:.2f}%')\n",
        "    print(f'Val Loss: {val_loss:.4f} - Val Acc: {val_acc:.2f}%')"
      ],
      "execution_count": null,
      "outputs": []
    },
    {
      "cell_type": "markdown",
      "metadata": {
        "id": "GkFu9uaQ2F7d"
      },
      "source": [
        "## Modelo\n",
        "\n",
        "La particularidad de este modelo es que debe unir dos representaciones (una imagen y otra texto) para realizar la clasificación.\n",
        "\n",
        "En el caso de la imagen, la representación nos la entrega el dataset que estamos utilizando. Esta viene dada por un vector de características, *feature vector*, extraída por un modelo convolucional pre-entrenado.\n",
        "\n",
        "Para el texto, utilizamos BERT, un modelo pre-entrenado del tipo transformer que se utiliza para texto. Este nos permitirá aprovechar este pre-entrenamiento para encontrar una representación mas rica que entrenando un modelo simple.\n",
        "\n",
        "Ambas representaciones son pasadas por capas *fully-connected* para disminuir su dimensionalidad, luego concatenadas y pasadas por una nueva capa *fully-connected*. Por último, esta representación es pasada por el clasificador para obtener la predicción."
      ]
    },
    {
      "cell_type": "code",
      "metadata": {
        "id": "6LaF9IrHQhre"
      },
      "source": [
        "import torch\n",
        "\n",
        "class ModelClass(torch.nn.Module):\n",
        "    def __init__(self, pretrained=True, num_classes=117):\n",
        "        super(ModelClass, self).__init__()\n",
        "        if pretrained:\n",
        "            self.l1_txt = transformers.BertModel.from_pretrained('bert-base-uncased')\n",
        "        else:\n",
        "            config = PretrainedConfig.from_pretrained('bert-base-uncased')\n",
        "            self.l1_txt = transformers.BertModel(config)\n",
        "\n",
        "        self.l2_txt = torch.nn.Linear(768, 64)\n",
        "        self.l1_img = torch.nn.Linear(4096, 64)\n",
        "        self.l1_join = torch.nn.Linear(64+64, 32)\n",
        "        self.drop = torch.nn.Dropout(0.3)\n",
        "        self.relu = torch.nn.ReLU(inplace=True)\n",
        "        self.l2_join = torch.nn.Linear(32, num_classes)\n",
        "    \n",
        "    def forward(self, ids, mask, token_type_ids, img_data, features=False):\n",
        "        _, output_text = self.l1_txt(ids, attention_mask=mask, token_type_ids=token_type_ids)\n",
        "        output_text = self.l2_txt(output_text)\n",
        "        output_img = self.l1_img(img_data)\n",
        "\n",
        "        output_text = self.drop(self.relu(output_text))\n",
        "        output_img = self.drop(self.relu(output_img))\n",
        "        output = torch.cat([output_text, output_img], dim=1)\n",
        "\n",
        "        output = self.l1_join(torch.cat([output_text, output_img], dim=1))\n",
        "        output = self.drop(self.relu(output))\n",
        "        if features:\n",
        "            return output\n",
        "        output = self.l2_join(output)\n",
        "        return output"
      ],
      "execution_count": null,
      "outputs": []
    },
    {
      "cell_type": "markdown",
      "metadata": {
        "id": "Gk6cKCZ_q5SP"
      },
      "source": [
        "### Baseline\n",
        "\n",
        "Comparar el funcionamiento de nuestro modelo es fundamental para ver si lo que estamos haciendo funciona bien o mal. En esta ocasión utilizaremos un segundo modelo para poder compararnos. En este solo le entregamos solo la información de las imágenes a este segundo modelo para realizar la recomendación, esperando que este sea peor que el modelo completo."
      ]
    },
    {
      "cell_type": "code",
      "metadata": {
        "id": "eqwoWknBq2AT"
      },
      "source": [
        "class ModelClassImage(torch.nn.Module):\n",
        "    def __init__(self, pretrained=True, num_classes=117):\n",
        "        super(ModelClassImage, self).__init__()\n",
        "\n",
        "        self.l1_img = torch.nn.Linear(4096, 64)\n",
        "        self.drop = torch.nn.Dropout(0.3)\n",
        "        self.relu = torch.nn.ReLU(inplace=True)\n",
        "        self.l2_img = torch.nn.Linear(64, num_classes)\n",
        "\n",
        "    def forward(self, ids, mask, token_type_ids, img_data, features=False):\n",
        "        output = self.l1_img(img_data)\n",
        "        output = self.drop(self.relu(output))\n",
        "        if features:\n",
        "            return output\n",
        "        output = self.l2_img(output)\n",
        "        return output"
      ],
      "execution_count": null,
      "outputs": []
    },
    {
      "cell_type": "markdown",
      "metadata": {
        "id": "gV42Zm562tUS"
      },
      "source": [
        "## Entrenamiento\n",
        "\n",
        "Al momento del entrenamiento debemos seleccionar una función de perdida apropiada y un algoritmo de optimización que se comporte bien para este problema.\n",
        "\n",
        "En este caso al ser un problema de clasificación podemos utilizar la función de pérdida *Cross Entropy*, muy utilizada para este tipo de problemas.\n",
        "\n",
        "Una alternativa para la función de pérdida podría ser la función *Triplet Loss*, esta busca que el modelo genere representaciones cercanas para elementos de un mismo usuario y genere representaciones más distantes para elementos de usuarios distintos. Un  problema con esa alternativa, es que necesitamos generar triples para el entrenamiento (de ahí su nombre) con elementos de ancla, positivo y negativo para cada iteración en entrenamiento, causando que el proceso sea más complejo, en tiempo y recursos.\n",
        "\n",
        "Tal como mencionamos en la clase de optimizadores, uno de los algoritmos de optimización en deep learning mas completos y utilizados es Adam, que tiene los beneficios de momentum y la normalización, generando learning rate locales para cada parametros.\n",
        "\n",
        "Además utilizamos un scheduler en base a la perdida de nuestro set de validación.\n",
        "\n"
      ]
    },
    {
      "cell_type": "code",
      "metadata": {
        "id": "jCquoeMlZOWv",
        "colab": {
          "base_uri": "https://localhost:8080/",
          "height": 1000,
          "referenced_widgets": [
            "89acb0557c4f4c1d8121b5fe4058687e",
            "8dcc025f5d8743fba04674834f7d2094",
            "2ff4947922b9485c95590a265f2f11bb",
            "805f60522833453c9510f1594ca1eb8e",
            "4c628a06c8c44aa4ba2e4d24b8d4f0d5",
            "b40f2def967a4b52852356df9f04b25d",
            "06ca4a5601bf4ca6905eb8a93cd26cd2",
            "c0f82625bc7642ad93e23668e07bac07",
            "a99898e5898e45a3ada50285511e5386",
            "fabc9ba687844d2c8ce3df8b289ea7c7",
            "4e28e43b0bf74ceea81d3b7da542f8f8",
            "ee9c1814042a4a768331f6821e5a04e0",
            "05e72e67b53c4413baca12947aabcea6",
            "9911dd4875d144b48c5f49256877c758",
            "90ee0f4f0089440da0ad61790cbd62e6",
            "b7ddf0995151422da4a8afadb75221d4"
          ]
        },
        "outputId": "0b94b8a4-9a63-448c-d276-e9f453a6e4e4"
      },
      "source": [
        "from torch import optim\n",
        "from torch.optim import lr_scheduler\n",
        "from torch.optim import Adam\n",
        "from torch.nn import CrossEntropyLoss\n",
        "\n",
        "device = torch.device(\"cuda\" if torch.cuda.is_available() else \"cpu\")\n",
        "\n",
        "model = ModelClass(pretrained=True, num_classes=num_classes)\n",
        "model.to(device)\n",
        "\n",
        "criterion = CrossEntropyLoss()\n",
        "optimizer = Adam(model.parameters(), lr=1e-4) #1e-5\n",
        "scheduler = lr_scheduler.ReduceLROnPlateau(optimizer)\n",
        "\n",
        "epochs = 20\n",
        "history = run_training(model, loaders, optimizer, criterion, epochs, scheduler)\n",
        "\n",
        "print_report(history)"
      ],
      "execution_count": null,
      "outputs": [
        {
          "output_type": "display_data",
          "data": {
            "application/vnd.jupyter.widget-view+json": {
              "model_id": "89acb0557c4f4c1d8121b5fe4058687e",
              "version_minor": 0,
              "version_major": 2
            },
            "text/plain": [
              "HBox(children=(FloatProgress(value=0.0, description='Downloading', max=433.0, style=ProgressStyle(description_…"
            ]
          },
          "metadata": {
            "tags": []
          }
        },
        {
          "output_type": "stream",
          "text": [
            "\n"
          ],
          "name": "stdout"
        },
        {
          "output_type": "display_data",
          "data": {
            "application/vnd.jupyter.widget-view+json": {
              "model_id": "a99898e5898e45a3ada50285511e5386",
              "version_minor": 0,
              "version_major": 2
            },
            "text/plain": [
              "HBox(children=(FloatProgress(value=0.0, description='Downloading', max=440473133.0, style=ProgressStyle(descri…"
            ]
          },
          "metadata": {
            "tags": []
          }
        },
        {
          "output_type": "stream",
          "text": [
            "\n",
            "Validating model before training\n"
          ],
          "name": "stdout"
        },
        {
          "output_type": "stream",
          "text": [
            "/usr/local/lib/python3.6/dist-packages/transformers/tokenization_utils_base.py:1770: FutureWarning: The `pad_to_max_length` argument is deprecated and will be removed in a future version, use `padding=True` or `padding='longest'` to pad to the longest sequence in the batch, or use `padding='max_length'` to pad to a max length. In this case, you can give a specific length with `max_length` (e.g. `max_length=45`) or leave max_length to None to pad to the maximal input size of the model (e.g. 512 for Bert).\n",
            "  FutureWarning,\n"
          ],
          "name": "stderr"
        },
        {
          "output_type": "stream",
          "text": [
            "VAL-Batch 63/63 Loss: 2.3717 Acc: 9.03% \n",
            "Epoch N°1\n",
            "TRAIN-Batch 250/250 Loss: 2.1376 Acc: 22.18% \n",
            "VAL-Batch 63/63 Loss: 1.8715 Acc: 37.10% \n",
            "Epoch N°2\n",
            "TRAIN-Batch 250/250 Loss: 1.8952 Acc: 31.50% \n",
            "VAL-Batch 63/63 Loss: 1.6927 Acc: 43.75% \n",
            "Epoch N°3\n",
            "TRAIN-Batch 250/250 Loss: 1.7886 Acc: 36.00% \n",
            "VAL-Batch 63/63 Loss: 1.6059 Acc: 43.65% \n",
            "Epoch N°4\n",
            "TRAIN-Batch 250/250 Loss: 1.6891 Acc: 40.25% \n",
            "VAL-Batch 63/63 Loss: 1.5314 Acc: 45.93% \n",
            "Epoch N°5\n",
            "TRAIN-Batch 250/250 Loss: 1.6304 Acc: 42.03% \n",
            "VAL-Batch 63/63 Loss: 1.5174 Acc: 48.21% \n",
            "Epoch N°6\n",
            "TRAIN-Batch 250/250 Loss: 1.5883 Acc: 42.60% \n",
            "VAL-Batch 63/63 Loss: 1.4983 Acc: 45.73% \n",
            "Epoch N°7\n",
            "TRAIN-Batch 250/250 Loss: 1.5428 Acc: 44.55% \n",
            "VAL-Batch 63/63 Loss: 1.4813 Acc: 47.12% \n",
            "Epoch N°8\n",
            "TRAIN-Batch 250/250 Loss: 1.5079 Acc: 46.03% \n",
            "VAL-Batch 63/63 Loss: 1.4802 Acc: 46.43% \n",
            "Epoch N°9\n",
            "TRAIN-Batch 250/250 Loss: 1.4639 Acc: 47.83% \n",
            "VAL-Batch 63/63 Loss: 1.4565 Acc: 48.02% \n",
            "Epoch N°10\n",
            "TRAIN-Batch 250/250 Loss: 1.4326 Acc: 47.75% \n",
            "VAL-Batch 63/63 Loss: 1.4363 Acc: 47.62% \n",
            "Epoch N°11\n",
            "TRAIN-Batch 250/250 Loss: 1.4135 Acc: 48.43% \n",
            "VAL-Batch 63/63 Loss: 1.4415 Acc: 46.73% \n",
            "Epoch N°12\n",
            "TRAIN-Batch 250/250 Loss: 1.3902 Acc: 50.45% \n",
            "VAL-Batch 63/63 Loss: 1.4140 Acc: 49.80% \n",
            "Epoch N°13\n",
            "TRAIN-Batch 250/250 Loss: 1.3667 Acc: 52.15% \n",
            "VAL-Batch 63/63 Loss: 1.4334 Acc: 49.21% \n",
            "Epoch N°14\n",
            "TRAIN-Batch 250/250 Loss: 1.3300 Acc: 52.10% \n",
            "VAL-Batch 63/63 Loss: 1.4103 Acc: 48.71% \n",
            "Epoch N°15\n",
            "TRAIN-Batch 250/250 Loss: 1.3111 Acc: 52.60% \n",
            "VAL-Batch 63/63 Loss: 1.4062 Acc: 50.10% \n",
            "Epoch N°16\n",
            "TRAIN-Batch 250/250 Loss: 1.2852 Acc: 53.88% \n",
            "VAL-Batch 63/63 Loss: 1.4135 Acc: 47.72% \n",
            "Epoch N°17\n",
            "TRAIN-Batch 250/250 Loss: 1.2792 Acc: 53.85% \n",
            "VAL-Batch 63/63 Loss: 1.4102 Acc: 49.60% \n",
            "Epoch N°18\n",
            "TRAIN-Batch 250/250 Loss: 1.2438 Acc: 55.25% \n",
            "VAL-Batch 63/63 Loss: 1.4065 Acc: 50.10% \n",
            "Epoch N°19\n",
            "TRAIN-Batch 250/250 Loss: 1.2464 Acc: 55.00% \n",
            "VAL-Batch 63/63 Loss: 1.4170 Acc: 50.00% \n",
            "Epoch N°20\n",
            "TRAIN-Batch 250/250 Loss: 1.1969 Acc: 56.90% \n",
            "VAL-Batch 63/63 Loss: 1.4183 Acc: 50.50% \n"
          ],
          "name": "stdout"
        },
        {
          "output_type": "display_data",
          "data": {
            "image/png": "[encoded data removed]",
            "text/plain": [
              "<Figure size 432x288 with 1 Axes>"
            ]
          },
          "metadata": {
            "tags": [],
            "needs_background": "light"
          }
        },
        {
          "output_type": "display_data",
          "data": {
            "image/png": "[encoded data removed]",
            "text/plain": [
              "<Figure size 432x288 with 1 Axes>"
            ]
          },
          "metadata": {
            "tags": []
          }
        },
        {
          "output_type": "stream",
          "text": [
            "Train Loss: 1.1969 - Train Acc: 56.90%\n",
            "Val Loss: 1.4183 - Val Acc: 50.50%\n"
          ],
          "name": "stdout"
        }
      ]
    },
    {
      "cell_type": "code",
      "metadata": {
        "id": "hRfBJqeaqj_R",
        "colab": {
          "base_uri": "https://localhost:8080/",
          "height": 1000
        },
        "outputId": "3edfd97a-f7b3-4155-baf2-6d3d38001642"
      },
      "source": [
        "from torch import optim\n",
        "from torch.optim import lr_scheduler\n",
        "from torch.optim import Adam\n",
        "from torch.nn import CrossEntropyLoss\n",
        "\n",
        "device = torch.device(\"cuda\" if torch.cuda.is_available() else \"cpu\")\n",
        "\n",
        "model_img = ModelClassImage(pretrained=True, num_classes=num_classes)\n",
        "model_img.to(device)\n",
        "\n",
        "criterion = CrossEntropyLoss()\n",
        "optimizer = Adam(model_img.parameters(), lr=1e-4) #1e-5\n",
        "scheduler = lr_scheduler.ReduceLROnPlateau(optimizer)\n",
        "\n",
        "epochs = 20\n",
        "history = run_training(model_img, loaders, optimizer, criterion, epochs, scheduler)\n",
        "\n",
        "print_report(history)"
      ],
      "execution_count": null,
      "outputs": [
        {
          "output_type": "stream",
          "text": [
            "Validating model before training\n",
            "VAL-Batch 29/63 Loss: 3.0565 Acc: 1.94% "
          ],
          "name": "stdout"
        },
        {
          "output_type": "stream",
          "text": [
            "/usr/local/lib/python3.6/dist-packages/transformers/tokenization_utils_base.py:1770: FutureWarning: The `pad_to_max_length` argument is deprecated and will be removed in a future version, use `padding=True` or `padding='longest'` to pad to the longest sequence in the batch, or use `padding='max_length'` to pad to a max length. In this case, you can give a specific length with `max_length` (e.g. `max_length=45`) or leave max_length to None to pad to the maximal input size of the model (e.g. 512 for Bert).\n",
            "  FutureWarning,\n"
          ],
          "name": "stderr"
        },
        {
          "output_type": "stream",
          "text": [
            "VAL-Batch 63/63 Loss: 2.6882 Acc: 11.41% \n",
            "Epoch N°1\n",
            "TRAIN-Batch 250/250 Loss: 1.9175 Acc: 31.68% \n",
            "VAL-Batch 63/63 Loss: 1.5661 Acc: 44.74% \n",
            "Epoch N°2\n",
            "TRAIN-Batch 250/250 Loss: 1.5974 Acc: 41.70% \n",
            "VAL-Batch 63/63 Loss: 1.5203 Acc: 45.83% \n",
            "Epoch N°3\n",
            "TRAIN-Batch 250/250 Loss: 1.5040 Acc: 46.40% \n",
            "VAL-Batch 63/63 Loss: 1.4653 Acc: 48.02% \n",
            "Epoch N°4\n",
            "TRAIN-Batch 250/250 Loss: 1.4271 Acc: 48.83% \n",
            "VAL-Batch 63/63 Loss: 1.4422 Acc: 47.12% \n",
            "Epoch N°5\n",
            "TRAIN-Batch 250/250 Loss: 1.3562 Acc: 50.13% \n",
            "VAL-Batch 63/63 Loss: 1.4241 Acc: 49.60% \n",
            "Epoch N°6\n",
            "TRAIN-Batch 250/250 Loss: 1.2945 Acc: 52.68% \n",
            "VAL-Batch 63/63 Loss: 1.4082 Acc: 49.60% \n",
            "Epoch N°7\n",
            "TRAIN-Batch 250/250 Loss: 1.2625 Acc: 54.20% \n",
            "VAL-Batch 63/63 Loss: 1.4212 Acc: 48.71% \n",
            "Epoch N°8\n",
            "TRAIN-Batch 250/250 Loss: 1.2234 Acc: 54.90% \n",
            "VAL-Batch 63/63 Loss: 1.4093 Acc: 48.51% \n",
            "Epoch N°9\n",
            "TRAIN-Batch 250/250 Loss: 1.1851 Acc: 55.95% \n",
            "VAL-Batch 63/63 Loss: 1.3997 Acc: 51.98% \n",
            "Epoch N°10\n",
            "TRAIN-Batch 250/250 Loss: 1.1492 Acc: 57.30% \n",
            "VAL-Batch 63/63 Loss: 1.4594 Acc: 48.51% \n",
            "Epoch N°11\n",
            "TRAIN-Batch 250/250 Loss: 1.0949 Acc: 59.45% \n",
            "VAL-Batch 63/63 Loss: 1.4309 Acc: 50.40% \n",
            "Epoch N°12\n",
            "TRAIN-Batch 250/250 Loss: 1.0692 Acc: 60.60% \n",
            "VAL-Batch 63/63 Loss: 1.4663 Acc: 48.71% \n",
            "Epoch N°13\n",
            "TRAIN-Batch 250/250 Loss: 1.0447 Acc: 61.63% \n",
            "VAL-Batch 63/63 Loss: 1.4521 Acc: 48.61% \n",
            "Epoch N°14\n",
            "TRAIN-Batch 250/250 Loss: 1.0258 Acc: 62.10% \n",
            "VAL-Batch 63/63 Loss: 1.4330 Acc: 48.91% \n",
            "Epoch N°15\n",
            "TRAIN-Batch 250/250 Loss: 0.9777 Acc: 63.90% \n",
            "VAL-Batch 63/63 Loss: 1.4855 Acc: 47.82% \n",
            "Epoch N°16\n",
            "TRAIN-Batch 250/250 Loss: 0.9652 Acc: 63.70% \n",
            "VAL-Batch 63/63 Loss: 1.4942 Acc: 48.12% \n",
            "Epoch N°17\n",
            "TRAIN-Batch 250/250 Loss: 0.9324 Acc: 65.20% \n",
            "VAL-Batch 63/63 Loss: 1.4981 Acc: 49.70% \n",
            "Epoch N°18\n",
            "TRAIN-Batch 250/250 Loss: 0.9003 Acc: 66.65% \n",
            "VAL-Batch 63/63 Loss: 1.5130 Acc: 49.21% \n",
            "Epoch N°19\n",
            "TRAIN-Batch 250/250 Loss: 0.8844 Acc: 67.28% \n",
            "VAL-Batch 63/63 Loss: 1.5289 Acc: 49.11% \n",
            "Epoch N°20\n",
            "TRAIN-Batch 250/250 Loss: 0.8610 Acc: 68.78% \n",
            "VAL-Batch 63/63 Loss: 1.5314 Acc: 47.82% \n"
          ],
          "name": "stdout"
        },
        {
          "output_type": "display_data",
          "data": {
            "image/png": "[encoded data removed]",
            "text/plain": [
              "<Figure size 432x288 with 1 Axes>"
            ]
          },
          "metadata": {
            "tags": []
          }
        },
        {
          "output_type": "display_data",
          "data": {
            "image/png": "[encoded data removed]",
            "text/plain": [
              "<Figure size 432x288 with 1 Axes>"
            ]
          },
          "metadata": {
            "tags": []
          }
        },
        {
          "output_type": "stream",
          "text": [
            "Train Loss: 0.8610 - Train Acc: 68.78%\n",
            "Val Loss: 1.5314 - Val Acc: 47.82%\n"
          ],
          "name": "stdout"
        }
      ]
    },
    {
      "cell_type": "markdown",
      "metadata": {
        "id": "nAVSrRLdyIma"
      },
      "source": [
        "#**Actividad 2**\n",
        "\n",
        "<br>\n",
        "\n",
        "###**1 - Con respecto a los conocimientos adquiridos hasta el momento:**\n",
        "<br>\n",
        "\n",
        "####**a)Enumere 2 limitaciones de nuestro modelo. Sugiera una mejora en base a estas limitaciones.** \n",
        "\n",
        "\n",
        "<br>\n",
        "\n",
        "Entre las limitaciones que se pueden apreciar que hay sobreentrenamiento u overfitting, ya que se aprecia un buen ajuste a los datos del entrenamiento pero el modelo no esta generalizando bien los datos nuevos. En otras palabras, el modelo aprendió patrones específicos de los datos de entrenamiento, que son irrelevantes en otros datos. \n",
        "<br>\n",
        "\n",
        "Hay varias maneras en las que podemos reducir el sobreajuste en modelos de aprendizaje profundas. La mejor opción es obtener más datos de entrenamiento. Otra forma de reducir el sobreajuste es reducir la capacidad del modelo para memorizar los datos de entrenamiento . Como tal, el modelo deberá enfocarse en los patrones relevantes en los datos de entrenamiento, lo que resulta en una mejor generalización.\n",
        "\n",
        " \n",
        "\n",
        "<br>\n",
        "\n",
        "####**b)En base a los temas vistos hasta ahora en el diplomado, sugiera una mejora que podría hacerle a este modelo.**\n",
        "\n",
        "<br>\n",
        "\n",
        "Podemos intentar hacer algo con el sobreajuste. Hay diferentes opciones para hacer eso. Como por ejemplo, reducir la capacidad de la red eliminando capas o reduciendo la cantidad de elementos en las capas ocultas.\n",
        "<br>\n",
        "\n",
        "Aplicar regularización, que se reduce a agregar un costo a la función de pérdida para pesos grandes.\n",
        "<br>\n",
        "\n",
        "Usar capas de exclusión, que eliminarán aleatoriamente ciertas características al establecerlas en cero \n",
        "<br>\n",
        "\n",
        "Reducir la capacidad de la red, nuestro modelo tiene una gran cantidad de parámetros entrenables. Cuanto mayor sea este número, más fácil será el modelo para memorizar la clase objetivo para cada muestra de entrenamiento. Obviamente, esto no es ideal para generalizar sobre nuevos datos.\n",
        "<br>\n",
        "\n",
        "Early Stopping, para calcular el rendimiento del modelo en el conjunto de validación durante el entrenamiento. Cuando el rendimiento del modelo en el conjunto de validación comience a disminuir, detener el entrenamiento para evitar el problema de sobreajuste causado por el entrenamiento continuo. \n",
        "\n",
        "<br>\n",
        "\n",
        "####**c)Enumere dos formas que se le ocurran de realizar data augmentation con estos datos.**\n",
        "\n",
        "<br>\n",
        "\n",
        "1)Un aumento de datos basado en BERT para oraciones etiquetadas. Estas oraciones nuevas se podrían generar seleccionando palabras estocásticamente y reemplazándolas con otras palabras predichas por BERT. \n",
        "<br>\n",
        "\n",
        "2)Un aumento de datos utilizando supervisión a distancia que explota ejemplos positivos como negativos. Aplicando un enfoque por etapas para ajustar BERT en varios conjuntos de datos, comenzando con los datos que están \"más alejados\" de los datos de prueba y terminando con el \"más cercano\". "
      ]
    },
    {
      "cell_type": "markdown",
      "metadata": {
        "id": "SrC6ZtJJ3IQD"
      },
      "source": [
        "# Recomendación\n",
        "\n",
        "Para recomendar contenido a usuarios nos vamos a basar en que usuarios prefieren contenido similar al que ya han interactuado antes. Es decir, imagenes y texto similares a los que a comentado pueden incentivar a generar una nueva interacción.\n",
        "\n",
        "Una forma que tenemos de verificar si un par imagen-texto es similar a otro es mediante los descriptores que estos tipos de modelos generan para poder realizar la clasificación.\n",
        "\n"
      ]
    },
    {
      "cell_type": "markdown",
      "metadata": {
        "id": "2EE9doe43ArK"
      },
      "source": [
        "![Untitled drawing (4).png](data:image/png;base64,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)"
      ]
    },
    {
      "cell_type": "markdown",
      "metadata": {
        "id": "cPRqYJzMtZrt"
      },
      "source": [
        "## Obtención de Descriptores\n",
        "\n",
        "Para obtener una representación que tenga información tanto de la imagen como del texto, utilizamos el parámetro `features` de nuestro modelo. Con esto, en vez de devovlernos las predicciondes del modelo, nos entrega un descriptor de nuestro par imagen-texto.\n",
        "\n",
        "La motivación de esto es la misma que la vista el jueves pasado, donde utilizan modelos pre-entrenados para encontrar descriptores de imagenes y luego entrenar un clasificador con estos. La diferencia es que aquí no los vamos a utilizar para entrenar un clasificador sino que lo vamos a utilizar para encontrar distancias entre los diferentes elementos de nuestro dataset.\n",
        "\n"
      ]
    },
    {
      "cell_type": "code",
      "metadata": {
        "id": "uWWMWhlSdfct",
        "colab": {
          "base_uri": "https://localhost:8080/",
          "height": 74
        },
        "outputId": "a0c771be-95d9-4d56-f273-51d517f90a55"
      },
      "source": [
        "device = torch.device(\"cpu\" if torch.cuda.is_available() else \"cpu\")\n",
        "model.to(device)\n",
        "\n",
        "test_f = np.zeros((len(testset), 32), dtype=np.float32)\n",
        "model.eval()\n",
        "for i, b in enumerate(testset):\n",
        "    ids = b['text_ids'].to(device, dtype=torch.long).unsqueeze(0)\n",
        "    mask = b['text_mask'].to(device, dtype=torch.long).unsqueeze(0)\n",
        "    token_type_ids = b['text_token_type_ids'].to(device, dtype=torch.long).unsqueeze(0)\n",
        "    img = b['img_data'].to(device, dtype=torch.float).unsqueeze(0)\n",
        "    targets = b['targets'].to(device, dtype=torch.long).unsqueeze(0)\n",
        "        \n",
        "    test_f[i] = model(ids, mask, token_type_ids, img, features=True).detach().numpy()"
      ],
      "execution_count": null,
      "outputs": [
        {
          "output_type": "stream",
          "text": [
            "/usr/local/lib/python3.6/dist-packages/transformers/tokenization_utils_base.py:1770: FutureWarning: The `pad_to_max_length` argument is deprecated and will be removed in a future version, use `padding=True` or `padding='longest'` to pad to the longest sequence in the batch, or use `padding='max_length'` to pad to a max length. In this case, you can give a specific length with `max_length` (e.g. `max_length=45`) or leave max_length to None to pad to the maximal input size of the model (e.g. 512 for Bert).\n",
            "  FutureWarning,\n"
          ],
          "name": "stderr"
        }
      ]
    },
    {
      "cell_type": "code",
      "metadata": {
        "id": "Y-WHqmbX9d_s",
        "colab": {
          "base_uri": "https://localhost:8080/",
          "height": 74
        },
        "outputId": "0f5f9ab0-12ce-4ae7-a8e4-91cd74d30a4f"
      },
      "source": [
        "# Hacer lo mismo que en `f` pero con los datos de train\n",
        "\n",
        "train_f = np.zeros((len(trainset), 32), dtype=np.float16)\n",
        "model.eval()\n",
        "for i, b in enumerate(trainset):\n",
        "    ids = b['text_ids'].to(device, dtype=torch.long).unsqueeze(0)\n",
        "    mask = b['text_mask'].to(device, dtype=torch.long).unsqueeze(0)\n",
        "    token_type_ids = b['text_token_type_ids'].to(device, dtype=torch.long).unsqueeze(0)\n",
        "    img = b['img_data'].to(device, dtype=torch.float).unsqueeze(0)\n",
        "    targets = b['targets'].to(device, dtype=torch.long).unsqueeze(0)\n",
        "        \n",
        "    train_f[i] = model(ids, mask, token_type_ids, img, features=True).half().detach().numpy()"
      ],
      "execution_count": null,
      "outputs": [
        {
          "output_type": "stream",
          "text": [
            "/usr/local/lib/python3.6/dist-packages/transformers/tokenization_utils_base.py:1770: FutureWarning: The `pad_to_max_length` argument is deprecated and will be removed in a future version, use `padding=True` or `padding='longest'` to pad to the longest sequence in the batch, or use `padding='max_length'` to pad to a max length. In this case, you can give a specific length with `max_length` (e.g. `max_length=45`) or leave max_length to None to pad to the maximal input size of the model (e.g. 512 for Bert).\n",
            "  FutureWarning,\n"
          ],
          "name": "stderr"
        }
      ]
    },
    {
      "cell_type": "markdown",
      "metadata": {
        "id": "BZCD_r99tfoo"
      },
      "source": [
        "## Encontrar similares\n",
        "\n",
        "Una vez que tenemos los descriptores tanto del set de entrenamiento como del set de test podemos comenzar a calcular la distancia de los nuevos datos (test) con respecto a los utilizado durante el entrenamiento (train).\n",
        "\n",
        "La intuicion de esto es que queremos recomendar los nuevos elementos a usuarios con gustos similares, y para esto nos basamos en alguna metrica de distancia entre ambos descriptores. Al encontrar la distancia menor de un elementos con otro sabemos a que usuario recomendarle esta nueva imagen, ya que conocemos el usuario que escribio el comentario en esa imagen en los datos de entrenamiento."
      ]
    },
    {
      "cell_type": "code",
      "metadata": {
        "id": "Bc1uNcVdP3W3"
      },
      "source": [
        "from sklearn.metrics import pairwise_distances\n",
        "import heapq\n",
        "\n",
        "def find_similar_images(embedding, query_id=None, metrics=('euclidean',), topk=5):\n",
        "    assert len(metrics) > 0\n",
        "    assert topk <= 30 # to avoid requesting too many images\n",
        "    n = embedding.shape[0]\n",
        "    if query_id is None:\n",
        "        query_id = np.random.randint(n)\n",
        "    results = {}\n",
        "    # --- show retrieved images for each metric\n",
        "    for metric in metrics:\n",
        "        #print('-------- retrieved with metric = %s -----' % metric)\n",
        "        distances = pairwise_distances(embedding[query_id].reshape(1,-1), embedding, metric=metric)\n",
        "        heap = []\n",
        "        for i in range(n):\n",
        "            if i == query_id:\n",
        "                continue\n",
        "            if len(heap) < topk:\n",
        "                heapq.heappush(heap, (-distances[0][i], i))\n",
        "            else:\n",
        "                heapq.heappushpop(heap, (-distances[0][i], i))\n",
        "        heap.sort(reverse=True)\n",
        "        results[metric] = tuple(zip(*heap))\n",
        "        results[metric] = (list(results[metric][1]), [-dist for dist in results[metric][0]])\n",
        "    return results"
      ],
      "execution_count": null,
      "outputs": []
    },
    {
      "cell_type": "code",
      "metadata": {
        "id": "CPdBiGC0WWz9",
        "colab": {
          "base_uri": "https://localhost:8080/",
          "height": 417
        },
        "outputId": "39a4ea08-fcf5-46ee-89c0-d9dcc61e94c2"
      },
      "source": [
        "find_similar_images(test_f, metrics=('cosine','euclidean'), query_id=2, topk=10)"
      ],
      "execution_count": null,
      "outputs": [
        {
          "output_type": "execute_result",
          "data": {
            "text/plain": [
              "{'cosine': ([30, 0, 942, 57, 979, 827, 910, 941, 21, 966],\n",
              "  [0.025915205,\n",
              "   0.026036799,\n",
              "   0.029011428,\n",
              "   0.037687063,\n",
              "   0.04167384,\n",
              "   0.041967392,\n",
              "   0.060394764,\n",
              "   0.0633831,\n",
              "   0.06483042,\n",
              "   0.06744802]),\n",
              " 'euclidean': ([30, 57, 979, 910, 941, 942, 21, 811, 99, 507],\n",
              "  [3.8284545,\n",
              "   3.8852983,\n",
              "   4.464679,\n",
              "   4.964318,\n",
              "   4.9857593,\n",
              "   5.0110106,\n",
              "   5.042135,\n",
              "   5.957896,\n",
              "   6.0582366,\n",
              "   6.1091948])}"
            ]
          },
          "metadata": {
            "tags": []
          },
          "execution_count": 19
        }
      ]
    },
    {
      "cell_type": "markdown",
      "metadata": {
        "id": "70voTK5IuPyP"
      },
      "source": [
        "## Recomendación\n",
        "\n",
        "Tal como se menciono en la sección anterior, una vez con las distancias entre los vectores podemos recomendar nuevo contenido a un usuario considerando las distancias minimas entre estos."
      ]
    },
    {
      "cell_type": "code",
      "metadata": {
        "id": "8jGA8-i_9eHU"
      },
      "source": [
        "targets = np.array(testset.targets)\n",
        "n_targets = len(set(targets))"
      ],
      "execution_count": null,
      "outputs": []
    },
    {
      "cell_type": "code",
      "metadata": {
        "id": "GOJzkHAL9eKz"
      },
      "source": [
        "# Creo dicts con user_id => feats (los features concatenados de todos los items del usuario en train)\n",
        "# y lo transformo a un np.array (user_repr)\n",
        "from collections import defaultdict\n",
        "\n",
        "user_dict = {}\n",
        "for user_id, features in zip(trainset.targets, train_f):\n",
        "    if not user_id in user_dict:\n",
        "        user_dict[user_id] = []\n",
        "    user_dict[user_id].append(features)\n",
        "\n",
        "for user_id in user_dict:\n",
        "    user_dict[user_id] = np.array(user_dict[user_id])\n",
        "\n",
        "user_repr = np.array([user_dict[user_id] for user_id in range(n_targets)])"
      ],
      "execution_count": null,
      "outputs": []
    },
    {
      "cell_type": "code",
      "metadata": {
        "id": "l3QH3x059eGS",
        "colab": {
          "base_uri": "https://localhost:8080/",
          "height": 35
        },
        "outputId": "7c4bd720-c42a-4424-ac9b-8d146c215021"
      },
      "source": [
        "# Calculo los scores para cada imágen en test con respecto a un usuario\n",
        "metric = 'cosine'\n",
        "\n",
        "n_users, n_images, _ = user_repr.shape\n",
        "user_repr = user_repr.reshape(-1, 32)\n",
        "dists = pairwise_distances(user_repr, test_f, metric=metric)\n",
        "dists = dists.reshape(n_users, n_images, -1)\n",
        "scores = dists.min(axis=1)\n",
        "\n",
        "print(scores.shape)"
      ],
      "execution_count": null,
      "outputs": [
        {
          "output_type": "stream",
          "text": [
            "(10, 1000)\n"
          ],
          "name": "stdout"
        }
      ]
    },
    {
      "cell_type": "code",
      "metadata": {
        "id": "H5h_QpDAE54G"
      },
      "source": [
        "# Lista de recomendación\n",
        "k = 10\n",
        "recommendation_list = np.argpartition(scores, k)\n",
        "recommendation_list = recommendation_list[:,:k]"
      ],
      "execution_count": null,
      "outputs": []
    },
    {
      "cell_type": "markdown",
      "metadata": {
        "id": "mAnd9GZCMZmM"
      },
      "source": [
        "En esta lista muestra el id de los elementos de nuestro base de datos (imagen-texto) que le podria interesar a 10 usuarios diferentes, en base a las menores distancias de los elementos que conocemos del usuario con cada uno de los nuevos elementos que nos llegaron."
      ]
    },
    {
      "cell_type": "code",
      "metadata": {
        "id": "PsyZqqtaM6DA",
        "colab": {
          "base_uri": "https://localhost:8080/",
          "height": 199
        },
        "outputId": "e014bba8-56b8-4b82-b9fa-694fc5508ca2"
      },
      "source": [
        "recommendation_list"
      ],
      "execution_count": null,
      "outputs": [
        {
          "output_type": "execute_result",
          "data": {
            "text/plain": [
              "array([[  8, 462,  42,  80,  36, 980, 805,  46,  65,  92],\n",
              "       [184, 100, 149, 151, 190, 311, 136, 193, 188, 115],\n",
              "       [238, 248, 826, 218, 221, 427, 267, 233, 409,  79],\n",
              "       [309, 353, 321, 116, 300, 189, 826, 302, 418, 375],\n",
              "       [464, 977, 753, 996, 461, 970, 459, 909, 917, 855],\n",
              "       [531, 586, 970, 753, 538, 502, 518, 536, 173, 541],\n",
              "       [756, 645, 646, 613, 630, 622, 660, 683, 665, 744],\n",
              "       [714, 734, 765, 786, 700, 733, 732, 728, 720, 773],\n",
              "       [508,  75, 828, 350, 887, 973, 507, 328, 970, 375],\n",
              "       [493, 870, 827, 811, 810, 990, 589, 543, 406, 951]])"
            ]
          },
          "metadata": {
            "tags": []
          },
          "execution_count": 24
        }
      ]
    },
    {
      "cell_type": "markdown",
      "metadata": {
        "id": "LkjphQyOtp4z"
      },
      "source": [
        "## Métricas de Comparación\n",
        "\n",
        "Tal como vimos en clases, existen varias métricas que se pueden utilizar para comprobar el correcto funcionamiento de nuestro modelo de recomendación. \n",
        "\n",
        "Las primeras métricas son *Precision* y *Recall*, que nos entregan la cantidad de datos correctos recuperamos y estamos recuperando, respectivamente. La figura siguiente es buena para entender estos conceptos.\n",
        "\n",
        "<figure>\n",
        "<center>\n",
        "<img src='https://upload.wikimedia.org/wikipedia/commons/2/26/Precisionrecall.svg' height=\"500\" />\n",
        "<figcaption>Cálculo de precision y recall.</figcaption>\n",
        "</center>\n",
        "\n",
        "</figure>\n",
        "\n",
        "La *Precision* nos dice la cantidad de elementos correctos que recuperamos en nuestro set, es decir, de los elementos que recomendamos al usuario, cuantos de estos efectivamente pueden gustarle a la persona.\n",
        "\n",
        "> $Precision = \\frac{True Positive}{True Positive + False Positive} $\n",
        "\n",
        "Por otro lado, el *Recall* nos indica la cantidad de elementos relevantes que le estamos mostrando al usuario del total de elementos relevantes que sabemos le pueden gustar. Es decir, del total de elementos relevantes para el usuario que tenemos en nuestra base de datos, cuantos de estos los estamos mostrando en nuestra recomendación. \n",
        "\n",
        "> $Recall = \\frac{True Positive}{True Positive + False Negative} $\n",
        "\n",
        "Una métrica particular para sistemas recomendadores es Normalized Discounted Cumulative Gain (nDCG), que busca entregar una metrica con respecto al ránking que le estamos entregando. La intuición es que los elementos mas relevantes debería aparecer primero en nuestro ránking para ir disminuyendo en relevancia.\n",
        "\n",
        "> $nDCG_p = \\frac{\\sum_{i=1}^p\\frac{2^{rel_i}-1}{log_2(i+1)}}{\\sum_{i=1}^{REL_p}\\frac{2^{rel_i}-1}{log_2(i+1)}} = \\frac{DCG_p}{IDCG_p}$\n",
        "\n",
        "En nuestro caso, todos los elementos que queremos recomendarle al usuario tienen igual relevancia (1) y los otros tienen relevancia cero (0)."
      ]
    },
    {
      "cell_type": "code",
      "metadata": {
        "id": "aDnooBnX9eDH"
      },
      "source": [
        "from sklearn.metrics import ndcg_score\n",
        "\n",
        "def ndcg(scores, targets, k):\n",
        "    relevance = np.zeros((targets.size, targets.max() + 1))\n",
        "    relevance[np.arange(targets.size), targets] = 1\n",
        "    relevance = relevance.T\n",
        "\n",
        "    return ndcg_score(relevance, scores, k=k)\n",
        "\n",
        "def pr_at_k(scores, targets, k):\n",
        "    recs = np.argpartition(scores, k)\n",
        "    recs = recs[:,:k]\n",
        "    n_targets = len(set(targets))\n",
        "    rels = np.array([np.where(targets == user_id)[0] for user_id in range(n_targets)])\n",
        "\n",
        "    precision = []\n",
        "    recall = []\n",
        "    for user_id, (recommended, relevants) in enumerate(zip(recs, rels)):\n",
        "        recommended = recommended[:k]\n",
        "        recommended = set(recommended)\n",
        "        relevants = set(relevants)\n",
        "        p = len(recommended & relevants) / len(recommended)\n",
        "        r = len(recommended & relevants) / len(relevants)\n",
        "        precision.append(p)\n",
        "        recall.append(r)\n",
        "\n",
        "    return np.mean(p), np.mean(r) # P@k, R@k"
      ],
      "execution_count": null,
      "outputs": []
    },
    {
      "cell_type": "code",
      "metadata": {
        "id": "B4hA0W2p9d-J",
        "colab": {
          "base_uri": "https://localhost:8080/",
          "height": 72
        },
        "outputId": "bf9096b1-5c38-4284-e40e-4373b5918f96"
      },
      "source": [
        "pr, rec = pr_at_k(scores, targets, k=400)\n",
        "obtained_ndcg = ndcg(scores, targets, k=400)\n",
        "print(f'P={pr}')\n",
        "print(f'R={rec}')\n",
        "print(f'nDCG={obtained_ndcg}')"
      ],
      "execution_count": null,
      "outputs": [
        {
          "output_type": "stream",
          "text": [
            "P=0.2025\n",
            "R=0.81\n",
            "nDCG=0.061429251600944076\n"
          ],
          "name": "stdout"
        }
      ]
    },
    {
      "cell_type": "code",
      "metadata": {
        "id": "mPIHQCwoNZLi",
        "colab": {
          "base_uri": "https://localhost:8080/",
          "height": 276
        },
        "outputId": "98a65f63-0a1d-4385-83a5-f49383f26940"
      },
      "source": [
        "pr_all = []\n",
        "rec_all = []\n",
        "ndcg_all = []\n",
        "for i in range(70,800, 10):\n",
        "    pr, rec = pr_at_k(scores, targets, k=i)\n",
        "    pr_all.append(pr)\n",
        "    rec_all.append(rec)\n",
        "    o_ndcg = ndcg(scores, targets, k=i)\n",
        "    ndcg_all.append(o_ndcg)\n",
        "\n",
        "fig, ax = plt.subplots()\n",
        "ax.plot(pr_all, rec_all)\n",
        "\n",
        "ax.set(xlabel='Precision', ylabel='Recall')\n",
        "ax.grid()\n",
        "\n",
        "plt.show()"
      ],
      "execution_count": null,
      "outputs": [
        {
          "output_type": "display_data",
          "data": {
            "image/png": "[encoded data removed]",
            "text/plain": [
              "<Figure size 432x288 with 1 Axes>"
            ]
          },
          "metadata": {
            "tags": []
          }
        }
      ]
    },
    {
      "cell_type": "code",
      "metadata": {
        "id": "AtIyZ1wKwqdA",
        "colab": {
          "base_uri": "https://localhost:8080/",
          "height": 276
        },
        "outputId": "1929cea3-6bc1-4f0e-97a7-7a6dd8888bad"
      },
      "source": [
        "fig, ax = plt.subplots()\n",
        "ax.plot(ndcg_all, list(range(70, 800, 10)))\n",
        "\n",
        "ax.set(xlabel='NGCD', ylabel='Top@k')\n",
        "ax.grid()\n",
        "\n",
        "plt.show()"
      ],
      "execution_count": null,
      "outputs": [
        {
          "output_type": "display_data",
          "data": {
            "image/png": "[encoded data removed]",
            "text/plain": [
              "<Figure size 432x288 with 1 Axes>"
            ]
          },
          "metadata": {
            "tags": []
          }
        }
      ]
    },
    {
      "cell_type": "markdown",
      "metadata": {
        "id": "lAVcIpnVzqAc"
      },
      "source": [
        "#**Actividad 3**\n",
        "<br>\n",
        "\n",
        "###**1 - A parte del rendimiento del sistema recomendador, ¿qué otros aspectos le parece importante medir en un sistema como el desarrollado? De uno o dos y brevemente describa (1-3 frases) por qué es relevante.***\n",
        "\n",
        "<br>\n",
        "\n",
        "Las limitaciones, beneficios y dificultades, de las   diferentes estrategias de evaluación. Determinar cuáles de  estas formas de evaluación se adaptan más a  los  sistemas recomendadores de nuestro contenido. Proponer métricas  específicas, relacionadas con las variables que se deben  medir y herramientas de medición, Encuestas a usuarios, que cumplan con los requisitos de validez y confiabilidad  necesarios.\n",
        "\n",
        "<br>\n",
        "\n",
        "###**2 - ¿Qué métrica (además de las mencionadas en clases) le podría servir para medir estos aspectos en su modelo? Enumere una o dos métricas.**\n",
        "\n",
        "<br>\n",
        "\n",
        "\n",
        "Para calcularla precisión de la predicción de las puntuaciones existen tres métricas mas:\n",
        "\n",
        "* Error absolutomedio(MAE), Error cuadrático medio(MSE) y raíz de la Desviación Cuadrática Media(RMSE). El MAE mide la diferencia entre la puntuación predicha y la real, eliminar el signo introduciendo la operación de valor absoluto y su expresión es media, puesto que se divide entre el número total de elementos en el conjunto.\n",
        "\n",
        "<br>\n",
        "\n",
        "![MAE](https://drive.google.com/uc?export=view&id=1HhG0O5n6BQhSvpLBrC6QmjzqH_IlDrh1)\n",
        "\n",
        "<br>\n",
        "\n",
        "* El MSE eleva  al  cuadrado  la  diferencia  entre  la  puntuación  predicha  y  la  real  por  dos razones:  para  poder  eliminar  el  signo  como  en  el  MAE  y  para  penalizar  los  errores grandes. Por ejemplo, si tenemos un error de 0.4 al elevarlo al cuadrado el resultado será 0.16, en cambio sítenemos un error de 3 al elevarlo al cuadrado el resultado será 9. El problema que tiene esta medida es que al estar elevada al cuadrado el resultado no va a  estar  dentro  de  la  escala  de puntuaciones  reales.  Por  ese  motivo  se  utiliza  el RMSE.\n",
        "\n",
        "<br>\n",
        "\n",
        "![MSE](https://drive.google.com/uc?export=view&id=19DFKJRP5_LYbhJAypcfZDUXFhu5aPN7x)\n",
        "\n",
        "<br>\n",
        "\n",
        "* El RMSE penaliza los errores grandes y elimina el signo al igual que el MSE, pero al hacer la raíz cuadrada del resultado, este se encuentra dentro de la escala de puntuaciones.\n",
        "\n",
        "<br>\n",
        "\n",
        "![RMSE](https://drive.google.com/uc?export=view&id=1soF6NXoXIlf7fPfIOKJCIKOzUxQUq0Eg)"
      ]
    }
  ]
}