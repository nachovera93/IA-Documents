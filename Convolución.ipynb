{
  "nbformat": 4,
  "nbformat_minor": 0,
  "metadata": {
    "colab": {
      "name": "Convolución.ipynb",
      "provenance": [],
      "authorship_tag": "ABX9TyNoFljQgDvKEZnOHcXYhBrK",
      "include_colab_link": true
    },
    "kernelspec": {
      "name": "python3",
      "display_name": "Python 3"
    }
  },
  "cells": [
    {
      "cell_type": "markdown",
      "metadata": {
        "id": "view-in-github",
        "colab_type": "text"
      },
      "source": [
        "<a href=\"https://colab.research.google.com/github/nachovera93/IA-Documents/blob/main/Convoluci%C3%B3n.ipynb\" target=\"_parent\"><img src=\"https://colab.research.google.com/assets/colab-badge.svg\" alt=\"Open In Colab\"/></a>"
      ]
    },
    {
      "cell_type": "markdown",
      "metadata": {
        "id": "OZs2JkEIYiSv"
      },
      "source": [
        "#**Convolución**\n",
        "Provee un mecanismo para encontrar cierto patrón en un conjunto de datos deslizando un conjuntos de pesos o filtros( conjunto de numeros) mediante el espacio espacial de la entrada.\n",
        "Intuitivamente, el filtro tendrá una respuesta alta(numero)cuando encuentre un patrón parecido.\n",
        "\n",
        "\n",
        "\n",
        "*   Una convolucion² consiste en una multiplicacióón de cada elemento (pesos o filtros) con la entrada.\n",
        "*   Se suma todo el producto\n",
        "\n",
        "\n",
        "*   Esto da un resultado escalar entre parametros e input(neurona).\n",
        "*   El conjunto de neuronas de salida se llama mapa de caracteristicas.\n",
        "*  Esta es una convolución de 2 dimensiones porque nuestro input es de 2 dimensiones.\n",
        "* La dimensionalidad de la convolucióón dependera de la dimensionalidad del input.\n",
        "\n",
        "<br>\n",
        "\n",
        "\n",
        "![Conv](https://www.diegocalvo.es/wp-content/uploads/2017/07/convoluci%C3%B3n.png)\n",
        "\n",
        "\n",
        "###Ejemplo:\n",
        "* Un filtro que detecte orejas tendrá un valor alto en donde se ubiquen las orejas\n",
        "\n",
        "<br>\n",
        "\n",
        "## **Convolución terminos**:\n",
        "* Filtro: Matriz de valores que se aplican al input.\n",
        "* Neurona: Salida de la aplicacion de un filtro (un numero).\n",
        "* Zancada(Stride): Cuantos elementos se saltan antes de aplicar un filtro nuevamente.\n",
        "* Mapa de caracteristicas(Feature map): El set de neuronas de salida para un filtro especifico.\n",
        "* Canales: Componentes de nuestro data.\n",
        "* Dimensiones: Dimensionalidad de nuestro data.\n",
        "\n",
        "<br>\n",
        "\n",
        "![Conv2](https://indoml.files.wordpress.com/2018/03/stride.png?w=736)\n",
        "\n",
        "<br>\n",
        "* <b>Cual es el input? Cuantas dimensiones tiene?</b> \n",
        "  \n",
        "  La primera capa de la izquierda, Tiene 2 dimensiones de 6x6.\n",
        "* **Cual es el filtro? Cuantos pesos hay en el filtro?**\n",
        "  \n",
        "  La capa de al medio, tiene 9 pesos.\n",
        "\n",
        "* **Cual es el mapa de activacion? y cuantas neuronas tiene este mapa de activacion?**\n",
        "\n",
        "  La ultima capa, con 4 neuronas. \n",
        "\n",
        "<br>\n",
        "\n",
        "## **Composición jerarquica**:\n",
        "<br>\n",
        "\n",
        "![Neural Network](https://www.altexsoft.com/media/2019/12/https-lh4-googleusercontent-com-2bmu3wyezxxpefyz.png)\n",
        "\n",
        "<br>\n",
        "\n",
        "* Deep neural network explora la propiedad de que muchas señales naturales forman jerarquías de composición.\n",
        "* Caracteristicas de mayor nivel se obtienen a partir de capas mas bajas.\n",
        "\n",
        "\n",
        "\n",
        "\n",
        "\n",
        "\n",
        "\n"
      ]
    },
    {
      "cell_type": "code",
      "metadata": {
        "id": "iicYTBUYp0Lu"
      },
      "source": [
        ""
      ],
      "execution_count": null,
      "outputs": []
    }
  ]
}