{
  "nbformat": 4,
  "nbformat_minor": 0,
  "metadata": {
    "colab": {
      "name": "IntroPytorch",
      "provenance": [],
      "mount_file_id": "1Qs3_FVdUU-30J-PoM4LyzTUs1SHTrlY4",
      "authorship_tag": "ABX9TyNdkoGNrk2B0DGAtyxHFvUI",
      "include_colab_link": true
    },
    "kernelspec": {
      "name": "python3",
      "display_name": "Python 3"
    },
    "widgets": {
      "application/vnd.jupyter.widget-state+json": {
        "49db373fef79419184941f6a449e7750": {
          "model_module": "@jupyter-widgets/controls",
          "model_name": "HBoxModel",
          "state": {
            "_view_name": "HBoxView",
            "_dom_classes": [],
            "_model_name": "HBoxModel",
            "_view_module": "@jupyter-widgets/controls",
            "_model_module_version": "1.5.0",
            "_view_count": null,
            "_view_module_version": "1.5.0",
            "box_style": "",
            "layout": "IPY_MODEL_f8da1a2fed214f008a5b923d3e6b4a92",
            "_model_module": "@jupyter-widgets/controls",
            "children": [
              "IPY_MODEL_efbf0a5ad30a4b518dc7364dfec91059",
              "IPY_MODEL_04198bff1fb949adbb84e343e2ab78bc"
            ]
          }
        },
        "f8da1a2fed214f008a5b923d3e6b4a92": {
          "model_module": "@jupyter-widgets/base",
          "model_name": "LayoutModel",
          "state": {
            "_view_name": "LayoutView",
            "grid_template_rows": null,
            "right": null,
            "justify_content": null,
            "_view_module": "@jupyter-widgets/base",
            "overflow": null,
            "_model_module_version": "1.2.0",
            "_view_count": null,
            "flex_flow": null,
            "width": null,
            "min_width": null,
            "border": null,
            "align_items": null,
            "bottom": null,
            "_model_module": "@jupyter-widgets/base",
            "top": null,
            "grid_column": null,
            "overflow_y": null,
            "overflow_x": null,
            "grid_auto_flow": null,
            "grid_area": null,
            "grid_template_columns": null,
            "flex": null,
            "_model_name": "LayoutModel",
            "justify_items": null,
            "grid_row": null,
            "max_height": null,
            "align_content": null,
            "visibility": null,
            "align_self": null,
            "height": null,
            "min_height": null,
            "padding": null,
            "grid_auto_rows": null,
            "grid_gap": null,
            "max_width": null,
            "order": null,
            "_view_module_version": "1.2.0",
            "grid_template_areas": null,
            "object_position": null,
            "object_fit": null,
            "grid_auto_columns": null,
            "margin": null,
            "display": null,
            "left": null
          }
        },
        "efbf0a5ad30a4b518dc7364dfec91059": {
          "model_module": "@jupyter-widgets/controls",
          "model_name": "FloatProgressModel",
          "state": {
            "_view_name": "ProgressView",
            "style": "IPY_MODEL_b2becca9087e4ccba47803d862bd8f5f",
            "_dom_classes": [],
            "description": "100%",
            "_model_name": "FloatProgressModel",
            "bar_style": "success",
            "max": 178728960,
            "_view_module": "@jupyter-widgets/controls",
            "_model_module_version": "1.5.0",
            "value": 178728960,
            "_view_count": null,
            "_view_module_version": "1.5.0",
            "orientation": "horizontal",
            "min": 0,
            "description_tooltip": null,
            "_model_module": "@jupyter-widgets/controls",
            "layout": "IPY_MODEL_611092fb297c49f7b3658626e8335a6b"
          }
        },
        "04198bff1fb949adbb84e343e2ab78bc": {
          "model_module": "@jupyter-widgets/controls",
          "model_name": "HTMLModel",
          "state": {
            "_view_name": "HTMLView",
            "style": "IPY_MODEL_c2dae8d8009646a2b1490ab66a805006",
            "_dom_classes": [],
            "description": "",
            "_model_name": "HTMLModel",
            "placeholder": "​",
            "_view_module": "@jupyter-widgets/controls",
            "_model_module_version": "1.5.0",
            "value": " 170M/170M [01:28&lt;00:00, 2.03MB/s]",
            "_view_count": null,
            "_view_module_version": "1.5.0",
            "description_tooltip": null,
            "_model_module": "@jupyter-widgets/controls",
            "layout": "IPY_MODEL_0db867ce937d4ca383c82c156c695f4f"
          }
        },
        "b2becca9087e4ccba47803d862bd8f5f": {
          "model_module": "@jupyter-widgets/controls",
          "model_name": "ProgressStyleModel",
          "state": {
            "_view_name": "StyleView",
            "_model_name": "ProgressStyleModel",
            "description_width": "initial",
            "_view_module": "@jupyter-widgets/base",
            "_model_module_version": "1.5.0",
            "_view_count": null,
            "_view_module_version": "1.2.0",
            "bar_color": null,
            "_model_module": "@jupyter-widgets/controls"
          }
        },
        "611092fb297c49f7b3658626e8335a6b": {
          "model_module": "@jupyter-widgets/base",
          "model_name": "LayoutModel",
          "state": {
            "_view_name": "LayoutView",
            "grid_template_rows": null,
            "right": null,
            "justify_content": null,
            "_view_module": "@jupyter-widgets/base",
            "overflow": null,
            "_model_module_version": "1.2.0",
            "_view_count": null,
            "flex_flow": null,
            "width": null,
            "min_width": null,
            "border": null,
            "align_items": null,
            "bottom": null,
            "_model_module": "@jupyter-widgets/base",
            "top": null,
            "grid_column": null,
            "overflow_y": null,
            "overflow_x": null,
            "grid_auto_flow": null,
            "grid_area": null,
            "grid_template_columns": null,
            "flex": null,
            "_model_name": "LayoutModel",
            "justify_items": null,
            "grid_row": null,
            "max_height": null,
            "align_content": null,
            "visibility": null,
            "align_self": null,
            "height": null,
            "min_height": null,
            "padding": null,
            "grid_auto_rows": null,
            "grid_gap": null,
            "max_width": null,
            "order": null,
            "_view_module_version": "1.2.0",
            "grid_template_areas": null,
            "object_position": null,
            "object_fit": null,
            "grid_auto_columns": null,
            "margin": null,
            "display": null,
            "left": null
          }
        },
        "c2dae8d8009646a2b1490ab66a805006": {
          "model_module": "@jupyter-widgets/controls",
          "model_name": "DescriptionStyleModel",
          "state": {
            "_view_name": "StyleView",
            "_model_name": "DescriptionStyleModel",
            "description_width": "",
            "_view_module": "@jupyter-widgets/base",
            "_model_module_version": "1.5.0",
            "_view_count": null,
            "_view_module_version": "1.2.0",
            "_model_module": "@jupyter-widgets/controls"
          }
        },
        "0db867ce937d4ca383c82c156c695f4f": {
          "model_module": "@jupyter-widgets/base",
          "model_name": "LayoutModel",
          "state": {
            "_view_name": "LayoutView",
            "grid_template_rows": null,
            "right": null,
            "justify_content": null,
            "_view_module": "@jupyter-widgets/base",
            "overflow": null,
            "_model_module_version": "1.2.0",
            "_view_count": null,
            "flex_flow": null,
            "width": null,
            "min_width": null,
            "border": null,
            "align_items": null,
            "bottom": null,
            "_model_module": "@jupyter-widgets/base",
            "top": null,
            "grid_column": null,
            "overflow_y": null,
            "overflow_x": null,
            "grid_auto_flow": null,
            "grid_area": null,
            "grid_template_columns": null,
            "flex": null,
            "_model_name": "LayoutModel",
            "justify_items": null,
            "grid_row": null,
            "max_height": null,
            "align_content": null,
            "visibility": null,
            "align_self": null,
            "height": null,
            "min_height": null,
            "padding": null,
            "grid_auto_rows": null,
            "grid_gap": null,
            "max_width": null,
            "order": null,
            "_view_module_version": "1.2.0",
            "grid_template_areas": null,
            "object_position": null,
            "object_fit": null,
            "grid_auto_columns": null,
            "margin": null,
            "display": null,
            "left": null
          }
        }
      }
    }
  },
  "cells": [
    {
      "cell_type": "markdown",
      "metadata": {
        "id": "view-in-github",
        "colab_type": "text"
      },
      "source": [
        "<a href=\"https://colab.research.google.com/github/nachovera93/IA-Documents/blob/main/IntroPytorch.ipynb\" target=\"_parent\"><img src=\"https://colab.research.google.com/assets/colab-badge.svg\" alt=\"Open In Colab\"/></a>"
      ]
    },
    {
      "cell_type": "code",
      "metadata": {
        "id": "WsYLLYiiK1ZA"
      },
      "source": [
        ""
      ],
      "execution_count": null,
      "outputs": []
    },
    {
      "cell_type": "markdown",
      "metadata": {
        "id": "N5kbplkjBdeg"
      },
      "source": [
        "##**Introducción a PyTorch**\n",
        "\n",
        "PyTorch es una libreria para programas de python que facilita los proyectos de Deep Learning. PyTorch nos da un tipo de datos, el **Tensor** que son arrays multidimensionales para contener números, vectores, matrices, o matrices en general. Además, proporciona funciones para operar sobre ellos. Se puede\n",
        "programar con ellos de forma incremental y, si queremos, interactivamente, muy parecido a Numpy.\n",
        "<br>\n",
        "\n",
        "En segundo lugar, PyTorch proporciona instalaciones que admiten la optimización numérica en\n",
        "Expresiones matemáticas genéricas, que el aprendizaje profundo utiliza para el entrenamiento. \n",
        "<br>\n",
        "\n",
        "PyTorch\n",
        "ha sido equipado con un tiempo de ejecución C ++ de alto rendimiento que se puede utilizar para implementar\n",
        "modelos para inferencia sin depender de Python, y se puede utilizar para diseñar y\n",
        "entrenar modelos en C ++. También ha crecido vínculos con otros idiomas y una interface para implementar en dispositivos móviles. Estas características permiten aprovechar\n",
        "la flexibilidad de PyTorch y al mismo tiempo llevar nuestras aplicaciones donde un script de Python completo\n",
        " sería difícil de conseguir.\n",
        "\n",
        "<br>\n",
        "\n",
        "\n",
        "En el momento de la primera versión beta de PyTorch:\n",
        "* Theano y TensorFlow fueron las principales bibliotecas de bajo nivel, trabajando con un\n",
        "modelo que hizo que el usuario definiera un gráfico computacional y luego lo ejecutara.\n",
        "* Lasagne y Keras fueron envoltorios de alto nivel alrededor de Theano, con envoltura de Keras a TensorFlow y CNTK también.\n",
        "* Caffe, Chainer, DyNet, Torch (el precursor de PyTorch basado en Lua), MXNet,\n",
        "CNTK, DL4J y otros llenaron varios nichos en el ecosistema.\n",
        "<br>\n",
        "\n",
        "En los aproximadamente dos años que siguieron, el panorama cambió drásticamente. La comunidad consolidada en gran medida detrás de PyTorch o TensorFlow, con la adopción\n",
        "de otras bibliotecas menguando, excepto aquellas que llenan nichos específicos. En una palabra:\n",
        "* Theano, uno de los primeros marcos de aprendizaje profundo, ha dejado de desarrollarse activamente.\n",
        "* TensorFlow:\n",
        ">Consumío Keras por completo, promoviéndolo a una API de primera clase\n",
        "<br>\n",
        "> Proporcionó un \"modo inmediato (eager)\" de ejecución que es algo similar a cómo PyTorch aborda la computación.\n",
        "<br>\n",
        "\n",
        "\n",
        "* JAX, una biblioteca de Google que se desarrolló independientemente de TensorFlow,\n",
        "ha comenzado a ganar tracción como un equivalente de NumPy con GPU, autograd y Capacidades JIT.\n",
        "\n",
        "> PyTorch:\n",
        "- Consumío Caffe2 para su backend\n",
        "- Reemplazó la mayor parte del código de bajo nivel reutilizado del proyecto Torch basado en Lua\n",
        "- Se agregó soporte para ONNX, una descripción del modelo independiente del proveedor y formato de intercambio\n",
        "- Se agregó un tiempo de ejecución de \"modo gráfico\" de ejecución retardada llamado *TorchScript*\n",
        "- Versión 1.0 publicada\n",
        "- Reemplazó CNTK y Chainer como el marco de elección por sus respectivos\n",
        "patrocinadores corporativos.\n",
        "<br>\n",
        "\n",
        "TensorFlow tiene una sólida canalización de producción, una extensa comunidad de\n",
        "nidad y mentes compartidas masivas. PyTorch ha hecho grandes avances con la investigación y\n",
        "comunidades de enseñanza, gracias a su facilidad de uso, y ha cobrado impulso desde que investigadores y graduados capacitan a estudiantes y se trasladan a la industria. También se ha construido en términos de soluciones de producción. Curiosamente, con la llegada de TorchScript\n",
        "y modo \"eager\", tanto PyTorch como TensorFlow han visto cómo sus conjuntos de funciones comienzan a\n",
        "convergen con los demás, aunque la presentación de estas características y la experiencia sigue siendo bastante diferente entre los dos.\n",
        "\n",
        "<br>\n",
        "\n",
        "###**Que necesita un proyecto de Deep Learning por PyTorch**\n",
        "\n",
        "Primero, PyTorch tiene el \"Py\" como en Python, pero hay mucho código que no es Python. En realidad, por razones de rendimiento, la mayor parte de PyTorch está escrito en C ++ y CUDA, un lenguaje similar a C ++ de NVIDIA que se puede compilar para ejecutarse con un paralelismo masivo en las GPU. Hay formas de correr PyTorch directamente desde C ++.\n",
        "\n",
        "\n",
        "Teniendo tensores y la biblioteca estándar de tensor habilitada para autogrado, PyTorch puede utilizarse para física, renderizado, optimización, simulación, modelado y más. Pero PyTorch es ante todo una biblioteca de aprendizaje profundo y proporciona todos los componentes básicos necesarios para construir redes neuronales y entrenarlas. La siguiente figura muestra una configuración estándar que carga datos, entrena un modelo y luego implementa ese\n",
        "modelo a producción\n",
        "\n",
        "\n",
        "![Structure of PyTorch](https://miro.medium.com/max/2566/1*V4YmDrMt5aZ975suteX98w.png)\n",
        "\n",
        "El nucleo de PyTorch para construir redes neuronales esta licalizado en *torch.nn*, que provee una comúún red neuronal con capas y demases arquitecturas como Fully connected, CNNs, funciones de activacion, funciones de perdida, etc.\n",
        "\n",
        "Primero necesitamos obtener físicamente los datos, la mayoría\n",
        "a menudo de algún tipo de almacenamiento como fuente de datos. Entonces necesitamos convertir cada muestra de nuestros datos a algo que PyTorch realmente puede manejar: tensores. Este puente entre nuestros datos personalizados (en cualquier formato que sea) y un estándarizado tensor de PyTorch es la clase de conjunto de datos que PyTorch proporciona en *torch.utils.data*. Como este\n",
        "proceso es tremendamente diferente de un problema a otro, tendremos que implementar estos datos provienentes de nosotros mismos.\n",
        "\n",
        "Como el almacenamiento de datos suele ser lento, en particular debido a la latencia de acceso, queremos paralelizar la carga de datos. PyTorch proporciona fácilmente toda esa magia en la clase *DataLoader*. Sus instancias pueden generar procesos secundarios para cargar datos desde un dataset en segundo plano para que esté listo y esperando el ciclo de entrenamiento tan pronto como loop pueda usarlo.\n",
        "\n",
        "En cada paso del ciclo de entrenamiento, evaluamos nuestro modelo en las muestras que obtuvimos desde el cargador de datos. Luego comparamos los resultados de nuestro modelo con los resultados deseados(los objetivos) usando algún criterio o función de pérdida. Así como ofrece los componentes a partir del cual construir el modelo, PyTorch también tiene una variedad de funciones de pérdida. Ellos se proporcionan en *torch.nn*. Después de haber comparado nuestro resultado real\n",
        "pone al ideal con las funciones de pérdida, necesitamos empujar un poco al modelo para mover sus salidas para parecerse mejor al objetivo. Como se mencionó anteriormente, aquí es donde PyTorch\n",
        "entra en modo autogrado; pero también necesitamos un optimizador que realice las actualizaciones, y eso es lo que PyTorch nos ofrece en *torch.optim*\n",
        "\n",
        "<br>\n",
        "\n",
        "##**Pequeño ejemplo de clasificador de imagenes con PyTorch**\n",
        "\n",
        "\n",
        "![Example](https://miro.medium.com/max/2048/0*L_7h9wNLMWzDDr7M.png)\n",
        "\n",
        "La imagen de input primero será procesada dentro de una instancia de un tensor clase *torch.Tensor* . Es una imagen RGB con altura y ancho, por lo que este tensor tendrá 3 dimensiones: los 3 canales de colores, y dos imágenes espaciales con dimensiones de un tamaño específico. Luego nuestro modelo pasará a una red pre-entrenada que obtendrá puntajes para cada clase. El puntaje mayor corresponderá a la clase mas parecida de acuerdo a los pesos. Los outputs estan contenidos en *torch.Tensor*.\n"
      ]
    },
    {
      "cell_type": "code",
      "metadata": {
        "id": "rfpfdw7usACr",
        "outputId": "764963e5-74c9-40d3-bd73-776bc298541d",
        "colab": {
          "base_uri": "https://localhost:8080/"
        }
      },
      "source": [
        "from torchvision import models    #https://github.com/pytorch/vision\n",
        "dir(models)  #devuelve una lista de nombres de todos los atributos válidos y atributos básicos\n"
      ],
      "execution_count": null,
      "outputs": [
        {
          "output_type": "execute_result",
          "data": {
            "text/plain": [
              "['AlexNet',\n",
              " 'DenseNet',\n",
              " 'GoogLeNet',\n",
              " 'GoogLeNetOutputs',\n",
              " 'Inception3',\n",
              " 'InceptionOutputs',\n",
              " 'MNASNet',\n",
              " 'MobileNetV2',\n",
              " 'ResNet',\n",
              " 'ShuffleNetV2',\n",
              " 'SqueezeNet',\n",
              " 'VGG',\n",
              " '_GoogLeNetOutputs',\n",
              " '_InceptionOutputs',\n",
              " '__builtins__',\n",
              " '__cached__',\n",
              " '__doc__',\n",
              " '__file__',\n",
              " '__loader__',\n",
              " '__name__',\n",
              " '__package__',\n",
              " '__path__',\n",
              " '__spec__',\n",
              " '_utils',\n",
              " 'alexnet',\n",
              " 'densenet',\n",
              " 'densenet121',\n",
              " 'densenet161',\n",
              " 'densenet169',\n",
              " 'densenet201',\n",
              " 'detection',\n",
              " 'googlenet',\n",
              " 'inception',\n",
              " 'inception_v3',\n",
              " 'mnasnet',\n",
              " 'mnasnet0_5',\n",
              " 'mnasnet0_75',\n",
              " 'mnasnet1_0',\n",
              " 'mnasnet1_3',\n",
              " 'mobilenet',\n",
              " 'mobilenet_v2',\n",
              " 'quantization',\n",
              " 'resnet',\n",
              " 'resnet101',\n",
              " 'resnet152',\n",
              " 'resnet18',\n",
              " 'resnet34',\n",
              " 'resnet50',\n",
              " 'resnext101_32x8d',\n",
              " 'resnext50_32x4d',\n",
              " 'segmentation',\n",
              " 'shufflenet_v2_x0_5',\n",
              " 'shufflenet_v2_x1_0',\n",
              " 'shufflenet_v2_x1_5',\n",
              " 'shufflenet_v2_x2_0',\n",
              " 'shufflenetv2',\n",
              " 'squeezenet',\n",
              " 'squeezenet1_0',\n",
              " 'squeezenet1_1',\n",
              " 'utils',\n",
              " 'vgg',\n",
              " 'vgg11',\n",
              " 'vgg11_bn',\n",
              " 'vgg13',\n",
              " 'vgg13_bn',\n",
              " 'vgg16',\n",
              " 'vgg16_bn',\n",
              " 'vgg19',\n",
              " 'vgg19_bn',\n",
              " 'video',\n",
              " 'wide_resnet101_2',\n",
              " 'wide_resnet50_2']"
            ]
          },
          "metadata": {
            "tags": []
          },
          "execution_count": 18
        }
      ]
    },
    {
      "cell_type": "markdown",
      "metadata": {
        "id": "Y6h94DxqsyPS"
      },
      "source": [
        "Los nombres en mayúscula se refieren a clases de Python que implementan una serie de populares\n",
        "modelos. Se diferencian en su arquitectura, es decir, en la disposición de las operaciones.\n",
        "que ocurre entre la entrada y la salida. Los nombres en minúsculas son convenientes\n",
        "funciones que devuelven modelos instanciados de esas clases, a veces con diferentes\n",
        "conjuntos de parámetros, numeros de capas, unidades y, opcionalmente, descargan y cargan pesos entrenados en ellos. Por ejemplo, resnet101 devuelve una instancia de ResNet con 101 capas,\n",
        "resnet18 tiene 18 capas y así sucesivamente."
      ]
    },
    {
      "cell_type": "code",
      "metadata": {
        "id": "bdGJdDM9ghX8",
        "outputId": "73bd73bb-ef36-4894-d0a1-bbeb9afd36e4",
        "colab": {
          "base_uri": "https://localhost:8080/",
          "height": 104,
          "referenced_widgets": [
            "49db373fef79419184941f6a449e7750",
            "f8da1a2fed214f008a5b923d3e6b4a92",
            "efbf0a5ad30a4b518dc7364dfec91059",
            "04198bff1fb949adbb84e343e2ab78bc",
            "b2becca9087e4ccba47803d862bd8f5f",
            "611092fb297c49f7b3658626e8335a6b",
            "c2dae8d8009646a2b1490ab66a805006",
            "0db867ce937d4ca383c82c156c695f4f"
          ]
        }
      },
      "source": [
        "resnet = models.resnet101(pretrained=True)"
      ],
      "execution_count": null,
      "outputs": [
        {
          "output_type": "stream",
          "text": [
            "Downloading: \"https://download.pytorch.org/models/resnet101-5d3b4d8f.pth\" to /root/.cache/torch/hub/checkpoints/resnet101-5d3b4d8f.pth\n"
          ],
          "name": "stderr"
        },
        {
          "output_type": "display_data",
          "data": {
            "application/vnd.jupyter.widget-view+json": {
              "model_id": "49db373fef79419184941f6a449e7750",
              "version_minor": 0,
              "version_major": 2
            },
            "text/plain": [
              "HBox(children=(FloatProgress(value=0.0, max=178728960.0), HTML(value='')))"
            ]
          },
          "metadata": {
            "tags": []
          }
        },
        {
          "output_type": "stream",
          "text": [
            "\n"
          ],
          "name": "stdout"
        }
      ]
    },
    {
      "cell_type": "code",
      "metadata": {
        "id": "xJykUD6fg2uJ",
        "outputId": "9d419871-f51b-4791-db25-40179b319025",
        "colab": {
          "base_uri": "https://localhost:8080/"
        }
      },
      "source": [
        "resnet"
      ],
      "execution_count": null,
      "outputs": [
        {
          "output_type": "execute_result",
          "data": {
            "text/plain": [
              "ResNet(\n",
              "  (conv1): Conv2d(3, 64, kernel_size=(7, 7), stride=(2, 2), padding=(3, 3), bias=False)\n",
              "  (bn1): BatchNorm2d(64, eps=1e-05, momentum=0.1, affine=True, track_running_stats=True)\n",
              "  (relu): ReLU(inplace=True)\n",
              "  (maxpool): MaxPool2d(kernel_size=3, stride=2, padding=1, dilation=1, ceil_mode=False)\n",
              "  (layer1): Sequential(\n",
              "    (0): Bottleneck(\n",
              "      (conv1): Conv2d(64, 64, kernel_size=(1, 1), stride=(1, 1), bias=False)\n",
              "      (bn1): BatchNorm2d(64, eps=1e-05, momentum=0.1, affine=True, track_running_stats=True)\n",
              "      (conv2): Conv2d(64, 64, kernel_size=(3, 3), stride=(1, 1), padding=(1, 1), bias=False)\n",
              "      (bn2): BatchNorm2d(64, eps=1e-05, momentum=0.1, affine=True, track_running_stats=True)\n",
              "      (conv3): Conv2d(64, 256, kernel_size=(1, 1), stride=(1, 1), bias=False)\n",
              "      (bn3): BatchNorm2d(256, eps=1e-05, momentum=0.1, affine=True, track_running_stats=True)\n",
              "      (relu): ReLU(inplace=True)\n",
              "      (downsample): Sequential(\n",
              "        (0): Conv2d(64, 256, kernel_size=(1, 1), stride=(1, 1), bias=False)\n",
              "        (1): BatchNorm2d(256, eps=1e-05, momentum=0.1, affine=True, track_running_stats=True)\n",
              "      )\n",
              "    )\n",
              "    (1): Bottleneck(\n",
              "      (conv1): Conv2d(256, 64, kernel_size=(1, 1), stride=(1, 1), bias=False)\n",
              "      (bn1): BatchNorm2d(64, eps=1e-05, momentum=0.1, affine=True, track_running_stats=True)\n",
              "      (conv2): Conv2d(64, 64, kernel_size=(3, 3), stride=(1, 1), padding=(1, 1), bias=False)\n",
              "      (bn2): BatchNorm2d(64, eps=1e-05, momentum=0.1, affine=True, track_running_stats=True)\n",
              "      (conv3): Conv2d(64, 256, kernel_size=(1, 1), stride=(1, 1), bias=False)\n",
              "      (bn3): BatchNorm2d(256, eps=1e-05, momentum=0.1, affine=True, track_running_stats=True)\n",
              "      (relu): ReLU(inplace=True)\n",
              "    )\n",
              "    (2): Bottleneck(\n",
              "      (conv1): Conv2d(256, 64, kernel_size=(1, 1), stride=(1, 1), bias=False)\n",
              "      (bn1): BatchNorm2d(64, eps=1e-05, momentum=0.1, affine=True, track_running_stats=True)\n",
              "      (conv2): Conv2d(64, 64, kernel_size=(3, 3), stride=(1, 1), padding=(1, 1), bias=False)\n",
              "      (bn2): BatchNorm2d(64, eps=1e-05, momentum=0.1, affine=True, track_running_stats=True)\n",
              "      (conv3): Conv2d(64, 256, kernel_size=(1, 1), stride=(1, 1), bias=False)\n",
              "      (bn3): BatchNorm2d(256, eps=1e-05, momentum=0.1, affine=True, track_running_stats=True)\n",
              "      (relu): ReLU(inplace=True)\n",
              "    )\n",
              "  )\n",
              "  (layer2): Sequential(\n",
              "    (0): Bottleneck(\n",
              "      (conv1): Conv2d(256, 128, kernel_size=(1, 1), stride=(1, 1), bias=False)\n",
              "      (bn1): BatchNorm2d(128, eps=1e-05, momentum=0.1, affine=True, track_running_stats=True)\n",
              "      (conv2): Conv2d(128, 128, kernel_size=(3, 3), stride=(2, 2), padding=(1, 1), bias=False)\n",
              "      (bn2): BatchNorm2d(128, eps=1e-05, momentum=0.1, affine=True, track_running_stats=True)\n",
              "      (conv3): Conv2d(128, 512, kernel_size=(1, 1), stride=(1, 1), bias=False)\n",
              "      (bn3): BatchNorm2d(512, eps=1e-05, momentum=0.1, affine=True, track_running_stats=True)\n",
              "      (relu): ReLU(inplace=True)\n",
              "      (downsample): Sequential(\n",
              "        (0): Conv2d(256, 512, kernel_size=(1, 1), stride=(2, 2), bias=False)\n",
              "        (1): BatchNorm2d(512, eps=1e-05, momentum=0.1, affine=True, track_running_stats=True)\n",
              "      )\n",
              "    )\n",
              "    (1): Bottleneck(\n",
              "      (conv1): Conv2d(512, 128, kernel_size=(1, 1), stride=(1, 1), bias=False)\n",
              "      (bn1): BatchNorm2d(128, eps=1e-05, momentum=0.1, affine=True, track_running_stats=True)\n",
              "      (conv2): Conv2d(128, 128, kernel_size=(3, 3), stride=(1, 1), padding=(1, 1), bias=False)\n",
              "      (bn2): BatchNorm2d(128, eps=1e-05, momentum=0.1, affine=True, track_running_stats=True)\n",
              "      (conv3): Conv2d(128, 512, kernel_size=(1, 1), stride=(1, 1), bias=False)\n",
              "      (bn3): BatchNorm2d(512, eps=1e-05, momentum=0.1, affine=True, track_running_stats=True)\n",
              "      (relu): ReLU(inplace=True)\n",
              "    )\n",
              "    (2): Bottleneck(\n",
              "      (conv1): Conv2d(512, 128, kernel_size=(1, 1), stride=(1, 1), bias=False)\n",
              "      (bn1): BatchNorm2d(128, eps=1e-05, momentum=0.1, affine=True, track_running_stats=True)\n",
              "      (conv2): Conv2d(128, 128, kernel_size=(3, 3), stride=(1, 1), padding=(1, 1), bias=False)\n",
              "      (bn2): BatchNorm2d(128, eps=1e-05, momentum=0.1, affine=True, track_running_stats=True)\n",
              "      (conv3): Conv2d(128, 512, kernel_size=(1, 1), stride=(1, 1), bias=False)\n",
              "      (bn3): BatchNorm2d(512, eps=1e-05, momentum=0.1, affine=True, track_running_stats=True)\n",
              "      (relu): ReLU(inplace=True)\n",
              "    )\n",
              "    (3): Bottleneck(\n",
              "      (conv1): Conv2d(512, 128, kernel_size=(1, 1), stride=(1, 1), bias=False)\n",
              "      (bn1): BatchNorm2d(128, eps=1e-05, momentum=0.1, affine=True, track_running_stats=True)\n",
              "      (conv2): Conv2d(128, 128, kernel_size=(3, 3), stride=(1, 1), padding=(1, 1), bias=False)\n",
              "      (bn2): BatchNorm2d(128, eps=1e-05, momentum=0.1, affine=True, track_running_stats=True)\n",
              "      (conv3): Conv2d(128, 512, kernel_size=(1, 1), stride=(1, 1), bias=False)\n",
              "      (bn3): BatchNorm2d(512, eps=1e-05, momentum=0.1, affine=True, track_running_stats=True)\n",
              "      (relu): ReLU(inplace=True)\n",
              "    )\n",
              "  )\n",
              "  (layer3): Sequential(\n",
              "    (0): Bottleneck(\n",
              "      (conv1): Conv2d(512, 256, kernel_size=(1, 1), stride=(1, 1), bias=False)\n",
              "      (bn1): BatchNorm2d(256, eps=1e-05, momentum=0.1, affine=True, track_running_stats=True)\n",
              "      (conv2): Conv2d(256, 256, kernel_size=(3, 3), stride=(2, 2), padding=(1, 1), bias=False)\n",
              "      (bn2): BatchNorm2d(256, eps=1e-05, momentum=0.1, affine=True, track_running_stats=True)\n",
              "      (conv3): Conv2d(256, 1024, kernel_size=(1, 1), stride=(1, 1), bias=False)\n",
              "      (bn3): BatchNorm2d(1024, eps=1e-05, momentum=0.1, affine=True, track_running_stats=True)\n",
              "      (relu): ReLU(inplace=True)\n",
              "      (downsample): Sequential(\n",
              "        (0): Conv2d(512, 1024, kernel_size=(1, 1), stride=(2, 2), bias=False)\n",
              "        (1): BatchNorm2d(1024, eps=1e-05, momentum=0.1, affine=True, track_running_stats=True)\n",
              "      )\n",
              "    )\n",
              "    (1): Bottleneck(\n",
              "      (conv1): Conv2d(1024, 256, kernel_size=(1, 1), stride=(1, 1), bias=False)\n",
              "      (bn1): BatchNorm2d(256, eps=1e-05, momentum=0.1, affine=True, track_running_stats=True)\n",
              "      (conv2): Conv2d(256, 256, kernel_size=(3, 3), stride=(1, 1), padding=(1, 1), bias=False)\n",
              "      (bn2): BatchNorm2d(256, eps=1e-05, momentum=0.1, affine=True, track_running_stats=True)\n",
              "      (conv3): Conv2d(256, 1024, kernel_size=(1, 1), stride=(1, 1), bias=False)\n",
              "      (bn3): BatchNorm2d(1024, eps=1e-05, momentum=0.1, affine=True, track_running_stats=True)\n",
              "      (relu): ReLU(inplace=True)\n",
              "    )\n",
              "    (2): Bottleneck(\n",
              "      (conv1): Conv2d(1024, 256, kernel_size=(1, 1), stride=(1, 1), bias=False)\n",
              "      (bn1): BatchNorm2d(256, eps=1e-05, momentum=0.1, affine=True, track_running_stats=True)\n",
              "      (conv2): Conv2d(256, 256, kernel_size=(3, 3), stride=(1, 1), padding=(1, 1), bias=False)\n",
              "      (bn2): BatchNorm2d(256, eps=1e-05, momentum=0.1, affine=True, track_running_stats=True)\n",
              "      (conv3): Conv2d(256, 1024, kernel_size=(1, 1), stride=(1, 1), bias=False)\n",
              "      (bn3): BatchNorm2d(1024, eps=1e-05, momentum=0.1, affine=True, track_running_stats=True)\n",
              "      (relu): ReLU(inplace=True)\n",
              "    )\n",
              "    (3): Bottleneck(\n",
              "      (conv1): Conv2d(1024, 256, kernel_size=(1, 1), stride=(1, 1), bias=False)\n",
              "      (bn1): BatchNorm2d(256, eps=1e-05, momentum=0.1, affine=True, track_running_stats=True)\n",
              "      (conv2): Conv2d(256, 256, kernel_size=(3, 3), stride=(1, 1), padding=(1, 1), bias=False)\n",
              "      (bn2): BatchNorm2d(256, eps=1e-05, momentum=0.1, affine=True, track_running_stats=True)\n",
              "      (conv3): Conv2d(256, 1024, kernel_size=(1, 1), stride=(1, 1), bias=False)\n",
              "      (bn3): BatchNorm2d(1024, eps=1e-05, momentum=0.1, affine=True, track_running_stats=True)\n",
              "      (relu): ReLU(inplace=True)\n",
              "    )\n",
              "    (4): Bottleneck(\n",
              "      (conv1): Conv2d(1024, 256, kernel_size=(1, 1), stride=(1, 1), bias=False)\n",
              "      (bn1): BatchNorm2d(256, eps=1e-05, momentum=0.1, affine=True, track_running_stats=True)\n",
              "      (conv2): Conv2d(256, 256, kernel_size=(3, 3), stride=(1, 1), padding=(1, 1), bias=False)\n",
              "      (bn2): BatchNorm2d(256, eps=1e-05, momentum=0.1, affine=True, track_running_stats=True)\n",
              "      (conv3): Conv2d(256, 1024, kernel_size=(1, 1), stride=(1, 1), bias=False)\n",
              "      (bn3): BatchNorm2d(1024, eps=1e-05, momentum=0.1, affine=True, track_running_stats=True)\n",
              "      (relu): ReLU(inplace=True)\n",
              "    )\n",
              "    (5): Bottleneck(\n",
              "      (conv1): Conv2d(1024, 256, kernel_size=(1, 1), stride=(1, 1), bias=False)\n",
              "      (bn1): BatchNorm2d(256, eps=1e-05, momentum=0.1, affine=True, track_running_stats=True)\n",
              "      (conv2): Conv2d(256, 256, kernel_size=(3, 3), stride=(1, 1), padding=(1, 1), bias=False)\n",
              "      (bn2): BatchNorm2d(256, eps=1e-05, momentum=0.1, affine=True, track_running_stats=True)\n",
              "      (conv3): Conv2d(256, 1024, kernel_size=(1, 1), stride=(1, 1), bias=False)\n",
              "      (bn3): BatchNorm2d(1024, eps=1e-05, momentum=0.1, affine=True, track_running_stats=True)\n",
              "      (relu): ReLU(inplace=True)\n",
              "    )\n",
              "    (6): Bottleneck(\n",
              "      (conv1): Conv2d(1024, 256, kernel_size=(1, 1), stride=(1, 1), bias=False)\n",
              "      (bn1): BatchNorm2d(256, eps=1e-05, momentum=0.1, affine=True, track_running_stats=True)\n",
              "      (conv2): Conv2d(256, 256, kernel_size=(3, 3), stride=(1, 1), padding=(1, 1), bias=False)\n",
              "      (bn2): BatchNorm2d(256, eps=1e-05, momentum=0.1, affine=True, track_running_stats=True)\n",
              "      (conv3): Conv2d(256, 1024, kernel_size=(1, 1), stride=(1, 1), bias=False)\n",
              "      (bn3): BatchNorm2d(1024, eps=1e-05, momentum=0.1, affine=True, track_running_stats=True)\n",
              "      (relu): ReLU(inplace=True)\n",
              "    )\n",
              "    (7): Bottleneck(\n",
              "      (conv1): Conv2d(1024, 256, kernel_size=(1, 1), stride=(1, 1), bias=False)\n",
              "      (bn1): BatchNorm2d(256, eps=1e-05, momentum=0.1, affine=True, track_running_stats=True)\n",
              "      (conv2): Conv2d(256, 256, kernel_size=(3, 3), stride=(1, 1), padding=(1, 1), bias=False)\n",
              "      (bn2): BatchNorm2d(256, eps=1e-05, momentum=0.1, affine=True, track_running_stats=True)\n",
              "      (conv3): Conv2d(256, 1024, kernel_size=(1, 1), stride=(1, 1), bias=False)\n",
              "      (bn3): BatchNorm2d(1024, eps=1e-05, momentum=0.1, affine=True, track_running_stats=True)\n",
              "      (relu): ReLU(inplace=True)\n",
              "    )\n",
              "    (8): Bottleneck(\n",
              "      (conv1): Conv2d(1024, 256, kernel_size=(1, 1), stride=(1, 1), bias=False)\n",
              "      (bn1): BatchNorm2d(256, eps=1e-05, momentum=0.1, affine=True, track_running_stats=True)\n",
              "      (conv2): Conv2d(256, 256, kernel_size=(3, 3), stride=(1, 1), padding=(1, 1), bias=False)\n",
              "      (bn2): BatchNorm2d(256, eps=1e-05, momentum=0.1, affine=True, track_running_stats=True)\n",
              "      (conv3): Conv2d(256, 1024, kernel_size=(1, 1), stride=(1, 1), bias=False)\n",
              "      (bn3): BatchNorm2d(1024, eps=1e-05, momentum=0.1, affine=True, track_running_stats=True)\n",
              "      (relu): ReLU(inplace=True)\n",
              "    )\n",
              "    (9): Bottleneck(\n",
              "      (conv1): Conv2d(1024, 256, kernel_size=(1, 1), stride=(1, 1), bias=False)\n",
              "      (bn1): BatchNorm2d(256, eps=1e-05, momentum=0.1, affine=True, track_running_stats=True)\n",
              "      (conv2): Conv2d(256, 256, kernel_size=(3, 3), stride=(1, 1), padding=(1, 1), bias=False)\n",
              "      (bn2): BatchNorm2d(256, eps=1e-05, momentum=0.1, affine=True, track_running_stats=True)\n",
              "      (conv3): Conv2d(256, 1024, kernel_size=(1, 1), stride=(1, 1), bias=False)\n",
              "      (bn3): BatchNorm2d(1024, eps=1e-05, momentum=0.1, affine=True, track_running_stats=True)\n",
              "      (relu): ReLU(inplace=True)\n",
              "    )\n",
              "    (10): Bottleneck(\n",
              "      (conv1): Conv2d(1024, 256, kernel_size=(1, 1), stride=(1, 1), bias=False)\n",
              "      (bn1): BatchNorm2d(256, eps=1e-05, momentum=0.1, affine=True, track_running_stats=True)\n",
              "      (conv2): Conv2d(256, 256, kernel_size=(3, 3), stride=(1, 1), padding=(1, 1), bias=False)\n",
              "      (bn2): BatchNorm2d(256, eps=1e-05, momentum=0.1, affine=True, track_running_stats=True)\n",
              "      (conv3): Conv2d(256, 1024, kernel_size=(1, 1), stride=(1, 1), bias=False)\n",
              "      (bn3): BatchNorm2d(1024, eps=1e-05, momentum=0.1, affine=True, track_running_stats=True)\n",
              "      (relu): ReLU(inplace=True)\n",
              "    )\n",
              "    (11): Bottleneck(\n",
              "      (conv1): Conv2d(1024, 256, kernel_size=(1, 1), stride=(1, 1), bias=False)\n",
              "      (bn1): BatchNorm2d(256, eps=1e-05, momentum=0.1, affine=True, track_running_stats=True)\n",
              "      (conv2): Conv2d(256, 256, kernel_size=(3, 3), stride=(1, 1), padding=(1, 1), bias=False)\n",
              "      (bn2): BatchNorm2d(256, eps=1e-05, momentum=0.1, affine=True, track_running_stats=True)\n",
              "      (conv3): Conv2d(256, 1024, kernel_size=(1, 1), stride=(1, 1), bias=False)\n",
              "      (bn3): BatchNorm2d(1024, eps=1e-05, momentum=0.1, affine=True, track_running_stats=True)\n",
              "      (relu): ReLU(inplace=True)\n",
              "    )\n",
              "    (12): Bottleneck(\n",
              "      (conv1): Conv2d(1024, 256, kernel_size=(1, 1), stride=(1, 1), bias=False)\n",
              "      (bn1): BatchNorm2d(256, eps=1e-05, momentum=0.1, affine=True, track_running_stats=True)\n",
              "      (conv2): Conv2d(256, 256, kernel_size=(3, 3), stride=(1, 1), padding=(1, 1), bias=False)\n",
              "      (bn2): BatchNorm2d(256, eps=1e-05, momentum=0.1, affine=True, track_running_stats=True)\n",
              "      (conv3): Conv2d(256, 1024, kernel_size=(1, 1), stride=(1, 1), bias=False)\n",
              "      (bn3): BatchNorm2d(1024, eps=1e-05, momentum=0.1, affine=True, track_running_stats=True)\n",
              "      (relu): ReLU(inplace=True)\n",
              "    )\n",
              "    (13): Bottleneck(\n",
              "      (conv1): Conv2d(1024, 256, kernel_size=(1, 1), stride=(1, 1), bias=False)\n",
              "      (bn1): BatchNorm2d(256, eps=1e-05, momentum=0.1, affine=True, track_running_stats=True)\n",
              "      (conv2): Conv2d(256, 256, kernel_size=(3, 3), stride=(1, 1), padding=(1, 1), bias=False)\n",
              "      (bn2): BatchNorm2d(256, eps=1e-05, momentum=0.1, affine=True, track_running_stats=True)\n",
              "      (conv3): Conv2d(256, 1024, kernel_size=(1, 1), stride=(1, 1), bias=False)\n",
              "      (bn3): BatchNorm2d(1024, eps=1e-05, momentum=0.1, affine=True, track_running_stats=True)\n",
              "      (relu): ReLU(inplace=True)\n",
              "    )\n",
              "    (14): Bottleneck(\n",
              "      (conv1): Conv2d(1024, 256, kernel_size=(1, 1), stride=(1, 1), bias=False)\n",
              "      (bn1): BatchNorm2d(256, eps=1e-05, momentum=0.1, affine=True, track_running_stats=True)\n",
              "      (conv2): Conv2d(256, 256, kernel_size=(3, 3), stride=(1, 1), padding=(1, 1), bias=False)\n",
              "      (bn2): BatchNorm2d(256, eps=1e-05, momentum=0.1, affine=True, track_running_stats=True)\n",
              "      (conv3): Conv2d(256, 1024, kernel_size=(1, 1), stride=(1, 1), bias=False)\n",
              "      (bn3): BatchNorm2d(1024, eps=1e-05, momentum=0.1, affine=True, track_running_stats=True)\n",
              "      (relu): ReLU(inplace=True)\n",
              "    )\n",
              "    (15): Bottleneck(\n",
              "      (conv1): Conv2d(1024, 256, kernel_size=(1, 1), stride=(1, 1), bias=False)\n",
              "      (bn1): BatchNorm2d(256, eps=1e-05, momentum=0.1, affine=True, track_running_stats=True)\n",
              "      (conv2): Conv2d(256, 256, kernel_size=(3, 3), stride=(1, 1), padding=(1, 1), bias=False)\n",
              "      (bn2): BatchNorm2d(256, eps=1e-05, momentum=0.1, affine=True, track_running_stats=True)\n",
              "      (conv3): Conv2d(256, 1024, kernel_size=(1, 1), stride=(1, 1), bias=False)\n",
              "      (bn3): BatchNorm2d(1024, eps=1e-05, momentum=0.1, affine=True, track_running_stats=True)\n",
              "      (relu): ReLU(inplace=True)\n",
              "    )\n",
              "    (16): Bottleneck(\n",
              "      (conv1): Conv2d(1024, 256, kernel_size=(1, 1), stride=(1, 1), bias=False)\n",
              "      (bn1): BatchNorm2d(256, eps=1e-05, momentum=0.1, affine=True, track_running_stats=True)\n",
              "      (conv2): Conv2d(256, 256, kernel_size=(3, 3), stride=(1, 1), padding=(1, 1), bias=False)\n",
              "      (bn2): BatchNorm2d(256, eps=1e-05, momentum=0.1, affine=True, track_running_stats=True)\n",
              "      (conv3): Conv2d(256, 1024, kernel_size=(1, 1), stride=(1, 1), bias=False)\n",
              "      (bn3): BatchNorm2d(1024, eps=1e-05, momentum=0.1, affine=True, track_running_stats=True)\n",
              "      (relu): ReLU(inplace=True)\n",
              "    )\n",
              "    (17): Bottleneck(\n",
              "      (conv1): Conv2d(1024, 256, kernel_size=(1, 1), stride=(1, 1), bias=False)\n",
              "      (bn1): BatchNorm2d(256, eps=1e-05, momentum=0.1, affine=True, track_running_stats=True)\n",
              "      (conv2): Conv2d(256, 256, kernel_size=(3, 3), stride=(1, 1), padding=(1, 1), bias=False)\n",
              "      (bn2): BatchNorm2d(256, eps=1e-05, momentum=0.1, affine=True, track_running_stats=True)\n",
              "      (conv3): Conv2d(256, 1024, kernel_size=(1, 1), stride=(1, 1), bias=False)\n",
              "      (bn3): BatchNorm2d(1024, eps=1e-05, momentum=0.1, affine=True, track_running_stats=True)\n",
              "      (relu): ReLU(inplace=True)\n",
              "    )\n",
              "    (18): Bottleneck(\n",
              "      (conv1): Conv2d(1024, 256, kernel_size=(1, 1), stride=(1, 1), bias=False)\n",
              "      (bn1): BatchNorm2d(256, eps=1e-05, momentum=0.1, affine=True, track_running_stats=True)\n",
              "      (conv2): Conv2d(256, 256, kernel_size=(3, 3), stride=(1, 1), padding=(1, 1), bias=False)\n",
              "      (bn2): BatchNorm2d(256, eps=1e-05, momentum=0.1, affine=True, track_running_stats=True)\n",
              "      (conv3): Conv2d(256, 1024, kernel_size=(1, 1), stride=(1, 1), bias=False)\n",
              "      (bn3): BatchNorm2d(1024, eps=1e-05, momentum=0.1, affine=True, track_running_stats=True)\n",
              "      (relu): ReLU(inplace=True)\n",
              "    )\n",
              "    (19): Bottleneck(\n",
              "      (conv1): Conv2d(1024, 256, kernel_size=(1, 1), stride=(1, 1), bias=False)\n",
              "      (bn1): BatchNorm2d(256, eps=1e-05, momentum=0.1, affine=True, track_running_stats=True)\n",
              "      (conv2): Conv2d(256, 256, kernel_size=(3, 3), stride=(1, 1), padding=(1, 1), bias=False)\n",
              "      (bn2): BatchNorm2d(256, eps=1e-05, momentum=0.1, affine=True, track_running_stats=True)\n",
              "      (conv3): Conv2d(256, 1024, kernel_size=(1, 1), stride=(1, 1), bias=False)\n",
              "      (bn3): BatchNorm2d(1024, eps=1e-05, momentum=0.1, affine=True, track_running_stats=True)\n",
              "      (relu): ReLU(inplace=True)\n",
              "    )\n",
              "    (20): Bottleneck(\n",
              "      (conv1): Conv2d(1024, 256, kernel_size=(1, 1), stride=(1, 1), bias=False)\n",
              "      (bn1): BatchNorm2d(256, eps=1e-05, momentum=0.1, affine=True, track_running_stats=True)\n",
              "      (conv2): Conv2d(256, 256, kernel_size=(3, 3), stride=(1, 1), padding=(1, 1), bias=False)\n",
              "      (bn2): BatchNorm2d(256, eps=1e-05, momentum=0.1, affine=True, track_running_stats=True)\n",
              "      (conv3): Conv2d(256, 1024, kernel_size=(1, 1), stride=(1, 1), bias=False)\n",
              "      (bn3): BatchNorm2d(1024, eps=1e-05, momentum=0.1, affine=True, track_running_stats=True)\n",
              "      (relu): ReLU(inplace=True)\n",
              "    )\n",
              "    (21): Bottleneck(\n",
              "      (conv1): Conv2d(1024, 256, kernel_size=(1, 1), stride=(1, 1), bias=False)\n",
              "      (bn1): BatchNorm2d(256, eps=1e-05, momentum=0.1, affine=True, track_running_stats=True)\n",
              "      (conv2): Conv2d(256, 256, kernel_size=(3, 3), stride=(1, 1), padding=(1, 1), bias=False)\n",
              "      (bn2): BatchNorm2d(256, eps=1e-05, momentum=0.1, affine=True, track_running_stats=True)\n",
              "      (conv3): Conv2d(256, 1024, kernel_size=(1, 1), stride=(1, 1), bias=False)\n",
              "      (bn3): BatchNorm2d(1024, eps=1e-05, momentum=0.1, affine=True, track_running_stats=True)\n",
              "      (relu): ReLU(inplace=True)\n",
              "    )\n",
              "    (22): Bottleneck(\n",
              "      (conv1): Conv2d(1024, 256, kernel_size=(1, 1), stride=(1, 1), bias=False)\n",
              "      (bn1): BatchNorm2d(256, eps=1e-05, momentum=0.1, affine=True, track_running_stats=True)\n",
              "      (conv2): Conv2d(256, 256, kernel_size=(3, 3), stride=(1, 1), padding=(1, 1), bias=False)\n",
              "      (bn2): BatchNorm2d(256, eps=1e-05, momentum=0.1, affine=True, track_running_stats=True)\n",
              "      (conv3): Conv2d(256, 1024, kernel_size=(1, 1), stride=(1, 1), bias=False)\n",
              "      (bn3): BatchNorm2d(1024, eps=1e-05, momentum=0.1, affine=True, track_running_stats=True)\n",
              "      (relu): ReLU(inplace=True)\n",
              "    )\n",
              "  )\n",
              "  (layer4): Sequential(\n",
              "    (0): Bottleneck(\n",
              "      (conv1): Conv2d(1024, 512, kernel_size=(1, 1), stride=(1, 1), bias=False)\n",
              "      (bn1): BatchNorm2d(512, eps=1e-05, momentum=0.1, affine=True, track_running_stats=True)\n",
              "      (conv2): Conv2d(512, 512, kernel_size=(3, 3), stride=(2, 2), padding=(1, 1), bias=False)\n",
              "      (bn2): BatchNorm2d(512, eps=1e-05, momentum=0.1, affine=True, track_running_stats=True)\n",
              "      (conv3): Conv2d(512, 2048, kernel_size=(1, 1), stride=(1, 1), bias=False)\n",
              "      (bn3): BatchNorm2d(2048, eps=1e-05, momentum=0.1, affine=True, track_running_stats=True)\n",
              "      (relu): ReLU(inplace=True)\n",
              "      (downsample): Sequential(\n",
              "        (0): Conv2d(1024, 2048, kernel_size=(1, 1), stride=(2, 2), bias=False)\n",
              "        (1): BatchNorm2d(2048, eps=1e-05, momentum=0.1, affine=True, track_running_stats=True)\n",
              "      )\n",
              "    )\n",
              "    (1): Bottleneck(\n",
              "      (conv1): Conv2d(2048, 512, kernel_size=(1, 1), stride=(1, 1), bias=False)\n",
              "      (bn1): BatchNorm2d(512, eps=1e-05, momentum=0.1, affine=True, track_running_stats=True)\n",
              "      (conv2): Conv2d(512, 512, kernel_size=(3, 3), stride=(1, 1), padding=(1, 1), bias=False)\n",
              "      (bn2): BatchNorm2d(512, eps=1e-05, momentum=0.1, affine=True, track_running_stats=True)\n",
              "      (conv3): Conv2d(512, 2048, kernel_size=(1, 1), stride=(1, 1), bias=False)\n",
              "      (bn3): BatchNorm2d(2048, eps=1e-05, momentum=0.1, affine=True, track_running_stats=True)\n",
              "      (relu): ReLU(inplace=True)\n",
              "    )\n",
              "    (2): Bottleneck(\n",
              "      (conv1): Conv2d(2048, 512, kernel_size=(1, 1), stride=(1, 1), bias=False)\n",
              "      (bn1): BatchNorm2d(512, eps=1e-05, momentum=0.1, affine=True, track_running_stats=True)\n",
              "      (conv2): Conv2d(512, 512, kernel_size=(3, 3), stride=(1, 1), padding=(1, 1), bias=False)\n",
              "      (bn2): BatchNorm2d(512, eps=1e-05, momentum=0.1, affine=True, track_running_stats=True)\n",
              "      (conv3): Conv2d(512, 2048, kernel_size=(1, 1), stride=(1, 1), bias=False)\n",
              "      (bn3): BatchNorm2d(2048, eps=1e-05, momentum=0.1, affine=True, track_running_stats=True)\n",
              "      (relu): ReLU(inplace=True)\n",
              "    )\n",
              "  )\n",
              "  (avgpool): AdaptiveAvgPool2d(output_size=(1, 1))\n",
              "  (fc): Linear(in_features=2048, out_features=1000, bias=True)\n",
              ")"
            ]
          },
          "metadata": {
            "tags": []
          },
          "execution_count": 20
        }
      ]
    },
    {
      "cell_type": "markdown",
      "metadata": {
        "id": "_odOgofAUUWB"
      },
      "source": [
        "<br>\n",
        "\n",
        "Antes de hacer todo tenemos que preprocesar las imágenes de entrada para tener el tamaño correcto que sus valores (colores) se sitúen aproximadamente en el mismo rango de números.\n",
        "Para hacer esto el modulo de *torchvision* tiene el modulo *transforms*, que nos da una tuberia de funciones basicas para procesamiento "
      ]
    },
    {
      "cell_type": "code",
      "metadata": {
        "id": "oo38lygrWkB7"
      },
      "source": [
        "from torchvision import transforms\n",
        "preprocess = transforms.Compose([\n",
        "       transforms.Resize(256),\n",
        "       transforms.CenterCrop(224),\n",
        "       transforms.ToTensor(),\n",
        "       transforms.Normalize(\n",
        "          mean=[0.485, 0.456, 0.406],\n",
        "          std=[0.229, 0.224, 0.225]\n",
        "      )])"
      ],
      "execution_count": null,
      "outputs": []
    },
    {
      "cell_type": "markdown",
      "metadata": {
        "id": "EHZvHzGSadxe"
      },
      "source": [
        "En este caso, definimos una funcion para pre-procesar en que se escala la imagen de entrada a 256x256, se corta a 224x224 alrededor del centro, lo transformamos a tensor( en este caso 3D, color,alto y ancho), y normalizamos en RGB para que tengan medias definidas y desviaciones estándar.\n",
        "Estos deben coincidir con lo que se presentó a\n",
        "la red durante el entrenamiento, si queremos que la red produzca respuestas significativas.\n"
      ]
    },
    {
      "cell_type": "code",
      "metadata": {
        "id": "e4hvsBdlfEwk",
        "outputId": "46649632-5f79-4847-967d-f604d674c3f8",
        "colab": {
          "base_uri": "https://localhost:8080/"
        }
      },
      "source": [
        " pip install Pillow"
      ],
      "execution_count": null,
      "outputs": [
        {
          "output_type": "stream",
          "text": [
            "Requirement already satisfied: Pillow in /usr/local/lib/python3.6/dist-packages (7.0.0)\n"
          ],
          "name": "stdout"
        }
      ]
    },
    {
      "cell_type": "code",
      "metadata": {
        "id": "wH5EbpX0gQqz"
      },
      "source": [
        "from PIL import Image\n",
        "from google.colab import files # for image display\n",
        "\n",
        "\n"
      ],
      "execution_count": null,
      "outputs": []
    },
    {
      "cell_type": "code",
      "metadata": {
        "id": "Zhyx79fll6DP",
        "outputId": "04b909cd-c0c6-4070-d784-aae713deb971",
        "colab": {
          "resources": {
            "http://localhost:8080/nbextensions/google.colab/files.js": {
              "data": "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",
              "ok": true,
              "headers": [
                [
                  "content-type",
                  "application/javascript"
                ]
              ],
              "status": 200,
              "status_text": "OK"
            }
          },
          "base_uri": "https://localhost:8080/",
          "height": 81
        }
      },
      "source": [
        "uploaded = files.upload()\n",
        "\n"
      ],
      "execution_count": null,
      "outputs": [
        {
          "output_type": "display_data",
          "data": {
            "text/html": [
              "\n",
              "     <input type=\"file\" id=\"files-6646fd31-6c61-481a-8996-78b9712cc9ce\" name=\"files[]\" multiple disabled\n",
              "        style=\"border:none\" />\n",
              "     <output id=\"result-6646fd31-6c61-481a-8996-78b9712cc9ce\">\n",
              "      Upload widget is only available when the cell has been executed in the\n",
              "      current browser session. Please rerun this cell to enable.\n",
              "      </output>\n",
              "      <script src=\"/nbextensions/google.colab/files.js\"></script> "
            ],
            "text/plain": [
              "<IPython.core.display.HTML object>"
            ]
          },
          "metadata": {
            "tags": []
          }
        },
        {
          "output_type": "stream",
          "text": [
            "Saving bobby.jpeg to bobby.jpeg\n"
          ],
          "name": "stdout"
        }
      ]
    },
    {
      "cell_type": "code",
      "metadata": {
        "id": "EqNn8ibSphgY"
      },
      "source": [
        "img = Image.open(\"bobby.jpeg\")"
      ],
      "execution_count": null,
      "outputs": []
    },
    {
      "cell_type": "code",
      "metadata": {
        "id": "h3ce15dKp5B0",
        "outputId": "47ee5a94-c553-4ede-daf4-1a1f3343502e",
        "colab": {
          "base_uri": "https://localhost:8080/",
          "height": 186
        }
      },
      "source": [
        "img"
      ],
      "execution_count": null,
      "outputs": [
        {
          "output_type": "execute_result",
          "data": {
            "image/png": "[encoded data removed]",
            "text/plain": [
              "<PIL.JpegImagePlugin.JpegImageFile image mode=RGB size=298x169 at 0x7F842A121390>"
            ]
          },
          "metadata": {
            "tags": []
          },
          "execution_count": 29
        }
      ]
    },
    {
      "cell_type": "code",
      "metadata": {
        "id": "0EsEloxiqIev"
      },
      "source": [
        "img_t = preprocess(img)"
      ],
      "execution_count": null,
      "outputs": []
    },
    {
      "cell_type": "markdown",
      "metadata": {
        "id": "Kil1n-SAEqEB"
      },
      "source": [
        "Ahora debemos remodelar, recortar y normalizar el tensor de entrada de manera que la red espera."
      ]
    },
    {
      "cell_type": "code",
      "metadata": {
        "id": "YoGspCwxqR3j"
      },
      "source": [
        "import torch\n",
        "batch_t = torch.unsqueeze(img_t, 0)"
      ],
      "execution_count": null,
      "outputs": []
    },
    {
      "cell_type": "markdown",
      "metadata": {
        "id": "Y8Q_8fn1FUHr"
      },
      "source": [
        "Ahora correremos el nuevo data en el modelo ya entrenado (inference) para esto debemos poner la red en modo *eval*\n"
      ]
    },
    {
      "cell_type": "code",
      "metadata": {
        "id": "oUGLekGCFwlT",
        "outputId": "a7630a35-294e-475d-fb7e-81270a2349cb",
        "colab": {
          "base_uri": "https://localhost:8080/"
        }
      },
      "source": [
        "resnet.eval()"
      ],
      "execution_count": null,
      "outputs": [
        {
          "output_type": "execute_result",
          "data": {
            "text/plain": [
              "ResNet(\n",
              "  (conv1): Conv2d(3, 64, kernel_size=(7, 7), stride=(2, 2), padding=(3, 3), bias=False)\n",
              "  (bn1): BatchNorm2d(64, eps=1e-05, momentum=0.1, affine=True, track_running_stats=True)\n",
              "  (relu): ReLU(inplace=True)\n",
              "  (maxpool): MaxPool2d(kernel_size=3, stride=2, padding=1, dilation=1, ceil_mode=False)\n",
              "  (layer1): Sequential(\n",
              "    (0): Bottleneck(\n",
              "      (conv1): Conv2d(64, 64, kernel_size=(1, 1), stride=(1, 1), bias=False)\n",
              "      (bn1): BatchNorm2d(64, eps=1e-05, momentum=0.1, affine=True, track_running_stats=True)\n",
              "      (conv2): Conv2d(64, 64, kernel_size=(3, 3), stride=(1, 1), padding=(1, 1), bias=False)\n",
              "      (bn2): BatchNorm2d(64, eps=1e-05, momentum=0.1, affine=True, track_running_stats=True)\n",
              "      (conv3): Conv2d(64, 256, kernel_size=(1, 1), stride=(1, 1), bias=False)\n",
              "      (bn3): BatchNorm2d(256, eps=1e-05, momentum=0.1, affine=True, track_running_stats=True)\n",
              "      (relu): ReLU(inplace=True)\n",
              "      (downsample): Sequential(\n",
              "        (0): Conv2d(64, 256, kernel_size=(1, 1), stride=(1, 1), bias=False)\n",
              "        (1): BatchNorm2d(256, eps=1e-05, momentum=0.1, affine=True, track_running_stats=True)\n",
              "      )\n",
              "    )\n",
              "    (1): Bottleneck(\n",
              "      (conv1): Conv2d(256, 64, kernel_size=(1, 1), stride=(1, 1), bias=False)\n",
              "      (bn1): BatchNorm2d(64, eps=1e-05, momentum=0.1, affine=True, track_running_stats=True)\n",
              "      (conv2): Conv2d(64, 64, kernel_size=(3, 3), stride=(1, 1), padding=(1, 1), bias=False)\n",
              "      (bn2): BatchNorm2d(64, eps=1e-05, momentum=0.1, affine=True, track_running_stats=True)\n",
              "      (conv3): Conv2d(64, 256, kernel_size=(1, 1), stride=(1, 1), bias=False)\n",
              "      (bn3): BatchNorm2d(256, eps=1e-05, momentum=0.1, affine=True, track_running_stats=True)\n",
              "      (relu): ReLU(inplace=True)\n",
              "    )\n",
              "    (2): Bottleneck(\n",
              "      (conv1): Conv2d(256, 64, kernel_size=(1, 1), stride=(1, 1), bias=False)\n",
              "      (bn1): BatchNorm2d(64, eps=1e-05, momentum=0.1, affine=True, track_running_stats=True)\n",
              "      (conv2): Conv2d(64, 64, kernel_size=(3, 3), stride=(1, 1), padding=(1, 1), bias=False)\n",
              "      (bn2): BatchNorm2d(64, eps=1e-05, momentum=0.1, affine=True, track_running_stats=True)\n",
              "      (conv3): Conv2d(64, 256, kernel_size=(1, 1), stride=(1, 1), bias=False)\n",
              "      (bn3): BatchNorm2d(256, eps=1e-05, momentum=0.1, affine=True, track_running_stats=True)\n",
              "      (relu): ReLU(inplace=True)\n",
              "    )\n",
              "  )\n",
              "  (layer2): Sequential(\n",
              "    (0): Bottleneck(\n",
              "      (conv1): Conv2d(256, 128, kernel_size=(1, 1), stride=(1, 1), bias=False)\n",
              "      (bn1): BatchNorm2d(128, eps=1e-05, momentum=0.1, affine=True, track_running_stats=True)\n",
              "      (conv2): Conv2d(128, 128, kernel_size=(3, 3), stride=(2, 2), padding=(1, 1), bias=False)\n",
              "      (bn2): BatchNorm2d(128, eps=1e-05, momentum=0.1, affine=True, track_running_stats=True)\n",
              "      (conv3): Conv2d(128, 512, kernel_size=(1, 1), stride=(1, 1), bias=False)\n",
              "      (bn3): BatchNorm2d(512, eps=1e-05, momentum=0.1, affine=True, track_running_stats=True)\n",
              "      (relu): ReLU(inplace=True)\n",
              "      (downsample): Sequential(\n",
              "        (0): Conv2d(256, 512, kernel_size=(1, 1), stride=(2, 2), bias=False)\n",
              "        (1): BatchNorm2d(512, eps=1e-05, momentum=0.1, affine=True, track_running_stats=True)\n",
              "      )\n",
              "    )\n",
              "    (1): Bottleneck(\n",
              "      (conv1): Conv2d(512, 128, kernel_size=(1, 1), stride=(1, 1), bias=False)\n",
              "      (bn1): BatchNorm2d(128, eps=1e-05, momentum=0.1, affine=True, track_running_stats=True)\n",
              "      (conv2): Conv2d(128, 128, kernel_size=(3, 3), stride=(1, 1), padding=(1, 1), bias=False)\n",
              "      (bn2): BatchNorm2d(128, eps=1e-05, momentum=0.1, affine=True, track_running_stats=True)\n",
              "      (conv3): Conv2d(128, 512, kernel_size=(1, 1), stride=(1, 1), bias=False)\n",
              "      (bn3): BatchNorm2d(512, eps=1e-05, momentum=0.1, affine=True, track_running_stats=True)\n",
              "      (relu): ReLU(inplace=True)\n",
              "    )\n",
              "    (2): Bottleneck(\n",
              "      (conv1): Conv2d(512, 128, kernel_size=(1, 1), stride=(1, 1), bias=False)\n",
              "      (bn1): BatchNorm2d(128, eps=1e-05, momentum=0.1, affine=True, track_running_stats=True)\n",
              "      (conv2): Conv2d(128, 128, kernel_size=(3, 3), stride=(1, 1), padding=(1, 1), bias=False)\n",
              "      (bn2): BatchNorm2d(128, eps=1e-05, momentum=0.1, affine=True, track_running_stats=True)\n",
              "      (conv3): Conv2d(128, 512, kernel_size=(1, 1), stride=(1, 1), bias=False)\n",
              "      (bn3): BatchNorm2d(512, eps=1e-05, momentum=0.1, affine=True, track_running_stats=True)\n",
              "      (relu): ReLU(inplace=True)\n",
              "    )\n",
              "    (3): Bottleneck(\n",
              "      (conv1): Conv2d(512, 128, kernel_size=(1, 1), stride=(1, 1), bias=False)\n",
              "      (bn1): BatchNorm2d(128, eps=1e-05, momentum=0.1, affine=True, track_running_stats=True)\n",
              "      (conv2): Conv2d(128, 128, kernel_size=(3, 3), stride=(1, 1), padding=(1, 1), bias=False)\n",
              "      (bn2): BatchNorm2d(128, eps=1e-05, momentum=0.1, affine=True, track_running_stats=True)\n",
              "      (conv3): Conv2d(128, 512, kernel_size=(1, 1), stride=(1, 1), bias=False)\n",
              "      (bn3): BatchNorm2d(512, eps=1e-05, momentum=0.1, affine=True, track_running_stats=True)\n",
              "      (relu): ReLU(inplace=True)\n",
              "    )\n",
              "  )\n",
              "  (layer3): Sequential(\n",
              "    (0): Bottleneck(\n",
              "      (conv1): Conv2d(512, 256, kernel_size=(1, 1), stride=(1, 1), bias=False)\n",
              "      (bn1): BatchNorm2d(256, eps=1e-05, momentum=0.1, affine=True, track_running_stats=True)\n",
              "      (conv2): Conv2d(256, 256, kernel_size=(3, 3), stride=(2, 2), padding=(1, 1), bias=False)\n",
              "      (bn2): BatchNorm2d(256, eps=1e-05, momentum=0.1, affine=True, track_running_stats=True)\n",
              "      (conv3): Conv2d(256, 1024, kernel_size=(1, 1), stride=(1, 1), bias=False)\n",
              "      (bn3): BatchNorm2d(1024, eps=1e-05, momentum=0.1, affine=True, track_running_stats=True)\n",
              "      (relu): ReLU(inplace=True)\n",
              "      (downsample): Sequential(\n",
              "        (0): Conv2d(512, 1024, kernel_size=(1, 1), stride=(2, 2), bias=False)\n",
              "        (1): BatchNorm2d(1024, eps=1e-05, momentum=0.1, affine=True, track_running_stats=True)\n",
              "      )\n",
              "    )\n",
              "    (1): Bottleneck(\n",
              "      (conv1): Conv2d(1024, 256, kernel_size=(1, 1), stride=(1, 1), bias=False)\n",
              "      (bn1): BatchNorm2d(256, eps=1e-05, momentum=0.1, affine=True, track_running_stats=True)\n",
              "      (conv2): Conv2d(256, 256, kernel_size=(3, 3), stride=(1, 1), padding=(1, 1), bias=False)\n",
              "      (bn2): BatchNorm2d(256, eps=1e-05, momentum=0.1, affine=True, track_running_stats=True)\n",
              "      (conv3): Conv2d(256, 1024, kernel_size=(1, 1), stride=(1, 1), bias=False)\n",
              "      (bn3): BatchNorm2d(1024, eps=1e-05, momentum=0.1, affine=True, track_running_stats=True)\n",
              "      (relu): ReLU(inplace=True)\n",
              "    )\n",
              "    (2): Bottleneck(\n",
              "      (conv1): Conv2d(1024, 256, kernel_size=(1, 1), stride=(1, 1), bias=False)\n",
              "      (bn1): BatchNorm2d(256, eps=1e-05, momentum=0.1, affine=True, track_running_stats=True)\n",
              "      (conv2): Conv2d(256, 256, kernel_size=(3, 3), stride=(1, 1), padding=(1, 1), bias=False)\n",
              "      (bn2): BatchNorm2d(256, eps=1e-05, momentum=0.1, affine=True, track_running_stats=True)\n",
              "      (conv3): Conv2d(256, 1024, kernel_size=(1, 1), stride=(1, 1), bias=False)\n",
              "      (bn3): BatchNorm2d(1024, eps=1e-05, momentum=0.1, affine=True, track_running_stats=True)\n",
              "      (relu): ReLU(inplace=True)\n",
              "    )\n",
              "    (3): Bottleneck(\n",
              "      (conv1): Conv2d(1024, 256, kernel_size=(1, 1), stride=(1, 1), bias=False)\n",
              "      (bn1): BatchNorm2d(256, eps=1e-05, momentum=0.1, affine=True, track_running_stats=True)\n",
              "      (conv2): Conv2d(256, 256, kernel_size=(3, 3), stride=(1, 1), padding=(1, 1), bias=False)\n",
              "      (bn2): BatchNorm2d(256, eps=1e-05, momentum=0.1, affine=True, track_running_stats=True)\n",
              "      (conv3): Conv2d(256, 1024, kernel_size=(1, 1), stride=(1, 1), bias=False)\n",
              "      (bn3): BatchNorm2d(1024, eps=1e-05, momentum=0.1, affine=True, track_running_stats=True)\n",
              "      (relu): ReLU(inplace=True)\n",
              "    )\n",
              "    (4): Bottleneck(\n",
              "      (conv1): Conv2d(1024, 256, kernel_size=(1, 1), stride=(1, 1), bias=False)\n",
              "      (bn1): BatchNorm2d(256, eps=1e-05, momentum=0.1, affine=True, track_running_stats=True)\n",
              "      (conv2): Conv2d(256, 256, kernel_size=(3, 3), stride=(1, 1), padding=(1, 1), bias=False)\n",
              "      (bn2): BatchNorm2d(256, eps=1e-05, momentum=0.1, affine=True, track_running_stats=True)\n",
              "      (conv3): Conv2d(256, 1024, kernel_size=(1, 1), stride=(1, 1), bias=False)\n",
              "      (bn3): BatchNorm2d(1024, eps=1e-05, momentum=0.1, affine=True, track_running_stats=True)\n",
              "      (relu): ReLU(inplace=True)\n",
              "    )\n",
              "    (5): Bottleneck(\n",
              "      (conv1): Conv2d(1024, 256, kernel_size=(1, 1), stride=(1, 1), bias=False)\n",
              "      (bn1): BatchNorm2d(256, eps=1e-05, momentum=0.1, affine=True, track_running_stats=True)\n",
              "      (conv2): Conv2d(256, 256, kernel_size=(3, 3), stride=(1, 1), padding=(1, 1), bias=False)\n",
              "      (bn2): BatchNorm2d(256, eps=1e-05, momentum=0.1, affine=True, track_running_stats=True)\n",
              "      (conv3): Conv2d(256, 1024, kernel_size=(1, 1), stride=(1, 1), bias=False)\n",
              "      (bn3): BatchNorm2d(1024, eps=1e-05, momentum=0.1, affine=True, track_running_stats=True)\n",
              "      (relu): ReLU(inplace=True)\n",
              "    )\n",
              "    (6): Bottleneck(\n",
              "      (conv1): Conv2d(1024, 256, kernel_size=(1, 1), stride=(1, 1), bias=False)\n",
              "      (bn1): BatchNorm2d(256, eps=1e-05, momentum=0.1, affine=True, track_running_stats=True)\n",
              "      (conv2): Conv2d(256, 256, kernel_size=(3, 3), stride=(1, 1), padding=(1, 1), bias=False)\n",
              "      (bn2): BatchNorm2d(256, eps=1e-05, momentum=0.1, affine=True, track_running_stats=True)\n",
              "      (conv3): Conv2d(256, 1024, kernel_size=(1, 1), stride=(1, 1), bias=False)\n",
              "      (bn3): BatchNorm2d(1024, eps=1e-05, momentum=0.1, affine=True, track_running_stats=True)\n",
              "      (relu): ReLU(inplace=True)\n",
              "    )\n",
              "    (7): Bottleneck(\n",
              "      (conv1): Conv2d(1024, 256, kernel_size=(1, 1), stride=(1, 1), bias=False)\n",
              "      (bn1): BatchNorm2d(256, eps=1e-05, momentum=0.1, affine=True, track_running_stats=True)\n",
              "      (conv2): Conv2d(256, 256, kernel_size=(3, 3), stride=(1, 1), padding=(1, 1), bias=False)\n",
              "      (bn2): BatchNorm2d(256, eps=1e-05, momentum=0.1, affine=True, track_running_stats=True)\n",
              "      (conv3): Conv2d(256, 1024, kernel_size=(1, 1), stride=(1, 1), bias=False)\n",
              "      (bn3): BatchNorm2d(1024, eps=1e-05, momentum=0.1, affine=True, track_running_stats=True)\n",
              "      (relu): ReLU(inplace=True)\n",
              "    )\n",
              "    (8): Bottleneck(\n",
              "      (conv1): Conv2d(1024, 256, kernel_size=(1, 1), stride=(1, 1), bias=False)\n",
              "      (bn1): BatchNorm2d(256, eps=1e-05, momentum=0.1, affine=True, track_running_stats=True)\n",
              "      (conv2): Conv2d(256, 256, kernel_size=(3, 3), stride=(1, 1), padding=(1, 1), bias=False)\n",
              "      (bn2): BatchNorm2d(256, eps=1e-05, momentum=0.1, affine=True, track_running_stats=True)\n",
              "      (conv3): Conv2d(256, 1024, kernel_size=(1, 1), stride=(1, 1), bias=False)\n",
              "      (bn3): BatchNorm2d(1024, eps=1e-05, momentum=0.1, affine=True, track_running_stats=True)\n",
              "      (relu): ReLU(inplace=True)\n",
              "    )\n",
              "    (9): Bottleneck(\n",
              "      (conv1): Conv2d(1024, 256, kernel_size=(1, 1), stride=(1, 1), bias=False)\n",
              "      (bn1): BatchNorm2d(256, eps=1e-05, momentum=0.1, affine=True, track_running_stats=True)\n",
              "      (conv2): Conv2d(256, 256, kernel_size=(3, 3), stride=(1, 1), padding=(1, 1), bias=False)\n",
              "      (bn2): BatchNorm2d(256, eps=1e-05, momentum=0.1, affine=True, track_running_stats=True)\n",
              "      (conv3): Conv2d(256, 1024, kernel_size=(1, 1), stride=(1, 1), bias=False)\n",
              "      (bn3): BatchNorm2d(1024, eps=1e-05, momentum=0.1, affine=True, track_running_stats=True)\n",
              "      (relu): ReLU(inplace=True)\n",
              "    )\n",
              "    (10): Bottleneck(\n",
              "      (conv1): Conv2d(1024, 256, kernel_size=(1, 1), stride=(1, 1), bias=False)\n",
              "      (bn1): BatchNorm2d(256, eps=1e-05, momentum=0.1, affine=True, track_running_stats=True)\n",
              "      (conv2): Conv2d(256, 256, kernel_size=(3, 3), stride=(1, 1), padding=(1, 1), bias=False)\n",
              "      (bn2): BatchNorm2d(256, eps=1e-05, momentum=0.1, affine=True, track_running_stats=True)\n",
              "      (conv3): Conv2d(256, 1024, kernel_size=(1, 1), stride=(1, 1), bias=False)\n",
              "      (bn3): BatchNorm2d(1024, eps=1e-05, momentum=0.1, affine=True, track_running_stats=True)\n",
              "      (relu): ReLU(inplace=True)\n",
              "    )\n",
              "    (11): Bottleneck(\n",
              "      (conv1): Conv2d(1024, 256, kernel_size=(1, 1), stride=(1, 1), bias=False)\n",
              "      (bn1): BatchNorm2d(256, eps=1e-05, momentum=0.1, affine=True, track_running_stats=True)\n",
              "      (conv2): Conv2d(256, 256, kernel_size=(3, 3), stride=(1, 1), padding=(1, 1), bias=False)\n",
              "      (bn2): BatchNorm2d(256, eps=1e-05, momentum=0.1, affine=True, track_running_stats=True)\n",
              "      (conv3): Conv2d(256, 1024, kernel_size=(1, 1), stride=(1, 1), bias=False)\n",
              "      (bn3): BatchNorm2d(1024, eps=1e-05, momentum=0.1, affine=True, track_running_stats=True)\n",
              "      (relu): ReLU(inplace=True)\n",
              "    )\n",
              "    (12): Bottleneck(\n",
              "      (conv1): Conv2d(1024, 256, kernel_size=(1, 1), stride=(1, 1), bias=False)\n",
              "      (bn1): BatchNorm2d(256, eps=1e-05, momentum=0.1, affine=True, track_running_stats=True)\n",
              "      (conv2): Conv2d(256, 256, kernel_size=(3, 3), stride=(1, 1), padding=(1, 1), bias=False)\n",
              "      (bn2): BatchNorm2d(256, eps=1e-05, momentum=0.1, affine=True, track_running_stats=True)\n",
              "      (conv3): Conv2d(256, 1024, kernel_size=(1, 1), stride=(1, 1), bias=False)\n",
              "      (bn3): BatchNorm2d(1024, eps=1e-05, momentum=0.1, affine=True, track_running_stats=True)\n",
              "      (relu): ReLU(inplace=True)\n",
              "    )\n",
              "    (13): Bottleneck(\n",
              "      (conv1): Conv2d(1024, 256, kernel_size=(1, 1), stride=(1, 1), bias=False)\n",
              "      (bn1): BatchNorm2d(256, eps=1e-05, momentum=0.1, affine=True, track_running_stats=True)\n",
              "      (conv2): Conv2d(256, 256, kernel_size=(3, 3), stride=(1, 1), padding=(1, 1), bias=False)\n",
              "      (bn2): BatchNorm2d(256, eps=1e-05, momentum=0.1, affine=True, track_running_stats=True)\n",
              "      (conv3): Conv2d(256, 1024, kernel_size=(1, 1), stride=(1, 1), bias=False)\n",
              "      (bn3): BatchNorm2d(1024, eps=1e-05, momentum=0.1, affine=True, track_running_stats=True)\n",
              "      (relu): ReLU(inplace=True)\n",
              "    )\n",
              "    (14): Bottleneck(\n",
              "      (conv1): Conv2d(1024, 256, kernel_size=(1, 1), stride=(1, 1), bias=False)\n",
              "      (bn1): BatchNorm2d(256, eps=1e-05, momentum=0.1, affine=True, track_running_stats=True)\n",
              "      (conv2): Conv2d(256, 256, kernel_size=(3, 3), stride=(1, 1), padding=(1, 1), bias=False)\n",
              "      (bn2): BatchNorm2d(256, eps=1e-05, momentum=0.1, affine=True, track_running_stats=True)\n",
              "      (conv3): Conv2d(256, 1024, kernel_size=(1, 1), stride=(1, 1), bias=False)\n",
              "      (bn3): BatchNorm2d(1024, eps=1e-05, momentum=0.1, affine=True, track_running_stats=True)\n",
              "      (relu): ReLU(inplace=True)\n",
              "    )\n",
              "    (15): Bottleneck(\n",
              "      (conv1): Conv2d(1024, 256, kernel_size=(1, 1), stride=(1, 1), bias=False)\n",
              "      (bn1): BatchNorm2d(256, eps=1e-05, momentum=0.1, affine=True, track_running_stats=True)\n",
              "      (conv2): Conv2d(256, 256, kernel_size=(3, 3), stride=(1, 1), padding=(1, 1), bias=False)\n",
              "      (bn2): BatchNorm2d(256, eps=1e-05, momentum=0.1, affine=True, track_running_stats=True)\n",
              "      (conv3): Conv2d(256, 1024, kernel_size=(1, 1), stride=(1, 1), bias=False)\n",
              "      (bn3): BatchNorm2d(1024, eps=1e-05, momentum=0.1, affine=True, track_running_stats=True)\n",
              "      (relu): ReLU(inplace=True)\n",
              "    )\n",
              "    (16): Bottleneck(\n",
              "      (conv1): Conv2d(1024, 256, kernel_size=(1, 1), stride=(1, 1), bias=False)\n",
              "      (bn1): BatchNorm2d(256, eps=1e-05, momentum=0.1, affine=True, track_running_stats=True)\n",
              "      (conv2): Conv2d(256, 256, kernel_size=(3, 3), stride=(1, 1), padding=(1, 1), bias=False)\n",
              "      (bn2): BatchNorm2d(256, eps=1e-05, momentum=0.1, affine=True, track_running_stats=True)\n",
              "      (conv3): Conv2d(256, 1024, kernel_size=(1, 1), stride=(1, 1), bias=False)\n",
              "      (bn3): BatchNorm2d(1024, eps=1e-05, momentum=0.1, affine=True, track_running_stats=True)\n",
              "      (relu): ReLU(inplace=True)\n",
              "    )\n",
              "    (17): Bottleneck(\n",
              "      (conv1): Conv2d(1024, 256, kernel_size=(1, 1), stride=(1, 1), bias=False)\n",
              "      (bn1): BatchNorm2d(256, eps=1e-05, momentum=0.1, affine=True, track_running_stats=True)\n",
              "      (conv2): Conv2d(256, 256, kernel_size=(3, 3), stride=(1, 1), padding=(1, 1), bias=False)\n",
              "      (bn2): BatchNorm2d(256, eps=1e-05, momentum=0.1, affine=True, track_running_stats=True)\n",
              "      (conv3): Conv2d(256, 1024, kernel_size=(1, 1), stride=(1, 1), bias=False)\n",
              "      (bn3): BatchNorm2d(1024, eps=1e-05, momentum=0.1, affine=True, track_running_stats=True)\n",
              "      (relu): ReLU(inplace=True)\n",
              "    )\n",
              "    (18): Bottleneck(\n",
              "      (conv1): Conv2d(1024, 256, kernel_size=(1, 1), stride=(1, 1), bias=False)\n",
              "      (bn1): BatchNorm2d(256, eps=1e-05, momentum=0.1, affine=True, track_running_stats=True)\n",
              "      (conv2): Conv2d(256, 256, kernel_size=(3, 3), stride=(1, 1), padding=(1, 1), bias=False)\n",
              "      (bn2): BatchNorm2d(256, eps=1e-05, momentum=0.1, affine=True, track_running_stats=True)\n",
              "      (conv3): Conv2d(256, 1024, kernel_size=(1, 1), stride=(1, 1), bias=False)\n",
              "      (bn3): BatchNorm2d(1024, eps=1e-05, momentum=0.1, affine=True, track_running_stats=True)\n",
              "      (relu): ReLU(inplace=True)\n",
              "    )\n",
              "    (19): Bottleneck(\n",
              "      (conv1): Conv2d(1024, 256, kernel_size=(1, 1), stride=(1, 1), bias=False)\n",
              "      (bn1): BatchNorm2d(256, eps=1e-05, momentum=0.1, affine=True, track_running_stats=True)\n",
              "      (conv2): Conv2d(256, 256, kernel_size=(3, 3), stride=(1, 1), padding=(1, 1), bias=False)\n",
              "      (bn2): BatchNorm2d(256, eps=1e-05, momentum=0.1, affine=True, track_running_stats=True)\n",
              "      (conv3): Conv2d(256, 1024, kernel_size=(1, 1), stride=(1, 1), bias=False)\n",
              "      (bn3): BatchNorm2d(1024, eps=1e-05, momentum=0.1, affine=True, track_running_stats=True)\n",
              "      (relu): ReLU(inplace=True)\n",
              "    )\n",
              "    (20): Bottleneck(\n",
              "      (conv1): Conv2d(1024, 256, kernel_size=(1, 1), stride=(1, 1), bias=False)\n",
              "      (bn1): BatchNorm2d(256, eps=1e-05, momentum=0.1, affine=True, track_running_stats=True)\n",
              "      (conv2): Conv2d(256, 256, kernel_size=(3, 3), stride=(1, 1), padding=(1, 1), bias=False)\n",
              "      (bn2): BatchNorm2d(256, eps=1e-05, momentum=0.1, affine=True, track_running_stats=True)\n",
              "      (conv3): Conv2d(256, 1024, kernel_size=(1, 1), stride=(1, 1), bias=False)\n",
              "      (bn3): BatchNorm2d(1024, eps=1e-05, momentum=0.1, affine=True, track_running_stats=True)\n",
              "      (relu): ReLU(inplace=True)\n",
              "    )\n",
              "    (21): Bottleneck(\n",
              "      (conv1): Conv2d(1024, 256, kernel_size=(1, 1), stride=(1, 1), bias=False)\n",
              "      (bn1): BatchNorm2d(256, eps=1e-05, momentum=0.1, affine=True, track_running_stats=True)\n",
              "      (conv2): Conv2d(256, 256, kernel_size=(3, 3), stride=(1, 1), padding=(1, 1), bias=False)\n",
              "      (bn2): BatchNorm2d(256, eps=1e-05, momentum=0.1, affine=True, track_running_stats=True)\n",
              "      (conv3): Conv2d(256, 1024, kernel_size=(1, 1), stride=(1, 1), bias=False)\n",
              "      (bn3): BatchNorm2d(1024, eps=1e-05, momentum=0.1, affine=True, track_running_stats=True)\n",
              "      (relu): ReLU(inplace=True)\n",
              "    )\n",
              "    (22): Bottleneck(\n",
              "      (conv1): Conv2d(1024, 256, kernel_size=(1, 1), stride=(1, 1), bias=False)\n",
              "      (bn1): BatchNorm2d(256, eps=1e-05, momentum=0.1, affine=True, track_running_stats=True)\n",
              "      (conv2): Conv2d(256, 256, kernel_size=(3, 3), stride=(1, 1), padding=(1, 1), bias=False)\n",
              "      (bn2): BatchNorm2d(256, eps=1e-05, momentum=0.1, affine=True, track_running_stats=True)\n",
              "      (conv3): Conv2d(256, 1024, kernel_size=(1, 1), stride=(1, 1), bias=False)\n",
              "      (bn3): BatchNorm2d(1024, eps=1e-05, momentum=0.1, affine=True, track_running_stats=True)\n",
              "      (relu): ReLU(inplace=True)\n",
              "    )\n",
              "  )\n",
              "  (layer4): Sequential(\n",
              "    (0): Bottleneck(\n",
              "      (conv1): Conv2d(1024, 512, kernel_size=(1, 1), stride=(1, 1), bias=False)\n",
              "      (bn1): BatchNorm2d(512, eps=1e-05, momentum=0.1, affine=True, track_running_stats=True)\n",
              "      (conv2): Conv2d(512, 512, kernel_size=(3, 3), stride=(2, 2), padding=(1, 1), bias=False)\n",
              "      (bn2): BatchNorm2d(512, eps=1e-05, momentum=0.1, affine=True, track_running_stats=True)\n",
              "      (conv3): Conv2d(512, 2048, kernel_size=(1, 1), stride=(1, 1), bias=False)\n",
              "      (bn3): BatchNorm2d(2048, eps=1e-05, momentum=0.1, affine=True, track_running_stats=True)\n",
              "      (relu): ReLU(inplace=True)\n",
              "      (downsample): Sequential(\n",
              "        (0): Conv2d(1024, 2048, kernel_size=(1, 1), stride=(2, 2), bias=False)\n",
              "        (1): BatchNorm2d(2048, eps=1e-05, momentum=0.1, affine=True, track_running_stats=True)\n",
              "      )\n",
              "    )\n",
              "    (1): Bottleneck(\n",
              "      (conv1): Conv2d(2048, 512, kernel_size=(1, 1), stride=(1, 1), bias=False)\n",
              "      (bn1): BatchNorm2d(512, eps=1e-05, momentum=0.1, affine=True, track_running_stats=True)\n",
              "      (conv2): Conv2d(512, 512, kernel_size=(3, 3), stride=(1, 1), padding=(1, 1), bias=False)\n",
              "      (bn2): BatchNorm2d(512, eps=1e-05, momentum=0.1, affine=True, track_running_stats=True)\n",
              "      (conv3): Conv2d(512, 2048, kernel_size=(1, 1), stride=(1, 1), bias=False)\n",
              "      (bn3): BatchNorm2d(2048, eps=1e-05, momentum=0.1, affine=True, track_running_stats=True)\n",
              "      (relu): ReLU(inplace=True)\n",
              "    )\n",
              "    (2): Bottleneck(\n",
              "      (conv1): Conv2d(2048, 512, kernel_size=(1, 1), stride=(1, 1), bias=False)\n",
              "      (bn1): BatchNorm2d(512, eps=1e-05, momentum=0.1, affine=True, track_running_stats=True)\n",
              "      (conv2): Conv2d(512, 512, kernel_size=(3, 3), stride=(1, 1), padding=(1, 1), bias=False)\n",
              "      (bn2): BatchNorm2d(512, eps=1e-05, momentum=0.1, affine=True, track_running_stats=True)\n",
              "      (conv3): Conv2d(512, 2048, kernel_size=(1, 1), stride=(1, 1), bias=False)\n",
              "      (bn3): BatchNorm2d(2048, eps=1e-05, momentum=0.1, affine=True, track_running_stats=True)\n",
              "      (relu): ReLU(inplace=True)\n",
              "    )\n",
              "  )\n",
              "  (avgpool): AdaptiveAvgPool2d(output_size=(1, 1))\n",
              "  (fc): Linear(in_features=2048, out_features=1000, bias=True)\n",
              ")"
            ]
          },
          "metadata": {
            "tags": []
          },
          "execution_count": 32
        }
      ]
    },
    {
      "cell_type": "markdown",
      "metadata": {
        "id": "dRLIRlDOFT-Y"
      },
      "source": [
        "Si nos olvidamos de hacer eso, algunos modelos previamente entrenados, el *batch normalization* y el *dropout*,\n",
        "no producirán respuestas significativas, solo por la forma en que funcionan internamente.\n",
        "Ahora que se ha configurado la evaluación, estamos listos para la inferencia:"
      ]
    },
    {
      "cell_type": "code",
      "metadata": {
        "id": "mAUgyCoWHLKU",
        "outputId": "1d45ba79-a52d-487a-c6d6-13e5a86cd0eb",
        "colab": {
          "base_uri": "https://localhost:8080/"
        }
      },
      "source": [
        "out = resnet(batch_t)\n",
        "out"
      ],
      "execution_count": null,
      "outputs": [
        {
          "output_type": "execute_result",
          "data": {
            "text/plain": [
              "tensor([[-1.3986e+00, -6.2033e-01, -2.9437e+00, -2.7712e+00, -3.7103e+00,\n",
              "          5.2921e-01, -2.5447e+00, -3.3349e+00, -1.7430e+00, -3.6172e+00,\n",
              "         -4.6292e-01, -1.7834e+00, -2.7132e+00, -3.3856e+00, -2.9248e+00,\n",
              "         -2.9830e+00, -3.6641e+00, -2.1183e+00, -2.2839e+00, -1.7682e+00,\n",
              "         -2.7717e+00, -3.2199e+00, -2.8673e+00, -1.6995e+00, -2.4627e+00,\n",
              "         -1.2556e+00, -1.8867e+00, -1.8260e+00, -2.0010e+00, -2.0818e+00,\n",
              "         -3.5218e+00, -2.2841e+00, -4.1108e-01, -1.3036e+00, -1.5079e+00,\n",
              "         -2.6547e+00, -2.0323e-01, -2.0098e+00, -8.3036e-01, -2.6095e+00,\n",
              "         -1.2450e+00, -5.2958e-01,  7.2256e-01,  6.3277e-01, -2.3049e+00,\n",
              "         -1.5677e+00, -1.0123e+00, -8.1403e-01, -3.0311e+00, -3.6857e+00,\n",
              "         -4.1956e+00, -9.1304e-01, -2.1229e+00, -2.7010e+00, -2.6808e+00,\n",
              "         -3.1066e+00, -2.1794e+00, -2.6784e+00, -4.0254e+00, -2.8773e-01,\n",
              "         -1.3773e+00, -2.2222e+00, -5.0211e-01, -6.3197e-01, -1.7300e+00,\n",
              "         -1.9016e+00, -1.0187e+00, -2.0331e+00, -6.7412e-01, -1.5595e+00,\n",
              "         -6.4161e-01, -1.2138e+00, -1.7806e+00,  1.1459e+00, -1.4063e+00,\n",
              "         -4.6509e-01, -2.4159e+00, -1.0446e+00,  2.1721e-01, -5.0228e-02,\n",
              "         -1.4819e+00, -4.3116e+00, -6.7228e-01,  6.5616e-01, -2.9831e+00,\n",
              "         -3.6259e+00, -1.0914e+00,  2.3218e-01, -2.1909e+00, -3.3971e+00,\n",
              "         -4.1369e+00, -2.5916e+00, -3.4472e-01, -2.9227e+00, -1.1806e+00,\n",
              "         -1.7230e+00, -1.5287e+00, -2.5934e+00, -1.7605e+00, -2.1914e+00,\n",
              "         -4.9311e+00, -2.1801e+00, -1.8953e+00, -1.4439e+00, -3.2695e+00,\n",
              "         -4.1702e+00, -3.8327e+00, -2.5833e-02, -1.2241e+00, -1.8234e+00,\n",
              "         -3.0629e+00, -4.8950e-01,  2.6311e-01, -9.0964e-01, -1.3281e+00,\n",
              "         -1.8551e+00, -1.8978e+00,  4.0049e-01, -9.6061e-01, -2.5158e+00,\n",
              "         -2.7324e+00, -4.6320e-01, -3.3216e-02, -1.2624e+00, -1.6849e+00,\n",
              "         -9.0829e-01,  8.2143e-01, -2.7487e+00, -2.6252e+00, -1.4909e+00,\n",
              "         -3.1606e+00, -2.6901e+00, -1.7730e+00, -1.4422e+00, -1.4018e+00,\n",
              "         -1.7197e+00, -2.1266e+00, -3.6617e+00, -3.7766e+00, -2.4433e+00,\n",
              "         -2.4746e-01, -4.3027e+00, -2.0858e+00, -3.0760e+00, -3.7238e+00,\n",
              "         -2.2495e+00, -2.9777e+00, -3.4186e+00, -3.1577e+00, -1.8761e+00,\n",
              "          2.4108e-01,  4.3518e+00,  4.0308e+00,  4.0828e+00,  6.3319e+00,\n",
              "          2.6247e+00,  3.9916e+00,  2.0662e+00,  5.5074e+00,  7.1752e+00,\n",
              "          5.2500e+00,  4.1496e+00,  8.4330e+00,  5.7606e+00,  5.7994e+00,\n",
              "          6.6311e+00,  5.3921e+00,  6.4046e+00,  1.0399e+01,  1.1227e+00,\n",
              "          3.4761e+00,  3.5837e+00,  1.3816e+00,  1.8210e+00,  1.5666e+00,\n",
              "          7.1892e+00,  6.8402e+00,  2.1268e+00,  2.8025e+00,  2.4713e+00,\n",
              "          3.6032e+00,  2.9800e+00,  4.6174e+00,  1.7187e+00,  4.6276e+00,\n",
              "          5.5865e+00,  2.5468e+00,  3.4863e+00,  3.6239e+00,  4.4146e+00,\n",
              "          2.9450e+00,  3.5680e+00,  3.8437e+00,  4.5157e+00,  4.9583e+00,\n",
              "          6.2914e-01,  2.3479e+00,  2.1173e+00,  1.1889e+00,  1.9490e+00,\n",
              "          4.9647e+00,  3.6438e+00,  2.9107e+00,  1.3626e+00,  4.3631e+00,\n",
              "          6.8741e+00,  4.9856e+00,  1.5675e+01,  1.2743e+01,  4.9634e+00,\n",
              "          3.6684e+00,  6.6121e+00,  7.2870e+00,  7.0319e+00,  5.5726e+00,\n",
              "          6.7804e+00,  6.6212e+00,  1.9114e+00,  4.7939e+00,  1.0323e+01,\n",
              "          8.6018e+00,  2.6439e+00,  4.4915e+00,  2.3653e+00,  7.6090e-01,\n",
              "          7.9052e-01,  3.7246e+00,  5.5606e+00,  1.6282e+00,  1.6295e+00,\n",
              "          4.1544e+00,  4.6912e+00,  3.4500e+00, -1.9449e+00,  2.9474e+00,\n",
              "          1.9094e+00,  2.8364e+00,  3.0478e+00,  3.4142e+00,  3.1086e+00,\n",
              "          3.2321e+00,  3.3710e+00,  1.2342e+00,  1.9082e+00,  4.2077e+00,\n",
              "         -1.6299e-01,  3.1008e+00,  2.3103e+00,  1.7029e+00,  7.9322e-01,\n",
              "         -2.6186e-01,  3.6578e+00,  1.5632e+00,  2.6027e+00,  4.6861e-01,\n",
              "          2.1449e+00,  3.2492e+00,  4.9343e+00,  8.7401e-01,  4.4077e+00,\n",
              "          4.0866e+00, -1.1221e-02,  1.3744e+00,  5.2114e+00,  3.5915e+00,\n",
              "          4.2722e+00,  5.8850e+00,  4.1923e+00,  1.7333e+00, -1.2111e+00,\n",
              "         -5.8056e-01,  1.1894e+00, -5.6508e-01,  4.9756e+00, -6.0654e-01,\n",
              "         -2.1142e+00, -9.9796e-01, -7.5660e-01, -1.1993e+00, -2.2760e+00,\n",
              "         -1.1635e+00,  1.2158e+00,  1.8031e-01, -1.6245e+00,  6.2616e-01,\n",
              "          2.2686e-01, -2.2433e+00, -2.2927e+00, -1.3230e+00, -5.5383e+00,\n",
              "         -8.2981e-01, -9.1215e-01, -2.4455e+00,  1.5617e+00,  5.4489e-01,\n",
              "         -2.7078e+00, -9.7037e-01, -2.0849e+00, -1.4660e+00,  5.1993e-01,\n",
              "         -5.1600e-01,  1.1991e+00,  6.4594e-01, -1.3935e+00,  1.2640e+00,\n",
              "          2.3708e-01, -1.0290e+00,  9.8039e-01, -1.4631e+00, -1.3091e+00,\n",
              "         -6.5262e-02,  2.7430e-02,  4.2734e-02, -6.9378e-01,  1.0568e+00,\n",
              "         -2.4143e+00, -2.5548e+00,  1.9158e-01, -7.8394e-01, -1.2170e+00,\n",
              "         -1.5642e+00, -4.3619e+00, -2.0519e+00, -9.4931e-01, -2.6134e+00,\n",
              "         -1.7654e+00, -2.4249e+00, -1.8214e+00, -5.4206e-01, -3.5182e+00,\n",
              "         -1.7020e+00, -1.1120e+00, -8.7762e-02, -1.1629e+00, -1.4795e-01,\n",
              "         -9.2841e-01, -2.3580e+00, -1.5171e+00, -6.7904e-01,  5.9977e-01,\n",
              "         -2.7665e+00, -6.3840e-01, -1.8459e+00, -3.9793e+00, -4.1003e+00,\n",
              "         -1.7342e+00, -2.7607e+00, -3.6432e+00, -3.8112e+00, -2.8659e+00,\n",
              "         -1.2836e+00, -1.1178e+00, -7.8695e-01,  2.5917e-01, -1.2511e+00,\n",
              "         -2.3145e+00,  2.4890e-01, -1.9311e+00, -5.8151e-01,  1.1456e+00,\n",
              "         -1.2972e+00, -1.3237e+00, -8.9834e-01, -9.1383e-01, -1.1026e+00,\n",
              "         -1.6143e+00, -4.2056e+00, -4.2679e+00, -1.2338e+00, -1.7898e+00,\n",
              "         -2.5488e+00, -1.3994e+00, -5.5315e+00, -2.3739e+00, -5.0548e-01,\n",
              "         -2.5206e+00, -8.5288e-01, -1.3063e-01, -1.7705e+00, -1.7598e+00,\n",
              "         -1.5220e+00, -3.2924e+00, -2.3357e+00, -4.0645e+00, -3.3327e+00,\n",
              "         -2.6469e+00, -4.4457e-01, -1.4359e+00, -1.7044e+00, -3.0523e-01,\n",
              "         -2.4661e+00, -3.3294e+00, -2.8700e-01, -2.9124e+00, -2.6729e+00,\n",
              "         -2.0528e-01, -3.6371e+00,  5.4038e-01, -7.5652e-01,  1.3460e+00,\n",
              "          2.2796e+00,  3.8746e-01,  1.1580e+00, -3.3254e+00, -2.2354e+00,\n",
              "         -1.6716e+00, -1.3736e+00, -6.9552e-01, -8.8985e-01,  3.3317e-01,\n",
              "         -2.0638e+00,  4.0872e+00,  7.1240e-01, -1.2848e+00,  2.5135e+00,\n",
              "          2.2976e+00,  2.0456e+00,  1.0006e+00,  4.2860e-03,  1.3431e+00,\n",
              "         -8.9608e-01,  7.4111e-02, -1.3415e-01,  8.2572e-01, -1.4390e+00,\n",
              "         -2.2407e+00,  1.2552e+00,  4.9902e-01,  2.5060e+00,  1.3833e+00,\n",
              "          7.3298e-01,  1.3414e+00,  5.2776e-01,  2.8336e+00,  6.0648e+00,\n",
              "          1.8164e+00,  1.5040e-02, -2.0099e+00, -1.0008e+00, -1.9981e+00,\n",
              "         -6.5986e-01, -1.5875e+00, -5.2767e-01,  1.4761e+00, -1.6390e+00,\n",
              "          3.4660e-02,  1.8873e+00,  1.2019e+00,  1.2375e+00, -1.0826e+00,\n",
              "         -2.5427e+00,  1.4197e+00,  2.9517e+00, -5.2105e-01, -9.4637e-01,\n",
              "         -7.4808e-01, -1.7104e+00, -2.0014e-02, -3.1051e+00,  8.4923e-01,\n",
              "         -2.5100e+00, -7.2188e-01,  2.2234e+00,  2.0992e+00, -4.8153e-01,\n",
              "          1.6673e+00, -1.3052e+00, -1.9293e+00, -1.1958e+00, -1.4743e-01,\n",
              "         -3.9917e-01, -2.1698e+00,  1.9845e+00,  7.9169e-02, -1.6301e+00,\n",
              "          7.6436e-02, -1.1053e+00, -1.6554e-01,  2.7995e+00,  1.3573e-01,\n",
              "          1.5936e-01, -6.7910e-01,  9.4795e-01, -2.9754e+00, -2.1455e+00,\n",
              "         -1.0375e+00, -7.9277e-01,  6.1359e-01,  6.3333e-01, -1.2727e+00,\n",
              "          2.3761e-01,  4.5563e-01, -3.5040e-01,  2.4239e-01, -1.2930e-01,\n",
              "         -2.9675e-01,  9.8763e-01, -2.1595e+00,  3.1081e-01,  1.0576e+00,\n",
              "         -2.8665e+00,  2.3752e-01,  1.6197e+00, -1.0384e+00, -7.7160e-01,\n",
              "         -9.3093e-01,  2.6397e-01, -1.5182e+00,  4.8516e-01,  3.7680e-01,\n",
              "         -4.2642e+00,  5.4507e-01, -8.6466e-01, -9.3631e-01,  2.0294e+00,\n",
              "          2.8092e+00,  3.4322e-01, -1.2044e+00,  1.6944e+00,  1.6228e+00,\n",
              "         -3.7418e-01, -1.3446e+00,  2.3752e+00, -5.2589e-02,  5.1092e-01,\n",
              "         -1.6605e+00,  1.0003e+00,  2.6606e-01, -2.3784e-02, -1.6214e-01,\n",
              "          6.0490e-01,  3.8924e-01,  4.6332e-01, -1.2901e-01,  2.6928e+00,\n",
              "         -6.0054e-01, -3.4273e+00, -2.6475e-01, -1.2171e+00,  5.9426e+00,\n",
              "         -2.6699e+00,  9.9732e-01,  1.4582e+00,  3.8307e+00, -9.5138e-01,\n",
              "         -3.4831e-01, -2.2424e+00, -1.2876e+00,  1.6800e-01,  2.2822e+00,\n",
              "          2.2129e+00,  1.8287e+00,  3.5555e+00,  1.1706e+00, -3.4661e+00,\n",
              "         -2.2550e+00, -8.3124e-02, -1.2188e+00,  1.3326e+00,  2.9016e+00,\n",
              "         -1.9437e+00, -2.4185e+00, -1.8964e+00, -5.4434e-01, -8.4233e-01,\n",
              "         -2.2279e+00,  2.9674e-01,  2.0488e+00,  3.5964e-02, -1.7907e+00,\n",
              "         -8.6331e-01, -1.3136e+00, -6.6659e-01, -1.6435e+00,  3.0779e+00,\n",
              "          6.3328e-01, -1.4267e+00,  4.6620e-02,  2.1964e+00,  1.2887e-01,\n",
              "         -1.9334e+00, -2.3900e+00,  5.4118e-01, -1.2236e+00,  6.5410e-01,\n",
              "          1.4642e-01, -9.2637e-02, -7.6242e-01,  8.0090e-01,  4.1262e+00,\n",
              "         -1.2300e-01,  1.5654e+00, -2.6797e+00,  5.7654e-01, -1.8170e-01,\n",
              "         -2.2074e-01, -1.4466e+00, -8.6711e-01,  1.8073e+00,  1.1178e+00,\n",
              "         -6.7158e-01,  7.6060e-01,  9.0296e-01, -2.2792e+00, -1.0898e+00,\n",
              "         -1.8945e+00, -8.1008e-01, -2.1512e-01, -2.5641e-01, -3.1909e-01,\n",
              "          1.1209e+00, -9.7420e-01,  1.3190e-01,  6.3509e-01, -2.0711e-01,\n",
              "          2.5872e+00, -1.1168e-01,  1.6731e-01,  1.9574e+00,  1.5500e+00,\n",
              "          6.8994e-01,  1.2300e+00, -2.9990e-01,  3.5549e-02, -2.5274e-03,\n",
              "         -1.7650e+00, -2.0587e+00, -9.5554e-01, -3.5997e+00,  2.7290e-01,\n",
              "          8.4505e-02,  2.8263e-01, -6.8167e-01,  3.2858e-01, -6.2655e-02,\n",
              "         -9.8350e-01,  5.7976e-01, -1.3767e+00,  2.8890e+00,  3.1124e+00,\n",
              "         -1.7153e+00,  2.3134e+00, -1.3860e+00,  1.2599e-01, -4.9686e-01,\n",
              "         -1.3949e+00,  9.3357e-01,  1.0418e+00, -9.7567e-03, -3.3852e+00,\n",
              "          8.6644e-02,  9.6790e-01, -2.4555e+00, -6.1137e-02, -1.3980e+00,\n",
              "          1.3037e+00, -2.8868e-01, -1.3130e+00, -1.5271e-02,  2.4733e+00,\n",
              "          1.7082e+00,  2.4533e-01, -8.0435e-01, -6.9311e-01,  8.0498e-01,\n",
              "          3.6254e-01,  1.2590e-01,  3.0483e+00, -8.6319e-01, -1.9951e+00,\n",
              "          1.0159e+00, -1.4870e+00,  7.3224e-01,  2.5048e+00, -3.0323e-01,\n",
              "         -1.9894e+00,  3.1707e+00,  7.7467e-01,  2.8385e+00, -1.7392e+00,\n",
              "          9.8141e-01,  2.6569e-01, -1.4732e+00,  1.4319e+00, -6.4782e-02,\n",
              "         -2.2837e+00,  1.3177e+00, -1.2081e+00, -9.6989e-01,  2.6694e+00,\n",
              "         -1.0233e+00,  3.8644e-01, -3.8837e-01,  3.3759e+00, -5.3486e-01,\n",
              "         -1.9069e+00, -2.3995e-01,  1.3276e+00,  4.1832e-01,  1.9415e+00,\n",
              "          4.2470e+00,  1.0468e-01, -5.8804e-01, -1.7091e+00, -3.1238e+00,\n",
              "          3.8198e+00, -5.3341e-02, -4.1584e-01,  1.0181e+00, -1.7238e+00,\n",
              "          8.5316e-01, -2.0763e+00, -1.2402e-01, -3.5640e-01, -7.1801e-02,\n",
              "         -5.3770e-01, -1.4032e+00, -5.8787e-02, -1.8310e+00,  2.8159e-01,\n",
              "         -1.2440e+00, -7.7737e-05,  2.8225e+00,  1.0999e-01, -8.4846e-01,\n",
              "         -2.0946e+00, -2.4525e-01,  2.7307e-01,  2.2884e+00,  1.2459e+00,\n",
              "         -2.5967e+00,  2.2680e+00,  5.1544e-01,  1.9675e+00, -2.4236e+00,\n",
              "          2.0598e+00,  3.0099e+00, -1.1703e+00, -2.6375e-02,  1.3503e+00,\n",
              "          2.2603e+00,  1.6582e+00, -2.8224e-01,  1.4746e-01, -5.3189e-01,\n",
              "         -1.1585e-01, -2.7407e-01,  4.9625e-01,  2.0652e-01,  7.8031e-01,\n",
              "          2.6880e+00, -3.0872e+00,  1.9790e+00, -3.4556e-01, -9.9651e-01,\n",
              "         -2.7901e+00, -2.5795e+00,  2.8973e+00,  4.9790e-01, -2.3757e-01,\n",
              "         -1.0498e+00,  1.3906e+00, -4.0736e-01,  1.4350e+00, -1.8771e+00,\n",
              "          2.6305e+00, -2.8091e-01,  1.6632e+00, -1.9400e+00,  8.8376e-01,\n",
              "         -1.1086e+00, -4.3970e-02, -5.0586e-01, -6.9157e-01,  2.6832e-01,\n",
              "         -3.6386e-01,  1.8944e+00, -2.2724e+00, -8.7464e-01,  3.1193e+00,\n",
              "         -1.7386e+00, -2.1285e-01,  2.1263e+00, -1.0908e+00, -1.7143e-01,\n",
              "          3.5811e+00, -1.8350e+00, -1.9459e+00, -1.0643e+00,  2.3652e+00,\n",
              "          2.1274e+00,  1.0106e+00,  8.2273e-01,  4.2859e+00,  8.0050e-01,\n",
              "         -1.4297e+00,  6.3218e-01,  3.7061e+00, -4.4390e-01,  1.4558e+00,\n",
              "         -1.1819e+00, -2.7020e+00, -2.5056e+00, -2.4319e+00,  1.9647e+00,\n",
              "          4.7144e+00, -1.4060e+00, -2.1728e+00,  2.9378e+00, -9.9739e-01,\n",
              "          4.1813e-01,  3.9093e+00, -6.7433e-01,  3.9132e+00, -2.4683e+00,\n",
              "         -1.4359e+00, -8.8645e-01, -1.3314e+00,  2.4537e+00, -2.2209e+00,\n",
              "         -2.4523e+00, -2.8337e+00, -2.4365e-01,  8.2967e-01,  1.5245e+00,\n",
              "         -7.4346e-01,  1.0917e+00,  1.0210e+00,  1.9339e+00, -1.8980e+00,\n",
              "         -1.4225e+00,  2.0207e+00, -2.4221e+00, -2.3209e+00,  1.3297e+00,\n",
              "         -4.3877e+00, -7.8252e-01, -1.4970e-01,  4.3787e-01, -4.3313e+00,\n",
              "          6.2064e-01,  1.5289e+00,  9.2303e-01, -8.8746e-01,  6.2113e-01,\n",
              "         -7.4673e-01,  1.3298e+00, -1.6564e+00,  5.2682e-01, -1.9536e+00,\n",
              "         -1.3679e-01,  1.0695e+00,  8.5481e+00, -1.9849e+00, -1.9763e-01,\n",
              "          9.1223e-01,  6.8377e-01, -1.1319e+00, -9.5715e-01,  5.0690e-01,\n",
              "         -1.0720e-01,  7.7721e-01, -6.9221e-01, -2.0425e+00, -2.4909e+00,\n",
              "          1.3776e-01,  2.8475e-01, -9.6847e-01,  8.6111e-01,  1.2055e+00,\n",
              "          1.0695e+00, -2.4162e+00,  1.5724e+00, -2.4345e+00, -1.4542e+00,\n",
              "         -1.2136e+00,  2.1993e+00, -1.8127e+00, -6.5878e-01,  3.1335e+00,\n",
              "          1.0468e-01, -1.9133e-01,  2.0005e+00,  4.6762e-01, -1.0618e+00,\n",
              "          2.0971e+00, -6.6016e-01, -3.8324e-01, -2.8967e+00, -1.0109e+00,\n",
              "          4.2825e-01,  1.1434e+00,  1.3876e+00, -2.3564e-01, -2.2050e+00,\n",
              "         -2.1248e+00, -9.3834e-01, -6.9386e-02,  1.5114e+00,  6.2764e-01,\n",
              "         -1.8514e+00, -8.4848e-01,  6.7576e-02,  1.2432e+00,  2.7693e+00,\n",
              "          5.5542e-01,  1.1362e+00, -1.8550e+00, -2.2989e+00,  1.4368e-02,\n",
              "          2.4237e+00,  4.5124e-01, -5.7123e-01, -1.7664e+00, -3.6589e+00,\n",
              "         -1.4006e+00, -2.4855e-01, -8.7148e-01, -4.2341e-01, -1.0345e+00,\n",
              "         -8.0564e-01, -8.6766e-01, -1.9621e+00,  5.1423e-01, -8.8160e-01,\n",
              "         -3.7765e-01, -3.9915e-01, -2.9017e-01, -3.4297e-01,  2.5701e+00,\n",
              "          3.2820e+00,  4.0305e+00,  9.7034e-01,  3.2208e-01,  9.8467e-01,\n",
              "          8.2368e-01,  1.9057e+00,  1.2186e+00, -4.7729e-01,  1.7204e+00,\n",
              "          1.9583e+00, -6.7206e-01,  1.0433e+00,  4.7626e-01, -6.4685e-01,\n",
              "         -7.4812e-01, -1.0247e+00,  1.4267e+00,  1.7864e+00,  4.5905e-01,\n",
              "         -6.9617e-01, -1.3675e-01, -2.1782e+00,  3.5433e-01, -5.4480e-01,\n",
              "          8.2857e-01,  1.6336e+00, -2.5124e+00, -1.2205e+00,  1.2827e-01,\n",
              "          4.0019e-03,  2.5284e+00,  5.6918e-01, -8.8096e-01,  1.6019e+00,\n",
              "         -1.0140e+00, -2.6980e+00, -1.3018e-02, -8.8499e-01,  2.1639e+00,\n",
              "         -1.3717e+00, -6.5319e-01, -1.1764e+00, -1.3209e+00, -2.6245e+00,\n",
              "          4.4688e-01, -2.0448e+00,  1.3486e+00,  7.3678e-01, -1.8412e+00,\n",
              "         -4.3458e+00,  8.1340e-02, -2.5786e+00, -3.9368e+00, -8.7698e-01,\n",
              "         -5.5719e-01, -1.8688e+00,  2.9080e+00,  8.4637e-02, -2.8569e-01,\n",
              "          1.6731e+00, -3.6234e+00,  5.9859e-01, -1.8217e+00, -1.5196e+00,\n",
              "          1.2187e+00,  1.6116e+00, -1.3094e+00,  4.1240e+00,  3.0722e+00]],\n",
              "       grad_fn=<AddmmBackward>)"
            ]
          },
          "metadata": {
            "tags": []
          },
          "execution_count": 33
        }
      ]
    },
    {
      "cell_type": "markdown",
      "metadata": {
        "id": "dHnfYLhloP2I"
      },
      "source": [
        "Esta operación contuvo 44.5 millones de parametros, produciendo un vector de 1000 puntuaciones, uno por clase."
      ]
    },
    {
      "cell_type": "code",
      "metadata": {
        "id": "qz3Ta_LNs7Pz",
        "outputId": "66bfa589-0c38-4474-8799-e5d21092d0aa",
        "colab": {
          "base_uri": "https://localhost:8080/"
        }
      },
      "source": [
        "from google.colab import drive\n",
        "drive.mount('/content/drive') "
      ],
      "execution_count": null,
      "outputs": [
        {
          "output_type": "stream",
          "text": [
            "Drive already mounted at /content/drive; to attempt to forcibly remount, call drive.mount(\"/content/drive\", force_remount=True).\n"
          ],
          "name": "stdout"
        }
      ]
    },
    {
      "cell_type": "code",
      "metadata": {
        "id": "rA2GI777wzrG",
        "outputId": "80fa7a5e-8082-4ade-c928-67c25bd6b0cf",
        "colab": {
          "resources": {
            "http://localhost:8080/nbextensions/google.colab/files.js": {
              "data": "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",
              "ok": true,
              "headers": [
                [
                  "content-type",
                  "application/javascript"
                ]
              ],
              "status": 200,
              "status_text": "OK"
            }
          },
          "base_uri": "https://localhost:8080/",
          "height": 118
        }
      },
      "source": [
        "from google.colab import files\n",
        "files.upload()\n",
        "  "
      ],
      "execution_count": null,
      "outputs": [
        {
          "output_type": "display_data",
          "data": {
            "text/html": [
              "\n",
              "     <input type=\"file\" id=\"files-4f731e3c-d3e5-4493-967f-b53cf6cdcc5d\" name=\"files[]\" multiple disabled\n",
              "        style=\"border:none\" />\n",
              "     <output id=\"result-4f731e3c-d3e5-4493-967f-b53cf6cdcc5d\">\n",
              "      Upload widget is only available when the cell has been executed in the\n",
              "      current browser session. Please rerun this cell to enable.\n",
              "      </output>\n",
              "      <script src=\"/nbextensions/google.colab/files.js\"></script> "
            ],
            "text/plain": [
              "<IPython.core.display.HTML object>"
            ]
          },
          "metadata": {
            "tags": []
          }
        },
        {
          "output_type": "stream",
          "text": [
            "Saving imagenet1000.txt to imagenet1000 (1).txt\n"
          ],
          "name": "stdout"
        },
        {
          "output_type": "execute_result",
          "data": {
            "text/plain": [
              "{'imagenet1000.txt': b'{0: \\'tench, Tinca tinca\\',\\n 1: \\'goldfish, Carassius auratus\\',\\n 2: \\'great white shark, white shark, man-eater, man-eating shark, Carcharodon carcharias\\',\\n 3: \\'tiger shark, Galeocerdo cuvieri\\',\\n 4: \\'hammerhead, hammerhead shark\\',\\n 5: \\'electric ray, crampfish, numbfish, torpedo\\',\\n 6: \\'stingray\\',\\n 7: \\'cock\\',\\n 8: \\'hen\\',\\n 9: \\'ostrich, Struthio camelus\\',\\n 10: \\'brambling, Fringilla montifringilla\\',\\n 11: \\'goldfinch, Carduelis carduelis\\',\\n 12: \\'house finch, linnet, Carpodacus mexicanus\\',\\n 13: \\'junco, snowbird\\',\\n 14: \\'indigo bunting, indigo finch, indigo bird, Passerina cyanea\\',\\n 15: \\'robin, American robin, Turdus migratorius\\',\\n 16: \\'bulbul\\',\\n 17: \\'jay\\',\\n 18: \\'magpie\\',\\n 19: \\'chickadee\\',\\n 20: \\'water ouzel, dipper\\',\\n 21: \\'kite\\',\\n 22: \\'bald eagle, American eagle, Haliaeetus leucocephalus\\',\\n 23: \\'vulture\\',\\n 24: \\'great grey owl, great gray owl, Strix nebulosa\\',\\n 25: \\'European fire salamander, Salamandra salamandra\\',\\n 26: \\'common newt, Triturus vulgaris\\',\\n 27: \\'eft\\',\\n 28: \\'spotted salamander, Ambystoma maculatum\\',\\n 29: \\'axolotl, mud puppy, Ambystoma mexicanum\\',\\n 30: \\'bullfrog, Rana catesbeiana\\',\\n 31: \\'tree frog, tree-frog\\',\\n 32: \\'tailed frog, bell toad, ribbed toad, tailed toad, Ascaphus trui\\',\\n 33: \\'loggerhead, loggerhead turtle, Caretta caretta\\',\\n 34: \\'leatherback turtle, leatherback, leathery turtle, Dermochelys coriacea\\',\\n 35: \\'mud turtle\\',\\n 36: \\'terrapin\\',\\n 37: \\'box turtle, box tortoise\\',\\n 38: \\'banded gecko\\',\\n 39: \\'common iguana, iguana, Iguana iguana\\',\\n 40: \\'American chameleon, anole, Anolis carolinensis\\',\\n 41: \\'whiptail, whiptail lizard\\',\\n 42: \\'agama\\',\\n 43: \\'frilled lizard, Chlamydosaurus kingi\\',\\n 44: \\'alligator lizard\\',\\n 45: \\'Gila monster, Heloderma suspectum\\',\\n 46: \\'green lizard, Lacerta viridis\\',\\n 47: \\'African chameleon, Chamaeleo chamaeleon\\',\\n 48: \\'Komodo dragon, Komodo lizard, dragon lizard, giant lizard, Varanus komodoensis\\',\\n 49: \\'African crocodile, Nile crocodile, Crocodylus niloticus\\',\\n 50: \\'American alligator, Alligator mississipiensis\\',\\n 51: \\'triceratops\\',\\n 52: \\'thunder snake, worm snake, Carphophis amoenus\\',\\n 53: \\'ringneck snake, ring-necked snake, ring snake\\',\\n 54: \\'hognose snake, puff adder, sand viper\\',\\n 55: \\'green snake, grass snake\\',\\n 56: \\'king snake, kingsnake\\',\\n 57: \\'garter snake, grass snake\\',\\n 58: \\'water snake\\',\\n 59: \\'vine snake\\',\\n 60: \\'night snake, Hypsiglena torquata\\',\\n 61: \\'boa constrictor, Constrictor constrictor\\',\\n 62: \\'rock python, rock snake, Python sebae\\',\\n 63: \\'Indian cobra, Naja naja\\',\\n 64: \\'green mamba\\',\\n 65: \\'sea snake\\',\\n 66: \\'horned viper, cerastes, sand viper, horned asp, Cerastes cornutus\\',\\n 67: \\'diamondback, diamondback rattlesnake, Crotalus adamanteus\\',\\n 68: \\'sidewinder, horned rattlesnake, Crotalus cerastes\\',\\n 69: \\'trilobite\\',\\n 70: \\'harvestman, daddy longlegs, Phalangium opilio\\',\\n 71: \\'scorpion\\',\\n 72: \\'black and gold garden spider, Argiope aurantia\\',\\n 73: \\'barn spider, Araneus cavaticus\\',\\n 74: \\'garden spider, Aranea diademata\\',\\n 75: \\'black widow, Latrodectus mactans\\',\\n 76: \\'tarantula\\',\\n 77: \\'wolf spider, hunting spider\\',\\n 78: \\'tick\\',\\n 79: \\'centipede\\',\\n 80: \\'black grouse\\',\\n 81: \\'ptarmigan\\',\\n 82: \\'ruffed grouse, partridge, Bonasa umbellus\\',\\n 83: \\'prairie chicken, prairie grouse, prairie fowl\\',\\n 84: \\'peacock\\',\\n 85: \\'quail\\',\\n 86: \\'partridge\\',\\n 87: \\'African grey, African gray, Psittacus erithacus\\',\\n 88: \\'macaw\\',\\n 89: \\'sulphur-crested cockatoo, Kakatoe galerita, Cacatua galerita\\',\\n 90: \\'lorikeet\\',\\n 91: \\'coucal\\',\\n 92: \\'bee eater\\',\\n 93: \\'hornbill\\',\\n 94: \\'hummingbird\\',\\n 95: \\'jacamar\\',\\n 96: \\'toucan\\',\\n 97: \\'drake\\',\\n 98: \\'red-breasted merganser, Mergus serrator\\',\\n 99: \\'goose\\',\\n 100: \\'black swan, Cygnus atratus\\',\\n 101: \\'tusker\\',\\n 102: \\'echidna, spiny anteater, anteater\\',\\n 103: \\'platypus, duckbill, duckbilled platypus, duck-billed platypus, Ornithorhynchus anatinus\\',\\n 104: \\'wallaby, brush kangaroo\\',\\n 105: \\'koala, koala bear, kangaroo bear, native bear, Phascolarctos cinereus\\',\\n 106: \\'wombat\\',\\n 107: \\'jellyfish\\',\\n 108: \\'sea anemone, anemone\\',\\n 109: \\'brain coral\\',\\n 110: \\'flatworm, platyhelminth\\',\\n 111: \\'nematode, nematode worm, roundworm\\',\\n 112: \\'conch\\',\\n 113: \\'snail\\',\\n 114: \\'slug\\',\\n 115: \\'sea slug, nudibranch\\',\\n 116: \\'chiton, coat-of-mail shell, sea cradle, polyplacophore\\',\\n 117: \\'chambered nautilus, pearly nautilus, nautilus\\',\\n 118: \\'Dungeness crab, Cancer magister\\',\\n 119: \\'rock crab, Cancer irroratus\\',\\n 120: \\'fiddler crab\\',\\n 121: \\'king crab, Alaska crab, Alaskan king crab, Alaska king crab, Paralithodes camtschatica\\',\\n 122: \\'American lobster, Northern lobster, Maine lobster, Homarus americanus\\',\\n 123: \\'spiny lobster, langouste, rock lobster, crawfish, crayfish, sea crawfish\\',\\n 124: \\'crayfish, crawfish, crawdad, crawdaddy\\',\\n 125: \\'hermit crab\\',\\n 126: \\'isopod\\',\\n 127: \\'white stork, Ciconia ciconia\\',\\n 128: \\'black stork, Ciconia nigra\\',\\n 129: \\'spoonbill\\',\\n 130: \\'flamingo\\',\\n 131: \\'little blue heron, Egretta caerulea\\',\\n 132: \\'American egret, great white heron, Egretta albus\\',\\n 133: \\'bittern\\',\\n 134: \\'crane\\',\\n 135: \\'limpkin, Aramus pictus\\',\\n 136: \\'European gallinule, Porphyrio porphyrio\\',\\n 137: \\'American coot, marsh hen, mud hen, water hen, Fulica americana\\',\\n 138: \\'bustard\\',\\n 139: \\'ruddy turnstone, Arenaria interpres\\',\\n 140: \\'red-backed sandpiper, dunlin, Erolia alpina\\',\\n 141: \\'redshank, Tringa totanus\\',\\n 142: \\'dowitcher\\',\\n 143: \\'oystercatcher, oyster catcher\\',\\n 144: \\'pelican\\',\\n 145: \\'king penguin, Aptenodytes patagonica\\',\\n 146: \\'albatross, mollymawk\\',\\n 147: \\'grey whale, gray whale, devilfish, Eschrichtius gibbosus, Eschrichtius robustus\\',\\n 148: \\'killer whale, killer, orca, grampus, sea wolf, Orcinus orca\\',\\n 149: \\'dugong, Dugong dugon\\',\\n 150: \\'sea lion\\',\\n 151: \\'Chihuahua\\',\\n 152: \\'Japanese spaniel\\',\\n 153: \\'Maltese dog, Maltese terrier, Maltese\\',\\n 154: \\'Pekinese, Pekingese, Peke\\',\\n 155: \\'Shih-Tzu\\',\\n 156: \\'Blenheim spaniel\\',\\n 157: \\'papillon\\',\\n 158: \\'toy terrier\\',\\n 159: \\'Rhodesian ridgeback\\',\\n 160: \\'Afghan hound, Afghan\\',\\n 161: \\'basset, basset hound\\',\\n 162: \\'beagle\\',\\n 163: \\'bloodhound, sleuthhound\\',\\n 164: \\'bluetick\\',\\n 165: \\'black-and-tan coonhound\\',\\n 166: \\'Walker hound, Walker foxhound\\',\\n 167: \\'English foxhound\\',\\n 168: \\'redbone\\',\\n 169: \\'borzoi, Russian wolfhound\\',\\n 170: \\'Irish wolfhound\\',\\n 171: \\'Italian greyhound\\',\\n 172: \\'whippet\\',\\n 173: \\'Ibizan hound, Ibizan Podenco\\',\\n 174: \\'Norwegian elkhound, elkhound\\',\\n 175: \\'otterhound, otter hound\\',\\n 176: \\'Saluki, gazelle hound\\',\\n 177: \\'Scottish deerhound, deerhound\\',\\n 178: \\'Weimaraner\\',\\n 179: \\'Staffordshire bullterrier, Staffordshire bull terrier\\',\\n 180: \\'American Staffordshire terrier, Staffordshire terrier, American pit bull terrier, pit bull terrier\\',\\n 181: \\'Bedlington terrier\\',\\n 182: \\'Border terrier\\',\\n 183: \\'Kerry blue terrier\\',\\n 184: \\'Irish terrier\\',\\n 185: \\'Norfolk terrier\\',\\n 186: \\'Norwich terrier\\',\\n 187: \\'Yorkshire terrier\\',\\n 188: \\'wire-haired fox terrier\\',\\n 189: \\'Lakeland terrier\\',\\n 190: \\'Sealyham terrier, Sealyham\\',\\n 191: \\'Airedale, Airedale terrier\\',\\n 192: \\'cairn, cairn terrier\\',\\n 193: \\'Australian terrier\\',\\n 194: \\'Dandie Dinmont, Dandie Dinmont terrier\\',\\n 195: \\'Boston bull, Boston terrier\\',\\n 196: \\'miniature schnauzer\\',\\n 197: \\'giant schnauzer\\',\\n 198: \\'standard schnauzer\\',\\n 199: \\'Scotch terrier, Scottish terrier, Scottie\\',\\n 200: \\'Tibetan terrier, chrysanthemum dog\\',\\n 201: \\'silky terrier, Sydney silky\\',\\n 202: \\'soft-coated wheaten terrier\\',\\n 203: \\'West Highland white terrier\\',\\n 204: \\'Lhasa, Lhasa apso\\',\\n 205: \\'flat-coated retriever\\',\\n 206: \\'curly-coated retriever\\',\\n 207: \\'golden retriever\\',\\n 208: \\'Labrador retriever\\',\\n 209: \\'Chesapeake Bay retriever\\',\\n 210: \\'German short-haired pointer\\',\\n 211: \\'vizsla, Hungarian pointer\\',\\n 212: \\'English setter\\',\\n 213: \\'Irish setter, red setter\\',\\n 214: \\'Gordon setter\\',\\n 215: \\'Brittany spaniel\\',\\n 216: \\'clumber, clumber spaniel\\',\\n 217: \\'English springer, English springer spaniel\\',\\n 218: \\'Welsh springer spaniel\\',\\n 219: \\'cocker spaniel, English cocker spaniel, cocker\\',\\n 220: \\'Sussex spaniel\\',\\n 221: \\'Irish water spaniel\\',\\n 222: \\'kuvasz\\',\\n 223: \\'schipperke\\',\\n 224: \\'groenendael\\',\\n 225: \\'malinois\\',\\n 226: \\'briard\\',\\n 227: \\'kelpie\\',\\n 228: \\'komondor\\',\\n 229: \\'Old English sheepdog, bobtail\\',\\n 230: \\'Shetland sheepdog, Shetland sheep dog, Shetland\\',\\n 231: \\'collie\\',\\n 232: \\'Border collie\\',\\n 233: \\'Bouvier des Flandres, Bouviers des Flandres\\',\\n 234: \\'Rottweiler\\',\\n 235: \\'German shepherd, German shepherd dog, German police dog, alsatian\\',\\n 236: \\'Doberman, Doberman pinscher\\',\\n 237: \\'miniature pinscher\\',\\n 238: \\'Greater Swiss Mountain dog\\',\\n 239: \\'Bernese mountain dog\\',\\n 240: \\'Appenzeller\\',\\n 241: \\'EntleBucher\\',\\n 242: \\'boxer\\',\\n 243: \\'bull mastiff\\',\\n 244: \\'Tibetan mastiff\\',\\n 245: \\'French bulldog\\',\\n 246: \\'Great Dane\\',\\n 247: \\'Saint Bernard, St Bernard\\',\\n 248: \\'Eskimo dog, husky\\',\\n 249: \\'malamute, malemute, Alaskan malamute\\',\\n 250: \\'Siberian husky\\',\\n 251: \\'dalmatian, coach dog, carriage dog\\',\\n 252: \\'affenpinscher, monkey pinscher, monkey dog\\',\\n 253: \\'basenji\\',\\n 254: \\'pug, pug-dog\\',\\n 255: \\'Leonberg\\',\\n 256: \\'Newfoundland, Newfoundland dog\\',\\n 257: \\'Great Pyrenees\\',\\n 258: \\'Samoyed, Samoyede\\',\\n 259: \\'Pomeranian\\',\\n 260: \\'chow, chow chow\\',\\n 261: \\'keeshond\\',\\n 262: \\'Brabancon griffon\\',\\n 263: \\'Pembroke, Pembroke Welsh corgi\\',\\n 264: \\'Cardigan, Cardigan Welsh corgi\\',\\n 265: \\'toy poodle\\',\\n 266: \\'miniature poodle\\',\\n 267: \\'standard poodle\\',\\n 268: \\'Mexican hairless\\',\\n 269: \\'timber wolf, grey wolf, gray wolf, Canis lupus\\',\\n 270: \\'white wolf, Arctic wolf, Canis lupus tundrarum\\',\\n 271: \\'red wolf, maned wolf, Canis rufus, Canis niger\\',\\n 272: \\'coyote, prairie wolf, brush wolf, Canis latrans\\',\\n 273: \\'dingo, warrigal, warragal, Canis dingo\\',\\n 274: \\'dhole, Cuon alpinus\\',\\n 275: \\'African hunting dog, hyena dog, Cape hunting dog, Lycaon pictus\\',\\n 276: \\'hyena, hyaena\\',\\n 277: \\'red fox, Vulpes vulpes\\',\\n 278: \\'kit fox, Vulpes macrotis\\',\\n 279: \\'Arctic fox, white fox, Alopex lagopus\\',\\n 280: \\'grey fox, gray fox, Urocyon cinereoargenteus\\',\\n 281: \\'tabby, tabby cat\\',\\n 282: \\'tiger cat\\',\\n 283: \\'Persian cat\\',\\n 284: \\'Siamese cat, Siamese\\',\\n 285: \\'Egyptian cat\\',\\n 286: \\'cougar, puma, catamount, mountain lion, painter, panther, Felis concolor\\',\\n 287: \\'lynx, catamount\\',\\n 288: \\'leopard, Panthera pardus\\',\\n 289: \\'snow leopard, ounce, Panthera uncia\\',\\n 290: \\'jaguar, panther, Panthera onca, Felis onca\\',\\n 291: \\'lion, king of beasts, Panthera leo\\',\\n 292: \\'tiger, Panthera tigris\\',\\n 293: \\'cheetah, chetah, Acinonyx jubatus\\',\\n 294: \\'brown bear, bruin, Ursus arctos\\',\\n 295: \\'American black bear, black bear, Ursus americanus, Euarctos americanus\\',\\n 296: \\'ice bear, polar bear, Ursus Maritimus, Thalarctos maritimus\\',\\n 297: \\'sloth bear, Melursus ursinus, Ursus ursinus\\',\\n 298: \\'mongoose\\',\\n 299: \\'meerkat, mierkat\\',\\n 300: \\'tiger beetle\\',\\n 301: \\'ladybug, ladybeetle, lady beetle, ladybird, ladybird beetle\\',\\n 302: \\'ground beetle, carabid beetle\\',\\n 303: \\'long-horned beetle, longicorn, longicorn beetle\\',\\n 304: \\'leaf beetle, chrysomelid\\',\\n 305: \\'dung beetle\\',\\n 306: \\'rhinoceros beetle\\',\\n 307: \\'weevil\\',\\n 308: \\'fly\\',\\n 309: \\'bee\\',\\n 310: \\'ant, emmet, pismire\\',\\n 311: \\'grasshopper, hopper\\',\\n 312: \\'cricket\\',\\n 313: \\'walking stick, walkingstick, stick insect\\',\\n 314: \\'cockroach, roach\\',\\n 315: \\'mantis, mantid\\',\\n 316: \\'cicada, cicala\\',\\n 317: \\'leafhopper\\',\\n 318: \\'lacewing, lacewing fly\\',\\n 319: \"dragonfly, darning needle, devil\\'s darning needle, sewing needle, snake feeder, snake doctor, mosquito hawk, skeeter hawk\",\\n 320: \\'damselfly\\',\\n 321: \\'admiral\\',\\n 322: \\'ringlet, ringlet butterfly\\',\\n 323: \\'monarch, monarch butterfly, milkweed butterfly, Danaus plexippus\\',\\n 324: \\'cabbage butterfly\\',\\n 325: \\'sulphur butterfly, sulfur butterfly\\',\\n 326: \\'lycaenid, lycaenid butterfly\\',\\n 327: \\'starfish, sea star\\',\\n 328: \\'sea urchin\\',\\n 329: \\'sea cucumber, holothurian\\',\\n 330: \\'wood rabbit, cottontail, cottontail rabbit\\',\\n 331: \\'hare\\',\\n 332: \\'Angora, Angora rabbit\\',\\n 333: \\'hamster\\',\\n 334: \\'porcupine, hedgehog\\',\\n 335: \\'fox squirrel, eastern fox squirrel, Sciurus niger\\',\\n 336: \\'marmot\\',\\n 337: \\'beaver\\',\\n 338: \\'guinea pig, Cavia cobaya\\',\\n 339: \\'sorrel\\',\\n 340: \\'zebra\\',\\n 341: \\'hog, pig, grunter, squealer, Sus scrofa\\',\\n 342: \\'wild boar, boar, Sus scrofa\\',\\n 343: \\'warthog\\',\\n 344: \\'hippopotamus, hippo, river horse, Hippopotamus amphibius\\',\\n 345: \\'ox\\',\\n 346: \\'water buffalo, water ox, Asiatic buffalo, Bubalus bubalis\\',\\n 347: \\'bison\\',\\n 348: \\'ram, tup\\',\\n 349: \\'bighorn, bighorn sheep, cimarron, Rocky Mountain bighorn, Rocky Mountain sheep, Ovis canadensis\\',\\n 350: \\'ibex, Capra ibex\\',\\n 351: \\'hartebeest\\',\\n 352: \\'impala, Aepyceros melampus\\',\\n 353: \\'gazelle\\',\\n 354: \\'Arabian camel, dromedary, Camelus dromedarius\\',\\n 355: \\'llama\\',\\n 356: \\'weasel\\',\\n 357: \\'mink\\',\\n 358: \\'polecat, fitch, foulmart, foumart, Mustela putorius\\',\\n 359: \\'black-footed ferret, ferret, Mustela nigripes\\',\\n 360: \\'otter\\',\\n 361: \\'skunk, polecat, wood pussy\\',\\n 362: \\'badger\\',\\n 363: \\'armadillo\\',\\n 364: \\'three-toed sloth, ai, Bradypus tridactylus\\',\\n 365: \\'orangutan, orang, orangutang, Pongo pygmaeus\\',\\n 366: \\'gorilla, Gorilla gorilla\\',\\n 367: \\'chimpanzee, chimp, Pan troglodytes\\',\\n 368: \\'gibbon, Hylobates lar\\',\\n 369: \\'siamang, Hylobates syndactylus, Symphalangus syndactylus\\',\\n 370: \\'guenon, guenon monkey\\',\\n 371: \\'patas, hussar monkey, Erythrocebus patas\\',\\n 372: \\'baboon\\',\\n 373: \\'macaque\\',\\n 374: \\'langur\\',\\n 375: \\'colobus, colobus monkey\\',\\n 376: \\'proboscis monkey, Nasalis larvatus\\',\\n 377: \\'marmoset\\',\\n 378: \\'capuchin, ringtail, Cebus capucinus\\',\\n 379: \\'howler monkey, howler\\',\\n 380: \\'titi, titi monkey\\',\\n 381: \\'spider monkey, Ateles geoffroyi\\',\\n 382: \\'squirrel monkey, Saimiri sciureus\\',\\n 383: \\'Madagascar cat, ring-tailed lemur, Lemur catta\\',\\n 384: \\'indri, indris, Indri indri, Indri brevicaudatus\\',\\n 385: \\'Indian elephant, Elephas maximus\\',\\n 386: \\'African elephant, Loxodonta africana\\',\\n 387: \\'lesser panda, red panda, panda, bear cat, cat bear, Ailurus fulgens\\',\\n 388: \\'giant panda, panda, panda bear, coon bear, Ailuropoda melanoleuca\\',\\n 389: \\'barracouta, snoek\\',\\n 390: \\'eel\\',\\n 391: \\'coho, cohoe, coho salmon, blue jack, silver salmon, Oncorhynchus kisutch\\',\\n 392: \\'rock beauty, Holocanthus tricolor\\',\\n 393: \\'anemone fish\\',\\n 394: \\'sturgeon\\',\\n 395: \\'gar, garfish, garpike, billfish, Lepisosteus osseus\\',\\n 396: \\'lionfish\\',\\n 397: \\'puffer, pufferfish, blowfish, globefish\\',\\n 398: \\'abacus\\',\\n 399: \\'abaya\\',\\n 400: \"academic gown, academic robe, judge\\'s robe\",\\n 401: \\'accordion, piano accordion, squeeze box\\',\\n 402: \\'acoustic guitar\\',\\n 403: \\'aircraft carrier, carrier, flattop, attack aircraft carrier\\',\\n 404: \\'airliner\\',\\n 405: \\'airship, dirigible\\',\\n 406: \\'altar\\',\\n 407: \\'ambulance\\',\\n 408: \\'amphibian, amphibious vehicle\\',\\n 409: \\'analog clock\\',\\n 410: \\'apiary, bee house\\',\\n 411: \\'apron\\',\\n 412: \\'ashcan, trash can, garbage can, wastebin, ash bin, ash-bin, ashbin, dustbin, trash barrel, trash bin\\',\\n 413: \\'assault rifle, assault gun\\',\\n 414: \\'backpack, back pack, knapsack, packsack, rucksack, haversack\\',\\n 415: \\'bakery, bakeshop, bakehouse\\',\\n 416: \\'balance beam, beam\\',\\n 417: \\'balloon\\',\\n 418: \\'ballpoint, ballpoint pen, ballpen, Biro\\',\\n 419: \\'Band Aid\\',\\n 420: \\'banjo\\',\\n 421: \\'bannister, banister, balustrade, balusters, handrail\\',\\n 422: \\'barbell\\',\\n 423: \\'barber chair\\',\\n 424: \\'barbershop\\',\\n 425: \\'barn\\',\\n 426: \\'barometer\\',\\n 427: \\'barrel, cask\\',\\n 428: \\'barrow, garden cart, lawn cart, wheelbarrow\\',\\n 429: \\'baseball\\',\\n 430: \\'basketball\\',\\n 431: \\'bassinet\\',\\n 432: \\'bassoon\\',\\n 433: \\'bathing cap, swimming cap\\',\\n 434: \\'bath towel\\',\\n 435: \\'bathtub, bathing tub, bath, tub\\',\\n 436: \\'beach wagon, station wagon, wagon, estate car, beach waggon, station waggon, waggon\\',\\n 437: \\'beacon, lighthouse, beacon light, pharos\\',\\n 438: \\'beaker\\',\\n 439: \\'bearskin, busby, shako\\',\\n 440: \\'beer bottle\\',\\n 441: \\'beer glass\\',\\n 442: \\'bell cote, bell cot\\',\\n 443: \\'bib\\',\\n 444: \\'bicycle-built-for-two, tandem bicycle, tandem\\',\\n 445: \\'bikini, two-piece\\',\\n 446: \\'binder, ring-binder\\',\\n 447: \\'binoculars, field glasses, opera glasses\\',\\n 448: \\'birdhouse\\',\\n 449: \\'boathouse\\',\\n 450: \\'bobsled, bobsleigh, bob\\',\\n 451: \\'bolo tie, bolo, bola tie, bola\\',\\n 452: \\'bonnet, poke bonnet\\',\\n 453: \\'bookcase\\',\\n 454: \\'bookshop, bookstore, bookstall\\',\\n 455: \\'bottlecap\\',\\n 456: \\'bow\\',\\n 457: \\'bow tie, bow-tie, bowtie\\',\\n 458: \\'brass, memorial tablet, plaque\\',\\n 459: \\'brassiere, bra, bandeau\\',\\n 460: \\'breakwater, groin, groyne, mole, bulwark, seawall, jetty\\',\\n 461: \\'breastplate, aegis, egis\\',\\n 462: \\'broom\\',\\n 463: \\'bucket, pail\\',\\n 464: \\'buckle\\',\\n 465: \\'bulletproof vest\\',\\n 466: \\'bullet train, bullet\\',\\n 467: \\'butcher shop, meat market\\',\\n 468: \\'cab, hack, taxi, taxicab\\',\\n 469: \\'caldron, cauldron\\',\\n 470: \\'candle, taper, wax light\\',\\n 471: \\'cannon\\',\\n 472: \\'canoe\\',\\n 473: \\'can opener, tin opener\\',\\n 474: \\'cardigan\\',\\n 475: \\'car mirror\\',\\n 476: \\'carousel, carrousel, merry-go-round, roundabout, whirligig\\',\\n 477: \"carpenter\\'s kit, tool kit\",\\n 478: \\'carton\\',\\n 479: \\'car wheel\\',\\n 480: \\'cash machine, cash dispenser, automated teller machine, automatic teller machine, automated teller, automatic teller, ATM\\',\\n 481: \\'cassette\\',\\n 482: \\'cassette player\\',\\n 483: \\'castle\\',\\n 484: \\'catamaran\\',\\n 485: \\'CD player\\',\\n 486: \\'cello, violoncello\\',\\n 487: \\'cellular telephone, cellular phone, cellphone, cell, mobile phone\\',\\n 488: \\'chain\\',\\n 489: \\'chainlink fence\\',\\n 490: \\'chain mail, ring mail, mail, chain armor, chain armour, ring armor, ring armour\\',\\n 491: \\'chain saw, chainsaw\\',\\n 492: \\'chest\\',\\n 493: \\'chiffonier, commode\\',\\n 494: \\'chime, bell, gong\\',\\n 495: \\'china cabinet, china closet\\',\\n 496: \\'Christmas stocking\\',\\n 497: \\'church, church building\\',\\n 498: \\'cinema, movie theater, movie theatre, movie house, picture palace\\',\\n 499: \\'cleaver, meat cleaver, chopper\\',\\n 500: \\'cliff dwelling\\',\\n 501: \\'cloak\\',\\n 502: \\'clog, geta, patten, sabot\\',\\n 503: \\'cocktail shaker\\',\\n 504: \\'coffee mug\\',\\n 505: \\'coffeepot\\',\\n 506: \\'coil, spiral, volute, whorl, helix\\',\\n 507: \\'combination lock\\',\\n 508: \\'computer keyboard, keypad\\',\\n 509: \\'confectionery, confectionary, candy store\\',\\n 510: \\'container ship, containership, container vessel\\',\\n 511: \\'convertible\\',\\n 512: \\'corkscrew, bottle screw\\',\\n 513: \\'cornet, horn, trumpet, trump\\',\\n 514: \\'cowboy boot\\',\\n 515: \\'cowboy hat, ten-gallon hat\\',\\n 516: \\'cradle\\',\\n 517: \\'crane\\',\\n 518: \\'crash helmet\\',\\n 519: \\'crate\\',\\n 520: \\'crib, cot\\',\\n 521: \\'Crock Pot\\',\\n 522: \\'croquet ball\\',\\n 523: \\'crutch\\',\\n 524: \\'cuirass\\',\\n 525: \\'dam, dike, dyke\\',\\n 526: \\'desk\\',\\n 527: \\'desktop computer\\',\\n 528: \\'dial telephone, dial phone\\',\\n 529: \\'diaper, nappy, napkin\\',\\n 530: \\'digital clock\\',\\n 531: \\'digital watch\\',\\n 532: \\'dining table, board\\',\\n 533: \\'dishrag, dishcloth\\',\\n 534: \\'dishwasher, dish washer, dishwashing machine\\',\\n 535: \\'disk brake, disc brake\\',\\n 536: \\'dock, dockage, docking facility\\',\\n 537: \\'dogsled, dog sled, dog sleigh\\',\\n 538: \\'dome\\',\\n 539: \\'doormat, welcome mat\\',\\n 540: \\'drilling platform, offshore rig\\',\\n 541: \\'drum, membranophone, tympan\\',\\n 542: \\'drumstick\\',\\n 543: \\'dumbbell\\',\\n 544: \\'Dutch oven\\',\\n 545: \\'electric fan, blower\\',\\n 546: \\'electric guitar\\',\\n 547: \\'electric locomotive\\',\\n 548: \\'entertainment center\\',\\n 549: \\'envelope\\',\\n 550: \\'espresso maker\\',\\n 551: \\'face powder\\',\\n 552: \\'feather boa, boa\\',\\n 553: \\'file, file cabinet, filing cabinet\\',\\n 554: \\'fireboat\\',\\n 555: \\'fire engine, fire truck\\',\\n 556: \\'fire screen, fireguard\\',\\n 557: \\'flagpole, flagstaff\\',\\n 558: \\'flute, transverse flute\\',\\n 559: \\'folding chair\\',\\n 560: \\'football helmet\\',\\n 561: \\'forklift\\',\\n 562: \\'fountain\\',\\n 563: \\'fountain pen\\',\\n 564: \\'four-poster\\',\\n 565: \\'freight car\\',\\n 566: \\'French horn, horn\\',\\n 567: \\'frying pan, frypan, skillet\\',\\n 568: \\'fur coat\\',\\n 569: \\'garbage truck, dustcart\\',\\n 570: \\'gasmask, respirator, gas helmet\\',\\n 571: \\'gas pump, gasoline pump, petrol pump, island dispenser\\',\\n 572: \\'goblet\\',\\n 573: \\'go-kart\\',\\n 574: \\'golf ball\\',\\n 575: \\'golfcart, golf cart\\',\\n 576: \\'gondola\\',\\n 577: \\'gong, tam-tam\\',\\n 578: \\'gown\\',\\n 579: \\'grand piano, grand\\',\\n 580: \\'greenhouse, nursery, glasshouse\\',\\n 581: \\'grille, radiator grille\\',\\n 582: \\'grocery store, grocery, food market, market\\',\\n 583: \\'guillotine\\',\\n 584: \\'hair slide\\',\\n 585: \\'hair spray\\',\\n 586: \\'half track\\',\\n 587: \\'hammer\\',\\n 588: \\'hamper\\',\\n 589: \\'hand blower, blow dryer, blow drier, hair dryer, hair drier\\',\\n 590: \\'hand-held computer, hand-held microcomputer\\',\\n 591: \\'handkerchief, hankie, hanky, hankey\\',\\n 592: \\'hard disc, hard disk, fixed disk\\',\\n 593: \\'harmonica, mouth organ, harp, mouth harp\\',\\n 594: \\'harp\\',\\n 595: \\'harvester, reaper\\',\\n 596: \\'hatchet\\',\\n 597: \\'holster\\',\\n 598: \\'home theater, home theatre\\',\\n 599: \\'honeycomb\\',\\n 600: \\'hook, claw\\',\\n 601: \\'hoopskirt, crinoline\\',\\n 602: \\'horizontal bar, high bar\\',\\n 603: \\'horse cart, horse-cart\\',\\n 604: \\'hourglass\\',\\n 605: \\'iPod\\',\\n 606: \\'iron, smoothing iron\\',\\n 607: \"jack-o\\'-lantern\",\\n 608: \\'jean, blue jean, denim\\',\\n 609: \\'jeep, landrover\\',\\n 610: \\'jersey, T-shirt, tee shirt\\',\\n 611: \\'jigsaw puzzle\\',\\n 612: \\'jinrikisha, ricksha, rickshaw\\',\\n 613: \\'joystick\\',\\n 614: \\'kimono\\',\\n 615: \\'knee pad\\',\\n 616: \\'knot\\',\\n 617: \\'lab coat, laboratory coat\\',\\n 618: \\'ladle\\',\\n 619: \\'lampshade, lamp shade\\',\\n 620: \\'laptop, laptop computer\\',\\n 621: \\'lawn mower, mower\\',\\n 622: \\'lens cap, lens cover\\',\\n 623: \\'letter opener, paper knife, paperknife\\',\\n 624: \\'library\\',\\n 625: \\'lifeboat\\',\\n 626: \\'lighter, light, igniter, ignitor\\',\\n 627: \\'limousine, limo\\',\\n 628: \\'liner, ocean liner\\',\\n 629: \\'lipstick, lip rouge\\',\\n 630: \\'Loafer\\',\\n 631: \\'lotion\\',\\n 632: \\'loudspeaker, speaker, speaker unit, loudspeaker system, speaker system\\',\\n 633: \"loupe, jeweler\\'s loupe\",\\n 634: \\'lumbermill, sawmill\\',\\n 635: \\'magnetic compass\\',\\n 636: \\'mailbag, postbag\\',\\n 637: \\'mailbox, letter box\\',\\n 638: \\'maillot\\',\\n 639: \\'maillot, tank suit\\',\\n 640: \\'manhole cover\\',\\n 641: \\'maraca\\',\\n 642: \\'marimba, xylophone\\',\\n 643: \\'mask\\',\\n 644: \\'matchstick\\',\\n 645: \\'maypole\\',\\n 646: \\'maze, labyrinth\\',\\n 647: \\'measuring cup\\',\\n 648: \\'medicine chest, medicine cabinet\\',\\n 649: \\'megalith, megalithic structure\\',\\n 650: \\'microphone, mike\\',\\n 651: \\'microwave, microwave oven\\',\\n 652: \\'military uniform\\',\\n 653: \\'milk can\\',\\n 654: \\'minibus\\',\\n 655: \\'miniskirt, mini\\',\\n 656: \\'minivan\\',\\n 657: \\'missile\\',\\n 658: \\'mitten\\',\\n 659: \\'mixing bowl\\',\\n 660: \\'mobile home, manufactured home\\',\\n 661: \\'Model T\\',\\n 662: \\'modem\\',\\n 663: \\'monastery\\',\\n 664: \\'monitor\\',\\n 665: \\'moped\\',\\n 666: \\'mortar\\',\\n 667: \\'mortarboard\\',\\n 668: \\'mosque\\',\\n 669: \\'mosquito net\\',\\n 670: \\'motor scooter, scooter\\',\\n 671: \\'mountain bike, all-terrain bike, off-roader\\',\\n 672: \\'mountain tent\\',\\n 673: \\'mouse, computer mouse\\',\\n 674: \\'mousetrap\\',\\n 675: \\'moving van\\',\\n 676: \\'muzzle\\',\\n 677: \\'nail\\',\\n 678: \\'neck brace\\',\\n 679: \\'necklace\\',\\n 680: \\'nipple\\',\\n 681: \\'notebook, notebook computer\\',\\n 682: \\'obelisk\\',\\n 683: \\'oboe, hautboy, hautbois\\',\\n 684: \\'ocarina, sweet potato\\',\\n 685: \\'odometer, hodometer, mileometer, milometer\\',\\n 686: \\'oil filter\\',\\n 687: \\'organ, pipe organ\\',\\n 688: \\'oscilloscope, scope, cathode-ray oscilloscope, CRO\\',\\n 689: \\'overskirt\\',\\n 690: \\'oxcart\\',\\n 691: \\'oxygen mask\\',\\n 692: \\'packet\\',\\n 693: \\'paddle, boat paddle\\',\\n 694: \\'paddlewheel, paddle wheel\\',\\n 695: \\'padlock\\',\\n 696: \\'paintbrush\\',\\n 697: \"pajama, pyjama, pj\\'s, jammies\",\\n 698: \\'palace\\',\\n 699: \\'panpipe, pandean pipe, syrinx\\',\\n 700: \\'paper towel\\',\\n 701: \\'parachute, chute\\',\\n 702: \\'parallel bars, bars\\',\\n 703: \\'park bench\\',\\n 704: \\'parking meter\\',\\n 705: \\'passenger car, coach, carriage\\',\\n 706: \\'patio, terrace\\',\\n 707: \\'pay-phone, pay-station\\',\\n 708: \\'pedestal, plinth, footstall\\',\\n 709: \\'pencil box, pencil case\\',\\n 710: \\'pencil sharpener\\',\\n 711: \\'perfume, essence\\',\\n 712: \\'Petri dish\\',\\n 713: \\'photocopier\\',\\n 714: \\'pick, plectrum, plectron\\',\\n 715: \\'pickelhaube\\',\\n 716: \\'picket fence, paling\\',\\n 717: \\'pickup, pickup truck\\',\\n 718: \\'pier\\',\\n 719: \\'piggy bank, penny bank\\',\\n 720: \\'pill bottle\\',\\n 721: \\'pillow\\',\\n 722: \\'ping-pong ball\\',\\n 723: \\'pinwheel\\',\\n 724: \\'pirate, pirate ship\\',\\n 725: \\'pitcher, ewer\\',\\n 726: \"plane, carpenter\\'s plane, woodworking plane\",\\n 727: \\'planetarium\\',\\n 728: \\'plastic bag\\',\\n 729: \\'plate rack\\',\\n 730: \\'plow, plough\\',\\n 731: \"plunger, plumber\\'s helper\",\\n 732: \\'Polaroid camera, Polaroid Land camera\\',\\n 733: \\'pole\\',\\n 734: \\'police van, police wagon, paddy wagon, patrol wagon, wagon, black Maria\\',\\n 735: \\'poncho\\',\\n 736: \\'pool table, billiard table, snooker table\\',\\n 737: \\'pop bottle, soda bottle\\',\\n 738: \\'pot, flowerpot\\',\\n 739: \"potter\\'s wheel\",\\n 740: \\'power drill\\',\\n 741: \\'prayer rug, prayer mat\\',\\n 742: \\'printer\\',\\n 743: \\'prison, prison house\\',\\n 744: \\'projectile, missile\\',\\n 745: \\'projector\\',\\n 746: \\'puck, hockey puck\\',\\n 747: \\'punching bag, punch bag, punching ball, punchball\\',\\n 748: \\'purse\\',\\n 749: \\'quill, quill pen\\',\\n 750: \\'quilt, comforter, comfort, puff\\',\\n 751: \\'racer, race car, racing car\\',\\n 752: \\'racket, racquet\\',\\n 753: \\'radiator\\',\\n 754: \\'radio, wireless\\',\\n 755: \\'radio telescope, radio reflector\\',\\n 756: \\'rain barrel\\',\\n 757: \\'recreational vehicle, RV, R.V.\\',\\n 758: \\'reel\\',\\n 759: \\'reflex camera\\',\\n 760: \\'refrigerator, icebox\\',\\n 761: \\'remote control, remote\\',\\n 762: \\'restaurant, eating house, eating place, eatery\\',\\n 763: \\'revolver, six-gun, six-shooter\\',\\n 764: \\'rifle\\',\\n 765: \\'rocking chair, rocker\\',\\n 766: \\'rotisserie\\',\\n 767: \\'rubber eraser, rubber, pencil eraser\\',\\n 768: \\'rugby ball\\',\\n 769: \\'rule, ruler\\',\\n 770: \\'running shoe\\',\\n 771: \\'safe\\',\\n 772: \\'safety pin\\',\\n 773: \\'saltshaker, salt shaker\\',\\n 774: \\'sandal\\',\\n 775: \\'sarong\\',\\n 776: \\'sax, saxophone\\',\\n 777: \\'scabbard\\',\\n 778: \\'scale, weighing machine\\',\\n 779: \\'school bus\\',\\n 780: \\'schooner\\',\\n 781: \\'scoreboard\\',\\n 782: \\'screen, CRT screen\\',\\n 783: \\'screw\\',\\n 784: \\'screwdriver\\',\\n 785: \\'seat belt, seatbelt\\',\\n 786: \\'sewing machine\\',\\n 787: \\'shield, buckler\\',\\n 788: \\'shoe shop, shoe-shop, shoe store\\',\\n 789: \\'shoji\\',\\n 790: \\'shopping basket\\',\\n 791: \\'shopping cart\\',\\n 792: \\'shovel\\',\\n 793: \\'shower cap\\',\\n 794: \\'shower curtain\\',\\n 795: \\'ski\\',\\n 796: \\'ski mask\\',\\n 797: \\'sleeping bag\\',\\n 798: \\'slide rule, slipstick\\',\\n 799: \\'sliding door\\',\\n 800: \\'slot, one-armed bandit\\',\\n 801: \\'snorkel\\',\\n 802: \\'snowmobile\\',\\n 803: \\'snowplow, snowplough\\',\\n 804: \\'soap dispenser\\',\\n 805: \\'soccer ball\\',\\n 806: \\'sock\\',\\n 807: \\'solar dish, solar collector, solar furnace\\',\\n 808: \\'sombrero\\',\\n 809: \\'soup bowl\\',\\n 810: \\'space bar\\',\\n 811: \\'space heater\\',\\n 812: \\'space shuttle\\',\\n 813: \\'spatula\\',\\n 814: \\'speedboat\\',\\n 815: \"spider web, spider\\'s web\",\\n 816: \\'spindle\\',\\n 817: \\'sports car, sport car\\',\\n 818: \\'spotlight, spot\\',\\n 819: \\'stage\\',\\n 820: \\'steam locomotive\\',\\n 821: \\'steel arch bridge\\',\\n 822: \\'steel drum\\',\\n 823: \\'stethoscope\\',\\n 824: \\'stole\\',\\n 825: \\'stone wall\\',\\n 826: \\'stopwatch, stop watch\\',\\n 827: \\'stove\\',\\n 828: \\'strainer\\',\\n 829: \\'streetcar, tram, tramcar, trolley, trolley car\\',\\n 830: \\'stretcher\\',\\n 831: \\'studio couch, day bed\\',\\n 832: \\'stupa, tope\\',\\n 833: \\'submarine, pigboat, sub, U-boat\\',\\n 834: \\'suit, suit of clothes\\',\\n 835: \\'sundial\\',\\n 836: \\'sunglass\\',\\n 837: \\'sunglasses, dark glasses, shades\\',\\n 838: \\'sunscreen, sunblock, sun blocker\\',\\n 839: \\'suspension bridge\\',\\n 840: \\'swab, swob, mop\\',\\n 841: \\'sweatshirt\\',\\n 842: \\'swimming trunks, bathing trunks\\',\\n 843: \\'swing\\',\\n 844: \\'switch, electric switch, electrical switch\\',\\n 845: \\'syringe\\',\\n 846: \\'table lamp\\',\\n 847: \\'tank, army tank, armored combat vehicle, armoured combat vehicle\\',\\n 848: \\'tape player\\',\\n 849: \\'teapot\\',\\n 850: \\'teddy, teddy bear\\',\\n 851: \\'television, television system\\',\\n 852: \\'tennis ball\\',\\n 853: \\'thatch, thatched roof\\',\\n 854: \\'theater curtain, theatre curtain\\',\\n 855: \\'thimble\\',\\n 856: \\'thresher, thrasher, threshing machine\\',\\n 857: \\'throne\\',\\n 858: \\'tile roof\\',\\n 859: \\'toaster\\',\\n 860: \\'tobacco shop, tobacconist shop, tobacconist\\',\\n 861: \\'toilet seat\\',\\n 862: \\'torch\\',\\n 863: \\'totem pole\\',\\n 864: \\'tow truck, tow car, wrecker\\',\\n 865: \\'toyshop\\',\\n 866: \\'tractor\\',\\n 867: \\'trailer truck, tractor trailer, trucking rig, rig, articulated lorry, semi\\',\\n 868: \\'tray\\',\\n 869: \\'trench coat\\',\\n 870: \\'tricycle, trike, velocipede\\',\\n 871: \\'trimaran\\',\\n 872: \\'tripod\\',\\n 873: \\'triumphal arch\\',\\n 874: \\'trolleybus, trolley coach, trackless trolley\\',\\n 875: \\'trombone\\',\\n 876: \\'tub, vat\\',\\n 877: \\'turnstile\\',\\n 878: \\'typewriter keyboard\\',\\n 879: \\'umbrella\\',\\n 880: \\'unicycle, monocycle\\',\\n 881: \\'upright, upright piano\\',\\n 882: \\'vacuum, vacuum cleaner\\',\\n 883: \\'vase\\',\\n 884: \\'vault\\',\\n 885: \\'velvet\\',\\n 886: \\'vending machine\\',\\n 887: \\'vestment\\',\\n 888: \\'viaduct\\',\\n 889: \\'violin, fiddle\\',\\n 890: \\'volleyball\\',\\n 891: \\'waffle iron\\',\\n 892: \\'wall clock\\',\\n 893: \\'wallet, billfold, notecase, pocketbook\\',\\n 894: \\'wardrobe, closet, press\\',\\n 895: \\'warplane, military plane\\',\\n 896: \\'washbasin, handbasin, washbowl, lavabo, wash-hand basin\\',\\n 897: \\'washer, automatic washer, washing machine\\',\\n 898: \\'water bottle\\',\\n 899: \\'water jug\\',\\n 900: \\'water tower\\',\\n 901: \\'whiskey jug\\',\\n 902: \\'whistle\\',\\n 903: \\'wig\\',\\n 904: \\'window screen\\',\\n 905: \\'window shade\\',\\n 906: \\'Windsor tie\\',\\n 907: \\'wine bottle\\',\\n 908: \\'wing\\',\\n 909: \\'wok\\',\\n 910: \\'wooden spoon\\',\\n 911: \\'wool, woolen, woollen\\',\\n 912: \\'worm fence, snake fence, snake-rail fence, Virginia fence\\',\\n 913: \\'wreck\\',\\n 914: \\'yawl\\',\\n 915: \\'yurt\\',\\n 916: \\'web site, website, internet site, site\\',\\n 917: \\'comic book\\',\\n 918: \\'crossword puzzle, crossword\\',\\n 919: \\'street sign\\',\\n 920: \\'traffic light, traffic signal, stoplight\\',\\n 921: \\'book jacket, dust cover, dust jacket, dust wrapper\\',\\n 922: \\'menu\\',\\n 923: \\'plate\\',\\n 924: \\'guacamole\\',\\n 925: \\'consomme\\',\\n 926: \\'hot pot, hotpot\\',\\n 927: \\'trifle\\',\\n 928: \\'ice cream, icecream\\',\\n 929: \\'ice lolly, lolly, lollipop, popsicle\\',\\n 930: \\'French loaf\\',\\n 931: \\'bagel, beigel\\',\\n 932: \\'pretzel\\',\\n 933: \\'cheeseburger\\',\\n 934: \\'hotdog, hot dog, red hot\\',\\n 935: \\'mashed potato\\',\\n 936: \\'head cabbage\\',\\n 937: \\'broccoli\\',\\n 938: \\'cauliflower\\',\\n 939: \\'zucchini, courgette\\',\\n 940: \\'spaghetti squash\\',\\n 941: \\'acorn squash\\',\\n 942: \\'butternut squash\\',\\n 943: \\'cucumber, cuke\\',\\n 944: \\'artichoke, globe artichoke\\',\\n 945: \\'bell pepper\\',\\n 946: \\'cardoon\\',\\n 947: \\'mushroom\\',\\n 948: \\'Granny Smith\\',\\n 949: \\'strawberry\\',\\n 950: \\'orange\\',\\n 951: \\'lemon\\',\\n 952: \\'fig\\',\\n 953: \\'pineapple, ananas\\',\\n 954: \\'banana\\',\\n 955: \\'jackfruit, jak, jack\\',\\n 956: \\'custard apple\\',\\n 957: \\'pomegranate\\',\\n 958: \\'hay\\',\\n 959: \\'carbonara\\',\\n 960: \\'chocolate sauce, chocolate syrup\\',\\n 961: \\'dough\\',\\n 962: \\'meat loaf, meatloaf\\',\\n 963: \\'pizza, pizza pie\\',\\n 964: \\'potpie\\',\\n 965: \\'burrito\\',\\n 966: \\'red wine\\',\\n 967: \\'espresso\\',\\n 968: \\'cup\\',\\n 969: \\'eggnog\\',\\n 970: \\'alp\\',\\n 971: \\'bubble\\',\\n 972: \\'cliff, drop, drop-off\\',\\n 973: \\'coral reef\\',\\n 974: \\'geyser\\',\\n 975: \\'lakeside, lakeshore\\',\\n 976: \\'promontory, headland, head, foreland\\',\\n 977: \\'sandbar, sand bar\\',\\n 978: \\'seashore, coast, seacoast, sea-coast\\',\\n 979: \\'valley, vale\\',\\n 980: \\'volcano\\',\\n 981: \\'ballplayer, baseball player\\',\\n 982: \\'groom, bridegroom\\',\\n 983: \\'scuba diver\\',\\n 984: \\'rapeseed\\',\\n 985: \\'daisy\\',\\n 986: \"yellow lady\\'s slipper, yellow lady-slipper, Cypripedium calceolus, Cypripedium parviflorum\",\\n 987: \\'corn\\',\\n 988: \\'acorn\\',\\n 989: \\'hip, rose hip, rosehip\\',\\n 990: \\'buckeye, horse chestnut, conker\\',\\n 991: \\'coral fungus\\',\\n 992: \\'agaric\\',\\n 993: \\'gyromitra\\',\\n 994: \\'stinkhorn, carrion fungus\\',\\n 995: \\'earthstar\\',\\n 996: \\'hen-of-the-woods, hen of the woods, Polyporus frondosus, Grifola frondosa\\',\\n 997: \\'bolete\\',\\n 998: \\'ear, spike, capitulum\\',\\n 999: \\'toilet tissue, toilet paper, bathroom tissue\\'}'}"
            ]
          },
          "metadata": {
            "tags": []
          },
          "execution_count": 34
        }
      ]
    },
    {
      "cell_type": "code",
      "metadata": {
        "id": "FRQNtF1uzNor",
        "outputId": "1d952717-234b-4354-e4fb-587e772d721e",
        "colab": {
          "base_uri": "https://localhost:8080/",
          "height": 185
        }
      },
      "source": [
        "file_name = \"imagenet1000.txt\"\n",
        "labels = [line.strip() for line in file_name.readlines()]"
      ],
      "execution_count": null,
      "outputs": [
        {
          "output_type": "error",
          "ename": "AttributeError",
          "evalue": "ignored",
          "traceback": [
            "\u001b[0;31m---------------------------------------------------------------------------\u001b[0m",
            "\u001b[0;31mAttributeError\u001b[0m                            Traceback (most recent call last)",
            "\u001b[0;32m<ipython-input-35-11b15720ab78>\u001b[0m in \u001b[0;36m<module>\u001b[0;34m()\u001b[0m\n\u001b[1;32m      1\u001b[0m \u001b[0mfile_name\u001b[0m \u001b[0;34m=\u001b[0m \u001b[0;34m\"imagenet1000.txt\"\u001b[0m\u001b[0;34m\u001b[0m\u001b[0;34m\u001b[0m\u001b[0m\n\u001b[0;32m----> 2\u001b[0;31m \u001b[0mlabels\u001b[0m \u001b[0;34m=\u001b[0m \u001b[0;34m[\u001b[0m\u001b[0mline\u001b[0m\u001b[0;34m.\u001b[0m\u001b[0mstrip\u001b[0m\u001b[0;34m(\u001b[0m\u001b[0;34m)\u001b[0m \u001b[0;32mfor\u001b[0m \u001b[0mline\u001b[0m \u001b[0;32min\u001b[0m \u001b[0mfile_name\u001b[0m\u001b[0;34m.\u001b[0m\u001b[0mreadlines\u001b[0m\u001b[0;34m(\u001b[0m\u001b[0;34m)\u001b[0m\u001b[0;34m]\u001b[0m\u001b[0;34m\u001b[0m\u001b[0;34m\u001b[0m\u001b[0m\n\u001b[0m",
            "\u001b[0;31mAttributeError\u001b[0m: 'str' object has no attribute 'readlines'"
          ]
        }
      ]
    },
    {
      "cell_type": "markdown",
      "metadata": {
        "id": "e2fB50KtBqmn"
      },
      "source": [
        "##**Bibliografia**\n",
        "[1]Deep Learning with PyTorch, Eli Stevens,Luca Atiaga,Thomas Viehman.\n",
        "[2]https://github.com/pytorch/vision"
      ]
    }
  ]
}