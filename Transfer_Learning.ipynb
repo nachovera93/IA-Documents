{
  "nbformat": 4,
  "nbformat_minor": 0,
  "metadata": {
    "colab": {
      "name": "Transfer-Learning.ipynb",
      "provenance": [],
      "authorship_tag": "ABX9TyOgwY82pDMrE12y4GKQgBUB",
      "include_colab_link": true
    },
    "kernelspec": {
      "name": "python3",
      "display_name": "Python 3"
    }
  },
  "cells": [
    {
      "cell_type": "markdown",
      "metadata": {
        "id": "view-in-github",
        "colab_type": "text"
      },
      "source": [
        "<a href=\"https://colab.research.google.com/github/nachovera93/IA-Documents/blob/main/Transfer_Learning.ipynb\" target=\"_parent\"><img src=\"https://colab.research.google.com/assets/colab-badge.svg\" alt=\"Open In Colab\"/></a>"
      ]
    },
    {
      "cell_type": "markdown",
      "metadata": {
        "id": "c3hUSLeRh0tH"
      },
      "source": [
        "#**Data Augmentation & Transfer Learning**\n",
        "\n",
        "<br>\n",
        "\n",
        "###**Data Augmentation**\n",
        "\n",
        "<br>\n",
        "\n",
        "* Esta basada en los datos ya existentes para generar aún mas datos.\n",
        "* Aplicando transformaciones al input, podremos generar diferentes ejemplos para cada input.\n",
        "* Cada uno de estos ejemplos es después usado para entrenar nuestro modelo.\n",
        "\n",
        "<br>\n",
        "\n",
        "###¿Por que?\n",
        "\n",
        "* Nos ayuda a tener una mejor performance en nuestro entrenamiento para el modelo\n",
        "* Nos ayuda a entrenar de manera robusta nuestro modelo.\n",
        "* Nos ayuda a balancear un modelo desbalanceado.\n",
        "\n",
        "<br>\n",
        "\n",
        "####**Cropping**\n",
        "\n",
        "* Recortar una imagen en pequeñas imagenes\n",
        "<br>\n",
        "\n",
        "![1](https://drive.google.com/uc?export=view&id=1j-8SetGQ1gKGtD06a4OEnfZdnHvV6K1A)\n",
        "\n",
        "####**Flips**\n",
        "\n",
        "* Cambiar la imagen haciendo reflexiones verticalmente y horizontalmente.\n",
        "<br>\n",
        "\n",
        "![2](https://drive.google.com/uc?export=view&id=1riinJBK1BTRNrIIfIpbgsOYqekWWvn4g)\n",
        "\n",
        "####**Rotaciones**\n",
        "\n",
        "* Se debe tener cuidado con las esquinas\n",
        "<br>\n",
        "\n",
        "![3](https://drive.google.com/uc?export=view&id=1px7MaqOpu2V14fKmxGIYpaDw_PH_hXrO)\n",
        "\n",
        "####**Light**\n",
        "\n",
        "<br>\n",
        "\n",
        "![4](https://drive.google.com/uc?export=view&id=1YSck70B4nVnRMjrXvn2drgMmmrs8ZS8O)\n",
        "\n",
        "\n",
        "####**Mixup**\n",
        "\n",
        "<br>\n",
        "\n",
        "![5](https://drive.google.com/uc?export=view&id=1Ok0E3P62v4IvaGtG_wzoB8bYYzkAkltp)\n",
        "\n",
        "<br>\n",
        "\n",
        "####**Data Augmentation: AlexNet**\n",
        "\n",
        "<br>\n",
        "\n",
        "![6](https://drive.google.com/uc?export=view&id=1XLvFbJxxpWgBHbKvXvVUSEy89XLlkYZm)\n",
        "\n",
        "\n",
        "\n",
        "\n",
        "\n",
        "\n",
        "\n"
      ]
    },
    {
      "cell_type": "markdown",
      "metadata": {
        "id": "ispF0_2nUv5V"
      },
      "source": [
        "###**Transfer Learning**\n",
        "\n",
        "<br>\n",
        "\n",
        "* Aprender un modelo usando un buen dataset: **Source Dataset**\n",
        "* Tranferir el conocimiento a un segundo dataset: **Target dataset** \n",
        "* Como?, varias tecnicas. **Finetuning** es la mas popular\n",
        "* Cuando? \n",
        " * Conjunto de datos enriquecido con muchas anotaciones(usado como source dataset)\n",
        " * Conjunto de datos relacionado pero pobre con un numero limitadi de anotaciones(target dataset)\n",
        "\n",
        "<br>\n",
        "\n",
        "####**Receta general**\n",
        "\n",
        "![7](https://drive.google.com/uc?export=view&id=1VL_oS0PW9J5KV6Qm0IKEtF7iN4mt9o5z)\n",
        "\n",
        "<br>\n",
        "\n",
        "Congelar el modelo(quiere decir que no se volvera a entrenar). La idea del transfer learning es dejar la red como esta y modificar las ultimas partes.\n",
        "\n",
        "![8](https://drive.google.com/uc?export=view&id=1ZMCchC3rTRxiu3jisR8SDssscrdlqkxw)\n",
        "\n",
        "![9](https://drive.google.com/uc?export=view&id=1sikxLgI2nWq3Rco8CPAm64ACkbYLyGa0)\n",
        "\n",
        "![10](https://drive.google.com/uc?export=view&id=1jH4-7E39Arp7PElZTLcP-DL3tE-nEsTA)"
      ]
    },
    {
      "cell_type": "code",
      "metadata": {
        "id": "vgkDq7mfhdHZ"
      },
      "source": [
        ""
      ],
      "execution_count": null,
      "outputs": []
    }
  ]
}